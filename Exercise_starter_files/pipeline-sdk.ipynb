{
  "cells": [
    {
      "cell_type": "code",
      "source": [
        "# AzureML and Pipeline SDK specific imports\r\n",
        "\r\n",
        "import logging\r\n",
        "import os\r\n",
        "import csv\r\n",
        "\r\n",
        "from matplotlib import pyplot as plt\r\n",
        "import numpy as py\r\n",
        "import pandas as pd\r\n",
        "from sklearn import datasets\r\n",
        "import pkg_resources\r\n",
        "\r\n",
        "import azureml.core\r\n",
        "from azureml.core.experiment import Experiment\r\n",
        "from azureml.core.workspace import Workspace\r\n",
        "from azureml.train.automl import AutoMLConfig\r\n",
        "from azureml.core.dataset import Dataset\r\n",
        "\r\n",
        "from azureml.pipeline.steps import AutoMLStep\r\n",
        "\r\n",
        "print(\"SDK version:\", azureml.core.VERSION)\r\n",
        "\r\n",
        "##\r\n",
        "# Initialize worksace\r\n",
        "##\r\n",
        "ws = Workspace.from_config()\r\n",
        "print(ws.name, ws.resource_group, ws.location, ws.subscription_id, sep = '\\n')"
      ],
      "outputs": [
        {
          "output_type": "stream",
          "name": "stdout",
          "text": [
            "SDK version: 1.18.0\n",
            "quick-starts-ws-127608\n",
            "aml-quickstarts-127608\n",
            "southcentralus\n",
            "0c5a644d-c5ce-4e3b-bf42-4cb265317817\n"
          ]
        }
      ],
      "execution_count": 4,
      "metadata": {
        "collapsed": true,
        "jupyter": {
          "source_hidden": false,
          "outputs_hidden": false
        },
        "nteract": {
          "transient": {
            "deleting": false
          }
        },
        "gather": {
          "logged": 1606166398623
        }
      }
    },
    {
      "cell_type": "code",
      "source": [
        "\r\n",
        "\r\n",
        "##\r\n",
        "# Create Azure ML Experiment\r\n",
        "#\r\n",
        "experiment_name = 'ml-experiment-bike-1'\r\n",
        "project_folder = './pipeline-project-bike'\r\n",
        "experiment = Experiment(ws, experiment_name)\r\n",
        "experiment\r\n",
        "\r\n",
        "\r\n",
        "##\r\n",
        "# Create or Attach AmlCompute cluster (for training)\r\n",
        "#\r\n",
        "from azureml.core.compute import AmlCompute\r\n",
        "from azureml.core.compute import ComputeTarget\r\n",
        "from azureml.core.compute_target import ComputeTargetException\r\n",
        "\r\n",
        "amlcompute_cluster_name = 'cluster-bike-1'\r\n",
        "\r\n",
        "try:\r\n",
        "\tcompute_target = ComputeTarget (workspace=ws, name=amlcompute_cluster_name)\r\n",
        "\tprint('Found existing cluster. Using it.')\r\n",
        "except ComputeTargetException:\r\n",
        "\tcompute_config = AmlCompute.provisioning_configuration(vm_size='STANDARD_D2_V2',# for GPU, use \"STANDARD_NC6\"\r\n",
        "                                                           #vm_priority = 'lowpriority', # optional\r\n",
        "                                                           max_nodes=4)\r\n",
        "\tcompute_target=ComputeTarget.create(ws, amlcompute_cluster_name, compute_config)\r\n",
        "\r\n",
        "compute_target.wait_for_completion(show_output=True, min_node_count=1, timeout_in_minutes=10)\t\r\n",
        "\r\n"
      ],
      "outputs": [],
      "execution_count": null,
      "metadata": {
        "collapsed": true,
        "jupyter": {
          "source_hidden": false,
          "outputs_hidden": false
        },
        "nteract": {
          "transient": {
            "deleting": false
          }
        }
      }
    },
    {
      "cell_type": "code",
      "source": [
        "\r\n",
        "##\r\n",
        "# Prepare Dataset\r\n",
        "#\r\n",
        "found = False\r\n",
        "key = \"Bikesharing Dataset\"\r\n",
        "description_text = \"Bike Sharing Dataset for Udacity ND\"\r\n",
        "\r\n",
        "if key in ws.dataset.keys():\r\n",
        "\tfound = True\r\n",
        "\tdataset = ws.datasets[key]\r\n",
        "\t\r\n",
        "if not found:\r\n",
        "\texperiment_data = 'https://raw.githubusercontent.com/Azure/MachineLearningNotebooks/master/how-to-use-azureml/automated-machine-learning/forecasting-bike-share/bike-no.csv'\r\n",
        "\tdataset = Dataset.tabular.from_delimited_files(experiment_data)\r\n",
        "\tdateset = dataset.register(worspace = ws,\r\n",
        "\t\t\t\t\t\t\t\tname = key,\r\n",
        "\t\t\t\t\t\t\t\tdescription = description_text)\r\n",
        "\t\r\n",
        "dframe = dataset.to_pandas_dataframe()\r\n",
        "dframe.describe()\r\n",
        "dataset.take(5).to_pandas_dataframe"
      ],
      "outputs": [],
      "execution_count": null,
      "metadata": {
        "collapsed": true,
        "jupyter": {
          "source_hidden": false,
          "outputs_hidden": false
        },
        "nteract": {
          "transient": {
            "deleting": false
          }
        }
      }
    },
    {
      "cell_type": "code",
      "source": [
        "\r\n",
        "\r\n",
        "##\r\n",
        "# Train model on AutoML\r\n",
        "#\r\n",
        "automl_settings = {\r\n",
        "\t\t\"experiment_timeout_minutes\": 20,\r\n",
        "\t\t\"max_concurrent_iterations\": 4,\r\n",
        "\t\t\"primary_metric\": 'normalized_root_mean_squared_error',\r\n",
        "\t\t\"n_cross_validations\": 5\r\n",
        "}\r\n",
        "automl_config = AutoMLConfig(compute_target = compute_target,\r\n",
        "\t\t\t\t\t\t\ttask = \"forecasting\",\r\n",
        "\t\t\t\t\t\t\ttraining_data = dataset,\r\n",
        "\t\t\t\t\t\t\ttime_column_name = \"date\",\r\n",
        "\t\t\t\t\t\t\tlabel_column_name = \"cnt\",\r\n",
        "\t\t\t\t\t\t\tenable_early_stopping = True,\r\n",
        "\t\t\t\t\t\t\tpath = project_folder,\r\n",
        "\t\t\t\t\t\t\t# featurization = 'auto',\r\n",
        "\t\t\t\t\t\t\tdebug_log = \"automl_errors.log\",\r\n",
        "\t\t\t\t\t\t\t**automl_settings\r\n",
        "\t\t\t\t\t\t\t)\r\n",
        "\r\n",
        "##\r\n",
        "# Train model on AutoML\r\n",
        "# Create pipeline and AutoML step\r\n",
        "#\r\n",
        "from azureml.pipeline.core import PipelineData, TrainingOutput\r\n",
        "datastore = ws.get_default_datastore()\r\n",
        "metrics_output_name = 'metrics_output'\r\n",
        "best_model_output_name = 'best_model_output'\r\n",
        "metrics_data = PipelineData(name = 'metrics_data',\r\n",
        "\t\t\t\t\t\t\tdatastore = datastore,\r\n",
        "\t\t\t\t\t\t\tpipeline_output_name = metrics_output_name,\r\n",
        "\t\t\t\t\t\t\ttraining_output = TrainingOutput(type = 'Metrics')\r\n",
        "\t\t\t\t\t\t\t)\r\n",
        "model_data = PipelineData(name = 'model_data',\r\n",
        "\t\t\t\t\t\t\tdatastore = datastore,\r\n",
        "\t\t\t\t\t\t\tpipeline_output_name = best_model_output_name,\r\n",
        "\t\t\t\t\t\t\ttraining_output = TrainingOutput(type = 'Model')\r\n",
        "\t\t\t\t\t\t\t)\r\n",
        "# AutoML step\r\n",
        "from azureml.pipeline.core import Pipeline\r\n",
        "from azureml.wiegets import RunDetails\r\n",
        "automl_step = AutoMLStep(name = 'automl_module',\r\n",
        "\t\t\t\t\t\tautoml_config = automl_config,\r\n",
        "\t\t\t\t\t\toutputs = [metrics_data, model_data]\r\n",
        "\t\t\t\t\t\talow_reuse = True\r\n",
        "\t\t\t\t\t\t)\r\n",
        "pipeline = Pipeline (description = \"pipeline_w_automl_step\",\r\n",
        "\t\t\t\t\tworkspace = ws,\r\n",
        "\t\t\t\t\tsteps = automl_step\r\n",
        "\t\t\t\t\t)\r\n",
        "pipeline_run = experiment.submit(pipeline)\r\n",
        "RunDetails(pipeline_run).show()\r\n",
        "pipeline_run.wait_for_completion()"
      ],
      "outputs": [],
      "execution_count": null,
      "metadata": {
        "collapsed": true,
        "jupyter": {
          "source_hidden": false,
          "outputs_hidden": false
        },
        "nteract": {
          "transient": {
            "deleting": false
          }
        }
      }
    },
    {
      "cell_type": "code",
      "source": [
        "\r\n",
        "\r\n",
        "##\r\n",
        "# Examine results - retreive metrics of child runs\r\n",
        "#\r\n",
        "import json\r\n",
        "metrics_output = pipeline_run.get_pipeline_output(metrics_output_name)\r\n",
        "num_file_downloaded = metrics_output.download('.', show_progress = True)\r\n",
        "with open(metrics_output._path_on_datastore) as f:\r\n",
        "\tmetrics_output_result = f.read()\r\n",
        "deserialized_metrisc_output = json.loads(metrics_output_result)\r\n",
        "df = pd.DataFrame(deserialized_metrisc_output)\r\n",
        "df\r\n",
        "\r\n",
        "##\r\n",
        "# Examine results - retreive best model\r\n",
        "#\r\n",
        "import pickle\r\n",
        "best_model_output = pipeline_run._path_on_datastore(best_model_output_name)\r\n",
        "num_file_downloaded = best_model_output.download('.', show_progress = True)\r\n",
        "with open(best_model_output._path_on_datastore, \"rb\") as f:\r\n",
        "\tbest_model = pickle.load(f)\r\n",
        "best_model\r\n",
        "best_model.steps\r\n",
        "\r\n"
      ],
      "outputs": [],
      "execution_count": null,
      "metadata": {}
    },
    {
      "cell_type": "code",
      "source": [
        "##\r\n",
        "# Publish and run from REST endpoint\r\n",
        "#\r\n",
        "ws = Workspace.from_config()\r\n",
        "print (ws.name, ws.location, ws.resource_group, ws.subscription_id, sep = '\\n')\r\n",
        "\r\n",
        "experiment_name = 'ml-experiment-bike-1'\r\n",
        "project_folder = './pipeline-project-bike'\r\n",
        "experiment = Experiment(ws, experiment_name)\r\n",
        "experiment\r\n",
        "\r\n",
        "from azureml.pipeline.core import PipelineRun\r\n",
        "run_id = \"78e729c3-4746-417f-ad9a-abe970f4966f\" #update\r\n",
        "pipeline_run = PipelineRun(ws, run_id)\r\n",
        "\r\n",
        "published_pipeline = pipeline_run.publish_pipeline(name = \"Bike sharing training\",\r\n",
        "\t\t\t\t\t\t\t\t\t\t\t\t\tdescription = \"Training bike sharing pipeline\",\r\n",
        "\t\t\t\t\t\t\t\t\t\t\t\t\tversion = \"1.0\"\r\n",
        "\t\t\t\t\t\t\t\t\t\t\t\t\t)\r\n",
        "published_pipeline\r\n",
        "\r\n",
        "from azureml.core.authentication import InteractiveLoginAuthentication\r\n",
        "interactive_auth = InteractiveLoginAuthentication()\r\n",
        "auth_header = interactive_auth.get_authentication_header()\r\n",
        "\r\n",
        "import requests\r\n",
        "rest_endpoint = published_pipeline.endpoint\r\n",
        "response = request.post(rest_endpoint,\r\n",
        "\t\t\t\t\t\theaders = auth_header,\r\n",
        "\t\t\t\t\t\tjson={\"ExperimentName\": \"bike-pipeline-rest-endpoint\"}\r\n",
        "\t\t\t\t\t\t)\r\n",
        "\r\n",
        "try:\r\n",
        "\tresponse.raise_for_status()\r\n",
        "except Exception:\r\n",
        "\traise Exception(\"Received bad response from endpoint: {}\\n\"\r\n",
        "\t\t\t\t\t\"Response Code: {}\\n\"\r\n",
        "\t\t\t\t\t\"Headers: {}\\n\"\r\n",
        "\t\t\t\t\t\"Content: {}\".format(rest_endpoint, resonse.status_code, response.headers, response.content)\r\n",
        "\t\t\t\t\t)\r\n",
        "run_id = response.json().get('Id')\r\n",
        "print('Submitted pipeline run: ', run_id)\r\n",
        "\r\n",
        "from azureml.pipeline.core.run import PipelineRun\r\n",
        "from azureml.widgets import RunDetails\r\n",
        "published_pipeline_run = PipelineRun)ws.experiments[\"bike-pipeline-rest-endpoint\"], run_id)\r\n",
        "RunDetails(published_pipeline_run).show()"
      ],
      "outputs": [],
      "execution_count": null,
      "metadata": {
        "collapsed": true,
        "jupyter": {
          "source_hidden": false,
          "outputs_hidden": false
        },
        "nteract": {
          "transient": {
            "deleting": false
          }
        }
      }
    }
  ],
  "metadata": {
    "kernelspec": {
      "name": "python3-azureml",
      "language": "python",
      "display_name": "Python 3.6 - AzureML"
    },
    "language_info": {
      "name": "python",
      "version": "3.6.9",
      "mimetype": "text/x-python",
      "codemirror_mode": {
        "name": "ipython",
        "version": 3
      },
      "pygments_lexer": "ipython3",
      "nbconvert_exporter": "python",
      "file_extension": ".py"
    },
    "kernel_info": {
      "name": "python3-azureml"
    },
    "nteract": {
      "version": "nteract-front-end@1.0.0"
    }
  },
  "nbformat": 4,
  "nbformat_minor": 2
}