{
 "cells": [
  {
   "cell_type": "markdown",
   "metadata": {},
   "source": [
    "# Automated ML\n",
    "\n",
    "The following cell contains commands to import all the dependencies for the project."
   ]
  },
  {
   "cell_type": "code",
   "execution_count": 1,
   "metadata": {
    "gather": {
     "logged": 1613164857410
    },
    "jupyter": {
     "outputs_hidden": false,
     "source_hidden": false
    },
    "nteract": {
     "transient": {
      "deleting": false
     }
    }
   },
   "outputs": [],
   "source": [
    "import logging\n",
    "import os\n",
    "import csv\n",
    "\n",
    "from matplotlib import pyplot as plt\n",
    "import numpy as np\n",
    "import pandas as pd\n",
    "from sklearn import datasets\n",
    "import pkg_resources\n",
    "\n",
    "import azureml.core\n",
    "from azureml.core.experiment import Experiment\n",
    "from azureml.core.workspace import Workspace\n",
    "from azureml.train.automl import AutoMLConfig\n",
    "from azureml.core.dataset import Dataset\n",
    "\n",
    "from azureml.pipeline.steps import AutoMLStep"
   ]
  },
  {
   "cell_type": "markdown",
   "metadata": {},
   "source": [
    "## Dataset\n",
    "\n",
    "### Overview\n",
    "In this markdown cell, we give an overview of the dataset used and the task we will be performing.\n",
    "\n",
    "The data used for training of the models is obtained from publicly UCI Machine Learning Repository. The dataset contains 1599 records of eleven red wine physicochemical properties and one output variable 'quality' as sensory data denoting perceived quality of wine according to human taste. Quality is scored from 0 to 10, latest denoting the highest quality. Classes are not balanced and there are more 'ordinary' wines than high or poor quality ones (P. Cortez, A. Cerdeira, F. Almeida, T. Matos and J. Reis., Modeling wine preferences by data mining from physicochemical properties. In Decision Support Systems, Elsevier, 47(4):547-553, 2009.). The data can be used both for regression and classification machine learning tasks.\n",
    "\n",
    "Our task will be to train the classification model to predict quality of unknown wine by its physicochemical properties. As starting point we will remove all missing data, as we have to be certain that we are using the clean dataset for training. \n",
    "\n",
    "The next cell contains the code we use to access the data used in this project. This dataset is external in regard to Microsoft Azure ML. The manual process of providing dataset for training is described in README.md file and if performed it is not necessary to run the next cell."
   ]
  },
  {
   "cell_type": "code",
   "execution_count": 2,
   "metadata": {
    "gather": {
     "logged": 1613164873147
    },
    "jupyter": {
     "outputs_hidden": false,
     "source_hidden": false
    },
    "nteract": {
     "transient": {
      "deleting": false
     }
    }
   },
   "outputs": [
    {
     "data": {
      "text/html": [
       "<div>\n",
       "<style scoped>\n",
       "    .dataframe tbody tr th:only-of-type {\n",
       "        vertical-align: middle;\n",
       "    }\n",
       "\n",
       "    .dataframe tbody tr th {\n",
       "        vertical-align: top;\n",
       "    }\n",
       "\n",
       "    .dataframe thead th {\n",
       "        text-align: right;\n",
       "    }\n",
       "</style>\n",
       "<table border=\"1\" class=\"dataframe\">\n",
       "  <thead>\n",
       "    <tr style=\"text-align: right;\">\n",
       "      <th></th>\n",
       "      <th>fixed acidity</th>\n",
       "      <th>volatile acidity</th>\n",
       "      <th>citric acid</th>\n",
       "      <th>residual sugar</th>\n",
       "      <th>chlorides</th>\n",
       "      <th>free sulfur dioxide</th>\n",
       "      <th>total sulfur dioxide</th>\n",
       "      <th>density</th>\n",
       "      <th>pH</th>\n",
       "      <th>sulphates</th>\n",
       "      <th>alcohol</th>\n",
       "      <th>quality</th>\n",
       "    </tr>\n",
       "  </thead>\n",
       "  <tbody>\n",
       "    <tr>\n",
       "      <th>0</th>\n",
       "      <td>7.4</td>\n",
       "      <td>0.70</td>\n",
       "      <td>0.00</td>\n",
       "      <td>1.9</td>\n",
       "      <td>0.076</td>\n",
       "      <td>11</td>\n",
       "      <td>34</td>\n",
       "      <td>0.9978</td>\n",
       "      <td>3.51</td>\n",
       "      <td>0.56</td>\n",
       "      <td>9.4</td>\n",
       "      <td>5</td>\n",
       "    </tr>\n",
       "    <tr>\n",
       "      <th>1</th>\n",
       "      <td>7.8</td>\n",
       "      <td>0.88</td>\n",
       "      <td>0.00</td>\n",
       "      <td>2.6</td>\n",
       "      <td>0.098</td>\n",
       "      <td>25</td>\n",
       "      <td>67</td>\n",
       "      <td>0.9968</td>\n",
       "      <td>3.20</td>\n",
       "      <td>0.68</td>\n",
       "      <td>9.8</td>\n",
       "      <td>5</td>\n",
       "    </tr>\n",
       "    <tr>\n",
       "      <th>2</th>\n",
       "      <td>7.8</td>\n",
       "      <td>0.76</td>\n",
       "      <td>0.04</td>\n",
       "      <td>2.3</td>\n",
       "      <td>0.092</td>\n",
       "      <td>15</td>\n",
       "      <td>54</td>\n",
       "      <td>0.9970</td>\n",
       "      <td>3.26</td>\n",
       "      <td>0.65</td>\n",
       "      <td>9.8</td>\n",
       "      <td>5</td>\n",
       "    </tr>\n",
       "    <tr>\n",
       "      <th>3</th>\n",
       "      <td>11.2</td>\n",
       "      <td>0.28</td>\n",
       "      <td>0.56</td>\n",
       "      <td>1.9</td>\n",
       "      <td>0.075</td>\n",
       "      <td>17</td>\n",
       "      <td>60</td>\n",
       "      <td>0.9980</td>\n",
       "      <td>3.16</td>\n",
       "      <td>0.58</td>\n",
       "      <td>9.8</td>\n",
       "      <td>6</td>\n",
       "    </tr>\n",
       "    <tr>\n",
       "      <th>4</th>\n",
       "      <td>7.4</td>\n",
       "      <td>0.70</td>\n",
       "      <td>0.00</td>\n",
       "      <td>1.9</td>\n",
       "      <td>0.076</td>\n",
       "      <td>11</td>\n",
       "      <td>34</td>\n",
       "      <td>0.9978</td>\n",
       "      <td>3.51</td>\n",
       "      <td>0.56</td>\n",
       "      <td>9.4</td>\n",
       "      <td>5</td>\n",
       "    </tr>\n",
       "  </tbody>\n",
       "</table>\n",
       "</div>"
      ],
      "text/plain": [
       "   fixed acidity  volatile acidity  citric acid  residual sugar  chlorides  \\\n",
       "0            7.4              0.70         0.00             1.9      0.076   \n",
       "1            7.8              0.88         0.00             2.6      0.098   \n",
       "2            7.8              0.76         0.04             2.3      0.092   \n",
       "3           11.2              0.28         0.56             1.9      0.075   \n",
       "4            7.4              0.70         0.00             1.9      0.076   \n",
       "\n",
       "   free sulfur dioxide  total sulfur dioxide  density    pH  sulphates  \\\n",
       "0                   11                    34   0.9978  3.51       0.56   \n",
       "1                   25                    67   0.9968  3.20       0.68   \n",
       "2                   15                    54   0.9970  3.26       0.65   \n",
       "3                   17                    60   0.9980  3.16       0.58   \n",
       "4                   11                    34   0.9978  3.51       0.56   \n",
       "\n",
       "   alcohol  quality  \n",
       "0      9.4        5  \n",
       "1      9.8        5  \n",
       "2      9.8        5  \n",
       "3      9.8        6  \n",
       "4      9.4        5  "
      ]
     },
     "execution_count": 2,
     "metadata": {},
     "output_type": "execute_result"
    }
   ],
   "source": [
    "ws = Workspace.from_config()\n",
    "\n",
    "# Designate a name for experiment\n",
    "experiment_name = 'wine-quality-automl-experiment'\n",
    "\n",
    "experiment=Experiment(ws, experiment_name)\n",
    "\n",
    "# Attempt to load the dataset from the Workspace. Otherwise,\n",
    "# Prepare Dataset from external data\n",
    "# Data located at: 'https://archive.ics.uci.edu/ml/machine-learning-databases/wine-quality/winequality-red.csv'\n",
    "# \n",
    "found = False\n",
    "key = \"wine-quality\"\n",
    "description_text = \"Wine Quality DataSet for Udacity Capstone Project\"\n",
    "\n",
    "if key in ws.datasets.keys(): \n",
    "        found = True\n",
    "        ds = ws.datasets[key] \n",
    "\n",
    "if not found:\n",
    "        # Create AutoML Dataset and register it into Workspace\n",
    "        web_uri = 'https://archive.ics.uci.edu/ml/machine-learning-databases/wine-quality/winequality-red.csv'\n",
    "        ds = Dataset.Tabular.from_delimited_files(web_uri, separator=';', header='ALL_FILES_HAVE_SAME_HEADERS')        \n",
    "        #Register Dataset in Workspace\n",
    "        ds = ds.register(workspace=ws,\n",
    "                                   name=key,\n",
    "                                   description=description_text)\n",
    "        \n",
    "dframe = ds.to_pandas_dataframe()\n",
    "dframe.describe()\n",
    "ds.take(5).to_pandas_dataframe()"
   ]
  },
  {
   "cell_type": "markdown",
   "metadata": {},
   "source": [
    "If manual creation of compute target was skipped, following two cells should be run. The first one creates needed compute resource for model training and the second creates folder structure for outputs."
   ]
  },
  {
   "cell_type": "code",
   "execution_count": 24,
   "metadata": {},
   "outputs": [
    {
     "name": "stdout",
     "output_type": "stream",
     "text": [
      "Creating a new compute target...\n",
      "CreatingAmlCompute is getting created. Consider calling wait_for_completion() first\n",
      "\n",
      "\n",
      "Succeeded\n",
      "AmlCompute wait for completion finished\n",
      "\n",
      "Minimum number of nodes requested have been provisioned\n",
      "{'currentNodeCount': 0, 'targetNodeCount': 0, 'nodeStateCounts': {'preparingNodeCount': 0, 'runningNodeCount': 0, 'idleNodeCount': 0, 'unusableNodeCount': 0, 'leavingNodeCount': 0, 'preemptedNodeCount': 0}, 'allocationState': 'Steady', 'allocationStateTransitionTime': '2021-02-16T11:36:51.643000+00:00', 'errors': None, 'creationTime': '2021-02-16T11:36:49.007360+00:00', 'modifiedTime': '2021-02-16T11:37:04.761897+00:00', 'provisioningState': 'Succeeded', 'provisioningStateTransitionTime': None, 'scaleSettings': {'minNodeCount': 0, 'maxNodeCount': 10, 'nodeIdleTimeBeforeScaleDown': 'PT120S'}, 'vmPriority': 'Dedicated', 'vmSize': 'STANDARD_DS3_V2'}\n"
     ]
    }
   ],
   "source": [
    "from azureml.core.compute import ComputeTarget, AmlCompute\n",
    "from azureml.core.compute_target import ComputeTargetException\n",
    "\n",
    "ws = Workspace.from_config()\n",
    "\n",
    "# choose a name for compute\n",
    "compute_name = \"aml-compute\"\n",
    "\n",
    "try:\n",
    "    compute_target = ComputeTarget(workspace=ws, name=compute_name)\n",
    "    print('Found existing compute target')\n",
    "except ComputeTargetException:\n",
    "    print('Creating a new compute target...')\n",
    "    compute_config = AmlCompute.provisioning_configuration(vm_size='Standard_DS3_v2', \n",
    "                                                           max_nodes=10)\n",
    "\n",
    "    # create the cluster\n",
    "    compute_target = ComputeTarget.create(ws, compute_name, compute_config)\n",
    "\n",
    "# can poll for a minimum number of nodes and for a specific timeout. \n",
    "# if no min node count is provided it uses the scale settings for the cluster\n",
    "compute_target.wait_for_completion(show_output=True, min_node_count=None, timeout_in_minutes=20)\n",
    "\n",
    "# use get_status() to get a detailed status for the current cluster. \n",
    "print(compute_target.get_status().serialize())"
   ]
  },
  {
   "cell_type": "code",
   "execution_count": 4,
   "metadata": {},
   "outputs": [],
   "source": [
    "import os\n",
    "\n",
    "os.makedirs('./outputs', exist_ok=True)\n",
    "os.makedirs('./aml', exist_ok=True)\n",
    "os.makedirs('./scripts', exist_ok=True)"
   ]
  },
  {
   "cell_type": "code",
   "execution_count": 5,
   "metadata": {},
   "outputs": [],
   "source": [
    "# Providing dataset for AutoML models training\n",
    "dataset_name = 'wine-quality'\n",
    "dataset = Dataset.get_by_name(workspace=ws, name=dataset_name)"
   ]
  },
  {
   "cell_type": "markdown",
   "metadata": {},
   "source": [
    "## AutoML Configuration\n",
    "\n",
    "For this project we have selected classification task with accuracy as primary metric. There are many settings for AutoML experiment configuration. Reasoning for selecting certain settings may be saving resources and limiting duration of training time. Here we have limited time for training of all iterations set to 20 minutes and maximum of 5 concurrent iterations. Accuracy is most common metric for model comparison and therefore it was used here. Maximum concurrent iterations was set in order to keep within limits of compute resources available and experiment timeout was set in order to prevent overallocation of resources in case of divergent iterations."
   ]
  },
  {
   "cell_type": "code",
   "execution_count": 6,
   "metadata": {
    "gather": {
     "logged": 1613164883738
    },
    "jupyter": {
     "outputs_hidden": false,
     "source_hidden": false
    },
    "nteract": {
     "transient": {
      "deleting": false
     }
    }
   },
   "outputs": [],
   "source": [
    "# This section provides AutoML settings\n",
    "#\n",
    "automl_settings = {\n",
    "    \"experiment_timeout_minutes\": 20,\n",
    "    \"max_concurrent_iterations\": 5,\n",
    "    \"primary_metric\" : 'accuracy'\n",
    "                    }\n",
    "\n",
    "# The portion of AutoML config here\n",
    "#\n",
    "compute_target_name = \"aml-compute\"\n",
    "automl_config = AutoMLConfig(compute_target=compute_target_name,\n",
    "                             task = \"classification\",\n",
    "                             training_data=dataset,\n",
    "                             label_column_name=\"quality\",   \n",
    "                             path = \"./aml\",\n",
    "                             enable_early_stopping= True,\n",
    "                             featurization= 'auto',\n",
    "                             debug_log = \"automl_errors.log\",\n",
    "                             **automl_settings\n",
    "                            )"
   ]
  },
  {
   "cell_type": "code",
   "execution_count": 7,
   "metadata": {
    "gather": {
     "logged": 1613165208697
    },
    "jupyter": {
     "outputs_hidden": false,
     "source_hidden": false
    },
    "nteract": {
     "transient": {
      "deleting": false
     }
    },
    "scrolled": true
   },
   "outputs": [
    {
     "name": "stdout",
     "output_type": "stream",
     "text": [
      "Running on remote.\n"
     ]
    }
   ],
   "source": [
    "# Submit configured experiment\n",
    "#\n",
    "remote_run = experiment.submit(automl_config)"
   ]
  },
  {
   "cell_type": "markdown",
   "metadata": {},
   "source": [
    "## Run Details\n",
    "\n",
    "Azure Auto ML creates a number of pipelines in parallel and test different algorithms and parameters. Each iteration produces a model with a training score. In reality machine learning models operate under certain assumptions. One of the assumptions regards the data for model training. If the real data characteristics differs much from assumed data, then we may get a poor fit. Some models are more succeptible to overfit than others. In order to minimize the risk of overfit, we may combine several good models to get possibly an even better model, which is a technique called VotingEnsemble in case of Azure Auto ML.\n",
    "\n",
    "After submitting the experimet one of the ways to monitor progress of the experiment directly from the notebook is to use `RunDetails` widget, which gives the information like the one on captured screenshot below.\n",
    "\n",
    "![](https://github.com/DivkovicD/ML-Engineer-w-MS-Azure/blob/master/Screenshots/Screenshot%20of%20RunDetails%20widget%20showing%20the%20progress%20of%20training%20runs%20of%20different%20experiments%20v5.png?raw=true)\n",
    "\n",
    "In the cell below, we used the `RunDetails` widget to show the different experiments."
   ]
  },
  {
   "cell_type": "code",
   "execution_count": 8,
   "metadata": {
    "gather": {
     "logged": 1613165217940
    },
    "jupyter": {
     "outputs_hidden": false,
     "source_hidden": false
    },
    "nteract": {
     "transient": {
      "deleting": false
     }
    },
    "scrolled": true
   },
   "outputs": [
    {
     "data": {
      "application/vnd.jupyter.widget-view+json": {
       "model_id": "256f6bff34e24db5b310bf5f0468722d",
       "version_major": 2,
       "version_minor": 0
      },
      "text/plain": [
       "_AutoMLWidget(widget_settings={'childWidgetDisplay': 'popup', 'send_telemetry': False, 'log_level': 'INFO', 's…"
      ]
     },
     "metadata": {},
     "output_type": "display_data"
    },
    {
     "data": {
      "application/aml.mini.widget.v1": "{\"status\": \"Completed\", \"workbench_run_details_uri\": \"https://ml.azure.com/experiments/wine-quality-automl-experiment/runs/AutoML_7a5045ae-120b-4594-8551-6f31603fad12?wsid=/subscriptions/3e42d11f-d64d-4173-af9b-12ecaa1030b3/resourcegroups/aml-quickstarts-139013/workspaces/quick-starts-ws-139013\", \"run_id\": \"AutoML_7a5045ae-120b-4594-8551-6f31603fad12\", \"run_properties\": {\"run_id\": \"AutoML_7a5045ae-120b-4594-8551-6f31603fad12\", \"created_utc\": \"2021-02-16T10:17:04.2121Z\", \"properties\": {\"num_iterations\": \"1000\", \"training_type\": \"TrainFull\", \"acquisition_function\": \"EI\", \"primary_metric\": \"accuracy\", \"train_split\": \"0\", \"acquisition_parameter\": \"0\", \"num_cross_validation\": null, \"target\": \"aml-compute\", \"AMLSettingsJsonString\": \"{\\\"path\\\":null,\\\"name\\\":\\\"wine-quality-automl-experiment\\\",\\\"subscription_id\\\":\\\"3e42d11f-d64d-4173-af9b-12ecaa1030b3\\\",\\\"resource_group\\\":\\\"aml-quickstarts-139013\\\",\\\"workspace_name\\\":\\\"quick-starts-ws-139013\\\",\\\"region\\\":\\\"southcentralus\\\",\\\"compute_target\\\":\\\"aml-compute\\\",\\\"spark_service\\\":null,\\\"azure_service\\\":\\\"remote\\\",\\\"many_models\\\":false,\\\"pipeline_fetch_max_batch_size\\\":1,\\\"iterations\\\":1000,\\\"primary_metric\\\":\\\"accuracy\\\",\\\"task_type\\\":\\\"classification\\\",\\\"data_script\\\":null,\\\"validation_size\\\":0.0,\\\"n_cross_validations\\\":null,\\\"y_min\\\":null,\\\"y_max\\\":null,\\\"num_classes\\\":null,\\\"featurization\\\":\\\"auto\\\",\\\"_ignore_package_version_incompatibilities\\\":false,\\\"is_timeseries\\\":false,\\\"max_cores_per_iteration\\\":1,\\\"max_concurrent_iterations\\\":5,\\\"iteration_timeout_minutes\\\":null,\\\"mem_in_mb\\\":null,\\\"enforce_time_on_windows\\\":false,\\\"experiment_timeout_minutes\\\":20,\\\"experiment_exit_score\\\":null,\\\"whitelist_models\\\":null,\\\"blacklist_algos\\\":[\\\"TensorFlowLinearClassifier\\\",\\\"TensorFlowDNN\\\"],\\\"supported_models\\\":[\\\"SVM\\\",\\\"LogisticRegression\\\",\\\"SGD\\\",\\\"XGBoostClassifier\\\",\\\"DecisionTree\\\",\\\"ExtremeRandomTrees\\\",\\\"GradientBoosting\\\",\\\"KNN\\\",\\\"LightGBM\\\",\\\"AveragedPerceptronClassifier\\\",\\\"MultinomialNaiveBayes\\\",\\\"TensorFlowLinearClassifier\\\",\\\"RandomForest\\\",\\\"LinearSVM\\\",\\\"TensorFlowDNN\\\",\\\"BernoulliNaiveBayes\\\"],\\\"auto_blacklist\\\":true,\\\"blacklist_samples_reached\\\":false,\\\"exclude_nan_labels\\\":true,\\\"verbosity\\\":20,\\\"_debug_log\\\":\\\"azureml_automl.log\\\",\\\"show_warnings\\\":false,\\\"model_explainability\\\":true,\\\"service_url\\\":null,\\\"sdk_url\\\":null,\\\"sdk_packages\\\":null,\\\"enable_onnx_compatible_models\\\":false,\\\"enable_split_onnx_featurizer_estimator_models\\\":false,\\\"vm_type\\\":\\\"STANDARD_DS3_V2\\\",\\\"telemetry_verbosity\\\":20,\\\"send_telemetry\\\":true,\\\"enable_dnn\\\":false,\\\"scenario\\\":\\\"SDK-1.13.0\\\",\\\"environment_label\\\":null,\\\"force_text_dnn\\\":false,\\\"enable_feature_sweeping\\\":true,\\\"enable_early_stopping\\\":true,\\\"early_stopping_n_iters\\\":10,\\\"metrics\\\":null,\\\"enable_ensembling\\\":true,\\\"enable_stack_ensembling\\\":true,\\\"ensemble_iterations\\\":15,\\\"enable_tf\\\":false,\\\"enable_subsampling\\\":null,\\\"subsample_seed\\\":null,\\\"enable_nimbusml\\\":false,\\\"enable_streaming\\\":false,\\\"force_streaming\\\":false,\\\"track_child_runs\\\":true,\\\"allowed_private_models\\\":[],\\\"label_column_name\\\":\\\"quality\\\",\\\"weight_column_name\\\":null,\\\"cv_split_column_names\\\":null,\\\"enable_local_managed\\\":false,\\\"_local_managed_run_id\\\":null,\\\"cost_mode\\\":1,\\\"lag_length\\\":0,\\\"metric_operation\\\":\\\"maximize\\\",\\\"preprocess\\\":true}\", \"DataPrepJsonString\": \"{\\\\\\\"training_data\\\\\\\": \\\\\\\"{\\\\\\\\\\\\\\\"blocks\\\\\\\\\\\\\\\": [{\\\\\\\\\\\\\\\"id\\\\\\\\\\\\\\\": \\\\\\\\\\\\\\\"035279f8-da1e-4e12-922b-f1cdd9acd52c\\\\\\\\\\\\\\\", \\\\\\\\\\\\\\\"type\\\\\\\\\\\\\\\": \\\\\\\\\\\\\\\"Microsoft.DPrep.GetFilesBlock\\\\\\\\\\\\\\\", \\\\\\\\\\\\\\\"arguments\\\\\\\\\\\\\\\": {\\\\\\\\\\\\\\\"isArchive\\\\\\\\\\\\\\\": false, \\\\\\\\\\\\\\\"path\\\\\\\\\\\\\\\": {\\\\\\\\\\\\\\\"target\\\\\\\\\\\\\\\": 4, \\\\\\\\\\\\\\\"resourceDetails\\\\\\\\\\\\\\\": [{\\\\\\\\\\\\\\\"path\\\\\\\\\\\\\\\": \\\\\\\\\\\\\\\"https://archive.ics.uci.edu/ml/machine-learning-databases/wine-quality/winequality-red.csv\\\\\\\\\\\\\\\"}]}}, \\\\\\\\\\\\\\\"localData\\\\\\\\\\\\\\\": {}, \\\\\\\\\\\\\\\"isEnabled\\\\\\\\\\\\\\\": true, \\\\\\\\\\\\\\\"name\\\\\\\\\\\\\\\": null, \\\\\\\\\\\\\\\"annotation\\\\\\\\\\\\\\\": null}, {\\\\\\\\\\\\\\\"id\\\\\\\\\\\\\\\": \\\\\\\\\\\\\\\"76a8801b-2275-4ac7-baeb-4b74133d29ef\\\\\\\\\\\\\\\", \\\\\\\\\\\\\\\"type\\\\\\\\\\\\\\\": \\\\\\\\\\\\\\\"Microsoft.DPrep.ParseDelimitedBlock\\\\\\\\\\\\\\\", \\\\\\\\\\\\\\\"arguments\\\\\\\\\\\\\\\": {\\\\\\\\\\\\\\\"columnHeadersMode\\\\\\\\\\\\\\\": 3, \\\\\\\\\\\\\\\"fileEncoding\\\\\\\\\\\\\\\": 0, \\\\\\\\\\\\\\\"handleQuotedLineBreaks\\\\\\\\\\\\\\\": false, \\\\\\\\\\\\\\\"preview\\\\\\\\\\\\\\\": false, \\\\\\\\\\\\\\\"separator\\\\\\\\\\\\\\\": \\\\\\\\\\\\\\\";\\\\\\\\\\\\\\\", \\\\\\\\\\\\\\\"skipRows\\\\\\\\\\\\\\\": 0, \\\\\\\\\\\\\\\"skipRowsMode\\\\\\\\\\\\\\\": 0}, \\\\\\\\\\\\\\\"localData\\\\\\\\\\\\\\\": {}, \\\\\\\\\\\\\\\"isEnabled\\\\\\\\\\\\\\\": true, \\\\\\\\\\\\\\\"name\\\\\\\\\\\\\\\": null, \\\\\\\\\\\\\\\"annotation\\\\\\\\\\\\\\\": null}, {\\\\\\\\\\\\\\\"id\\\\\\\\\\\\\\\": \\\\\\\\\\\\\\\"46aa5130-2132-4d31-a8e7-44ce8f581260\\\\\\\\\\\\\\\", \\\\\\\\\\\\\\\"type\\\\\\\\\\\\\\\": \\\\\\\\\\\\\\\"Microsoft.DPrep.DropColumnsBlock\\\\\\\\\\\\\\\", \\\\\\\\\\\\\\\"arguments\\\\\\\\\\\\\\\": {\\\\\\\\\\\\\\\"columns\\\\\\\\\\\\\\\": {\\\\\\\\\\\\\\\"type\\\\\\\\\\\\\\\": 0, \\\\\\\\\\\\\\\"details\\\\\\\\\\\\\\\": {\\\\\\\\\\\\\\\"selectedColumns\\\\\\\\\\\\\\\": [\\\\\\\\\\\\\\\"Path\\\\\\\\\\\\\\\"]}}}, \\\\\\\\\\\\\\\"localData\\\\\\\\\\\\\\\": {}, \\\\\\\\\\\\\\\"isEnabled\\\\\\\\\\\\\\\": true, \\\\\\\\\\\\\\\"name\\\\\\\\\\\\\\\": null, \\\\\\\\\\\\\\\"annotation\\\\\\\\\\\\\\\": null}, {\\\\\\\\\\\\\\\"id\\\\\\\\\\\\\\\": \\\\\\\\\\\\\\\"97e4b15d-3c3d-4d3f-b08f-be9bd7bae54f\\\\\\\\\\\\\\\", \\\\\\\\\\\\\\\"type\\\\\\\\\\\\\\\": \\\\\\\\\\\\\\\"Microsoft.DPrep.SetColumnTypesBlock\\\\\\\\\\\\\\\", \\\\\\\\\\\\\\\"arguments\\\\\\\\\\\\\\\": {\\\\\\\\\\\\\\\"columnConversion\\\\\\\\\\\\\\\": [{\\\\\\\\\\\\\\\"column\\\\\\\\\\\\\\\": {\\\\\\\\\\\\\\\"type\\\\\\\\\\\\\\\": 2, \\\\\\\\\\\\\\\"details\\\\\\\\\\\\\\\": {\\\\\\\\\\\\\\\"selectedColumn\\\\\\\\\\\\\\\": \\\\\\\\\\\\\\\"fixed acidity\\\\\\\\\\\\\\\"}}, \\\\\\\\\\\\\\\"typeProperty\\\\\\\\\\\\\\\": 3}, {\\\\\\\\\\\\\\\"column\\\\\\\\\\\\\\\": {\\\\\\\\\\\\\\\"type\\\\\\\\\\\\\\\": 2, \\\\\\\\\\\\\\\"details\\\\\\\\\\\\\\\": {\\\\\\\\\\\\\\\"selectedColumn\\\\\\\\\\\\\\\": \\\\\\\\\\\\\\\"volatile acidity\\\\\\\\\\\\\\\"}}, \\\\\\\\\\\\\\\"typeProperty\\\\\\\\\\\\\\\": 3}, {\\\\\\\\\\\\\\\"column\\\\\\\\\\\\\\\": {\\\\\\\\\\\\\\\"type\\\\\\\\\\\\\\\": 2, \\\\\\\\\\\\\\\"details\\\\\\\\\\\\\\\": {\\\\\\\\\\\\\\\"selectedColumn\\\\\\\\\\\\\\\": \\\\\\\\\\\\\\\"citric acid\\\\\\\\\\\\\\\"}}, \\\\\\\\\\\\\\\"typeProperty\\\\\\\\\\\\\\\": 3}, {\\\\\\\\\\\\\\\"column\\\\\\\\\\\\\\\": {\\\\\\\\\\\\\\\"type\\\\\\\\\\\\\\\": 2, \\\\\\\\\\\\\\\"details\\\\\\\\\\\\\\\": {\\\\\\\\\\\\\\\"selectedColumn\\\\\\\\\\\\\\\": \\\\\\\\\\\\\\\"residual sugar\\\\\\\\\\\\\\\"}}, \\\\\\\\\\\\\\\"typeProperty\\\\\\\\\\\\\\\": 3}, {\\\\\\\\\\\\\\\"column\\\\\\\\\\\\\\\": {\\\\\\\\\\\\\\\"type\\\\\\\\\\\\\\\": 2, \\\\\\\\\\\\\\\"details\\\\\\\\\\\\\\\": {\\\\\\\\\\\\\\\"selectedColumn\\\\\\\\\\\\\\\": \\\\\\\\\\\\\\\"chlorides\\\\\\\\\\\\\\\"}}, \\\\\\\\\\\\\\\"typeProperty\\\\\\\\\\\\\\\": 3}, {\\\\\\\\\\\\\\\"column\\\\\\\\\\\\\\\": {\\\\\\\\\\\\\\\"type\\\\\\\\\\\\\\\": 2, \\\\\\\\\\\\\\\"details\\\\\\\\\\\\\\\": {\\\\\\\\\\\\\\\"selectedColumn\\\\\\\\\\\\\\\": \\\\\\\\\\\\\\\"free sulfur dioxide\\\\\\\\\\\\\\\"}}, \\\\\\\\\\\\\\\"typeProperty\\\\\\\\\\\\\\\": 2}, {\\\\\\\\\\\\\\\"column\\\\\\\\\\\\\\\": {\\\\\\\\\\\\\\\"type\\\\\\\\\\\\\\\": 2, \\\\\\\\\\\\\\\"details\\\\\\\\\\\\\\\": {\\\\\\\\\\\\\\\"selectedColumn\\\\\\\\\\\\\\\": \\\\\\\\\\\\\\\"total sulfur dioxide\\\\\\\\\\\\\\\"}}, \\\\\\\\\\\\\\\"typeProperty\\\\\\\\\\\\\\\": 2}, {\\\\\\\\\\\\\\\"column\\\\\\\\\\\\\\\": {\\\\\\\\\\\\\\\"type\\\\\\\\\\\\\\\": 2, \\\\\\\\\\\\\\\"details\\\\\\\\\\\\\\\": {\\\\\\\\\\\\\\\"selectedColumn\\\\\\\\\\\\\\\": \\\\\\\\\\\\\\\"density\\\\\\\\\\\\\\\"}}, \\\\\\\\\\\\\\\"typeProperty\\\\\\\\\\\\\\\": 3}, {\\\\\\\\\\\\\\\"column\\\\\\\\\\\\\\\": {\\\\\\\\\\\\\\\"type\\\\\\\\\\\\\\\": 2, \\\\\\\\\\\\\\\"details\\\\\\\\\\\\\\\": {\\\\\\\\\\\\\\\"selectedColumn\\\\\\\\\\\\\\\": \\\\\\\\\\\\\\\"pH\\\\\\\\\\\\\\\"}}, \\\\\\\\\\\\\\\"typeProperty\\\\\\\\\\\\\\\": 3}, {\\\\\\\\\\\\\\\"column\\\\\\\\\\\\\\\": {\\\\\\\\\\\\\\\"type\\\\\\\\\\\\\\\": 2, \\\\\\\\\\\\\\\"details\\\\\\\\\\\\\\\": {\\\\\\\\\\\\\\\"selectedColumn\\\\\\\\\\\\\\\": \\\\\\\\\\\\\\\"sulphates\\\\\\\\\\\\\\\"}}, \\\\\\\\\\\\\\\"typeProperty\\\\\\\\\\\\\\\": 3}, {\\\\\\\\\\\\\\\"column\\\\\\\\\\\\\\\": {\\\\\\\\\\\\\\\"type\\\\\\\\\\\\\\\": 2, \\\\\\\\\\\\\\\"details\\\\\\\\\\\\\\\": {\\\\\\\\\\\\\\\"selectedColumn\\\\\\\\\\\\\\\": \\\\\\\\\\\\\\\"alcohol\\\\\\\\\\\\\\\"}}, \\\\\\\\\\\\\\\"typeProperty\\\\\\\\\\\\\\\": 3}, {\\\\\\\\\\\\\\\"column\\\\\\\\\\\\\\\": {\\\\\\\\\\\\\\\"type\\\\\\\\\\\\\\\": 2, \\\\\\\\\\\\\\\"details\\\\\\\\\\\\\\\": {\\\\\\\\\\\\\\\"selectedColumn\\\\\\\\\\\\\\\": \\\\\\\\\\\\\\\"quality\\\\\\\\\\\\\\\"}}, \\\\\\\\\\\\\\\"typeProperty\\\\\\\\\\\\\\\": 2}]}, \\\\\\\\\\\\\\\"localData\\\\\\\\\\\\\\\": {}, \\\\\\\\\\\\\\\"isEnabled\\\\\\\\\\\\\\\": true, \\\\\\\\\\\\\\\"name\\\\\\\\\\\\\\\": null, \\\\\\\\\\\\\\\"annotation\\\\\\\\\\\\\\\": null}], \\\\\\\\\\\\\\\"inspectors\\\\\\\\\\\\\\\": [], \\\\\\\\\\\\\\\"meta\\\\\\\\\\\\\\\": {\\\\\\\\\\\\\\\"savedDatasetId\\\\\\\\\\\\\\\": \\\\\\\\\\\\\\\"4630f888-3cfc-4315-8a14-75b019a2cd88\\\\\\\\\\\\\\\", \\\\\\\\\\\\\\\"datasetType\\\\\\\\\\\\\\\": \\\\\\\\\\\\\\\"tabular\\\\\\\\\\\\\\\", \\\\\\\\\\\\\\\"subscriptionId\\\\\\\\\\\\\\\": \\\\\\\\\\\\\\\"3e42d11f-d64d-4173-af9b-12ecaa1030b3\\\\\\\\\\\\\\\", \\\\\\\\\\\\\\\"workspaceId\\\\\\\\\\\\\\\": \\\\\\\\\\\\\\\"e0bc4056-656c-4966-8e89-b0763012a1b1\\\\\\\\\\\\\\\", \\\\\\\\\\\\\\\"workspaceLocation\\\\\\\\\\\\\\\": \\\\\\\\\\\\\\\"southcentralus\\\\\\\\\\\\\\\"}}\\\\\\\", \\\\\\\"activities\\\\\\\": 0}\", \"EnableSubsampling\": null, \"runTemplate\": \"AutoML\", \"azureml.runsource\": \"automl\", \"display_task_type\": \"classification\", \"dependencies_versions\": \"{\\\"azureml-widgets\\\": \\\"1.20.0\\\", \\\"azureml-train\\\": \\\"1.20.0\\\", \\\"azureml-train-restclients-hyperdrive\\\": \\\"1.20.0\\\", \\\"azureml-train-core\\\": \\\"1.20.0\\\", \\\"azureml-train-automl\\\": \\\"1.20.0\\\", \\\"azureml-train-automl-runtime\\\": \\\"1.20.0\\\", \\\"azureml-train-automl-client\\\": \\\"1.20.0\\\", \\\"azureml-tensorboard\\\": \\\"1.20.0\\\", \\\"azureml-telemetry\\\": \\\"1.20.0\\\", \\\"azureml-sdk\\\": \\\"1.20.0\\\", \\\"azureml-samples\\\": \\\"0+unknown\\\", \\\"azureml-pipeline\\\": \\\"1.20.0\\\", \\\"azureml-pipeline-steps\\\": \\\"1.20.0\\\", \\\"azureml-pipeline-core\\\": \\\"1.20.0\\\", \\\"azureml-opendatasets\\\": \\\"1.20.0\\\", \\\"azureml-model-management-sdk\\\": \\\"1.0.1b6.post1\\\", \\\"azureml-mlflow\\\": \\\"1.20.0.post1\\\", \\\"azureml-interpret\\\": \\\"1.20.0\\\", \\\"azureml-explain-model\\\": \\\"1.20.0\\\", \\\"azureml-defaults\\\": \\\"1.20.0\\\", \\\"azureml-dataset-runtime\\\": \\\"1.20.0\\\", \\\"azureml-dataprep\\\": \\\"2.7.3\\\", \\\"azureml-dataprep-rslex\\\": \\\"1.5.0\\\", \\\"azureml-dataprep-native\\\": \\\"27.0.0\\\", \\\"azureml-datadrift\\\": \\\"1.20.0\\\", \\\"azureml-core\\\": \\\"1.20.0\\\", \\\"azureml-contrib-services\\\": \\\"1.20.0\\\", \\\"azureml-contrib-server\\\": \\\"1.20.0\\\", \\\"azureml-contrib-reinforcementlearning\\\": \\\"1.20.0\\\", \\\"azureml-contrib-pipeline-steps\\\": \\\"1.20.0\\\", \\\"azureml-contrib-notebook\\\": \\\"1.20.0\\\", \\\"azureml-contrib-interpret\\\": \\\"1.20.0\\\", \\\"azureml-contrib-gbdt\\\": \\\"1.20.0\\\", \\\"azureml-contrib-fairness\\\": \\\"1.20.0\\\", \\\"azureml-contrib-dataset\\\": \\\"1.20.0\\\", \\\"azureml-cli-common\\\": \\\"1.20.0\\\", \\\"azureml-automl-runtime\\\": \\\"1.20.0\\\", \\\"azureml-automl-core\\\": \\\"1.20.0\\\", \\\"azureml-accel-models\\\": \\\"1.20.0\\\"}\", \"_aml_system_scenario_identification\": \"Remote.Parent\", \"ClientType\": \"SDK\", \"environment_cpu_name\": \"AzureML-AutoML\", \"environment_cpu_label\": \"prod\", \"environment_gpu_name\": \"AzureML-AutoML-GPU\", \"environment_gpu_label\": \"prod\", \"root_attribution\": \"automl\", \"attribution\": \"AutoML\", \"Orchestrator\": \"AutoML\", \"CancelUri\": \"https://southcentralus.experiments.azureml.net/jasmine/v1.0/subscriptions/3e42d11f-d64d-4173-af9b-12ecaa1030b3/resourceGroups/aml-quickstarts-139013/providers/Microsoft.MachineLearningServices/workspaces/quick-starts-ws-139013/experimentids/19d8a6e4-059c-47ea-9384-cb2547fee20a/cancel/AutoML_7a5045ae-120b-4594-8551-6f31603fad12\", \"ClientSdkVersion\": \"1.21.0\", \"snapshotId\": \"00000000-0000-0000-0000-000000000000\", \"SetupRunId\": \"AutoML_7a5045ae-120b-4594-8551-6f31603fad12_setup\", \"SetupRunContainerId\": \"dcid.AutoML_7a5045ae-120b-4594-8551-6f31603fad12_setup\", \"FeaturizationRunJsonPath\": \"featurizer_container.json\", \"FeaturizationRunId\": \"AutoML_7a5045ae-120b-4594-8551-6f31603fad12_featurize\", \"ProblemInfoJsonString\": \"{\\\"dataset_num_categorical\\\": 0, \\\"is_sparse\\\": false, \\\"subsampling\\\": false, \\\"dataset_classes\\\": 6, \\\"dataset_features\\\": 11, \\\"dataset_samples\\\": 1599, \\\"single_frequency_class_detected\\\": false}\", \"ModelExplainRunId\": \"AutoML_7a5045ae-120b-4594-8551-6f31603fad12_ModelExplain\"}, \"tags\": {\"model_explain_run\": \"best_run\", \"_aml_system_azureml.automlComponent\": \"AutoML\", \"pipeline_id\": \"\", \"score\": \"\", \"predicted_cost\": \"\", \"fit_time\": \"\", \"training_percent\": \"\", \"iteration\": \"\", \"run_preprocessor\": \"\", \"run_algorithm\": \"\", \"dynamic_whitelisting_iterations\": \"<25>;<30>;<35>;\", \"automl_best_child_run_id\": \"AutoML_7a5045ae-120b-4594-8551-6f31603fad12_38\", \"model_explain_best_run_child_id\": \"AutoML_7a5045ae-120b-4594-8551-6f31603fad12_38\"}, \"end_time_utc\": \"2021-02-16T10:38:20.734814Z\", \"status\": \"Completed\", \"log_files\": {}, \"log_groups\": [], \"run_duration\": \"0:21:16\"}, \"child_runs\": [{\"run_id\": \"AutoML_7a5045ae-120b-4594-8551-6f31603fad12_0\", \"run_number\": 5, \"metric\": null, \"status\": \"Completed\", \"run_type\": \"azureml.scriptrun\", \"training_percent\": \"100\", \"start_time\": \"2021-02-16T10:27:59.412718Z\", \"end_time\": \"2021-02-16T10:28:51.793919Z\", \"created_time\": \"2021-02-16T10:24:56.722942Z\", \"created_time_dt\": \"2021-02-16T10:24:56.722942Z\", \"duration\": \"0:03:55\", \"iteration\": \"0\", \"goal\": \"accuracy_max\", \"run_name\": \"MaxAbsScaler, LightGBM\", \"run_properties\": \"copy=True\", \"primary_metric\": 0.66979362, \"best_metric\": 0.66979362}, {\"run_id\": \"AutoML_7a5045ae-120b-4594-8551-6f31603fad12_3\", \"run_number\": 6, \"metric\": null, \"status\": \"Completed\", \"run_type\": \"azureml.scriptrun\", \"training_percent\": \"100\", \"start_time\": \"2021-02-16T10:28:14.627231Z\", \"end_time\": \"2021-02-16T10:30:13.729613Z\", \"created_time\": \"2021-02-16T10:24:56.833161Z\", \"created_time_dt\": \"2021-02-16T10:24:56.833161Z\", \"duration\": \"0:05:16\", \"iteration\": \"3\", \"goal\": \"accuracy_max\", \"run_name\": \"MinMaxScaler, RandomForest\", \"run_properties\": \"copy=True, feature_range=(0, 1\", \"primary_metric\": 0.59474672, \"best_metric\": 0.66979362}, {\"run_id\": \"AutoML_7a5045ae-120b-4594-8551-6f31603fad12_4\", \"run_number\": 7, \"metric\": null, \"status\": \"Completed\", \"run_type\": \"azureml.scriptrun\", \"training_percent\": \"100\", \"start_time\": \"2021-02-16T10:26:58.549544Z\", \"end_time\": \"2021-02-16T10:27:53.949736Z\", \"created_time\": \"2021-02-16T10:24:56.846826Z\", \"created_time_dt\": \"2021-02-16T10:24:56.846826Z\", \"duration\": \"0:02:57\", \"iteration\": \"4\", \"goal\": \"accuracy_max\", \"run_name\": \"MinMaxScaler, RandomForest\", \"run_properties\": \"copy=True, feature_range=(0, 1\", \"primary_metric\": 0.54283927, \"best_metric\": 0.66979362}, {\"run_id\": \"AutoML_7a5045ae-120b-4594-8551-6f31603fad12_1\", \"run_number\": 8, \"metric\": null, \"status\": \"Completed\", \"run_type\": \"azureml.scriptrun\", \"training_percent\": \"100\", \"start_time\": \"2021-02-16T10:25:07.991819Z\", \"end_time\": \"2021-02-16T10:25:58.367355Z\", \"created_time\": \"2021-02-16T10:24:56.863804Z\", \"created_time_dt\": \"2021-02-16T10:24:56.863804Z\", \"duration\": \"0:01:01\", \"iteration\": \"1\", \"goal\": \"accuracy_max\", \"run_name\": \"MaxAbsScaler, XGBoostClassifier\", \"run_properties\": \"copy=True\", \"primary_metric\": 0.64040025, \"best_metric\": 0.66979362}, {\"run_id\": \"AutoML_7a5045ae-120b-4594-8551-6f31603fad12_2\", \"run_number\": 9, \"metric\": null, \"status\": \"Completed\", \"run_type\": \"azureml.scriptrun\", \"training_percent\": \"100\", \"start_time\": \"2021-02-16T10:26:00.113406Z\", \"end_time\": \"2021-02-16T10:26:54.20582Z\", \"created_time\": \"2021-02-16T10:24:56.835335Z\", \"created_time_dt\": \"2021-02-16T10:24:56.835335Z\", \"duration\": \"0:01:57\", \"iteration\": \"2\", \"goal\": \"accuracy_max\", \"run_name\": \"MinMaxScaler, RandomForest\", \"run_properties\": \"copy=True, feature_range=(0, 1\", \"primary_metric\": 0.60162602, \"best_metric\": 0.66979362}, {\"run_id\": \"AutoML_7a5045ae-120b-4594-8551-6f31603fad12_5\", \"run_number\": 10, \"metric\": null, \"status\": \"Completed\", \"run_type\": \"azureml.scriptrun\", \"training_percent\": \"100\", \"start_time\": \"2021-02-16T10:28:11.179445Z\", \"end_time\": \"2021-02-16T10:30:27.047105Z\", \"created_time\": \"2021-02-16T10:26:00.277171Z\", \"created_time_dt\": \"2021-02-16T10:26:00.277171Z\", \"duration\": \"0:04:26\", \"iteration\": \"5\", \"goal\": \"accuracy_max\", \"run_name\": \"SparseNormalizer, XGBoostClassifier\", \"run_properties\": \"<azureml.automl.runtime.shared.model_wrappers.SparseNormalizer object at 0x7f5977cc3f60\", \"primary_metric\": 0.6372733, \"best_metric\": 0.66979362}, {\"run_id\": \"AutoML_7a5045ae-120b-4594-8551-6f31603fad12_6\", \"run_number\": 11, \"metric\": null, \"status\": \"Completed\", \"run_type\": \"azureml.scriptrun\", \"training_percent\": \"100\", \"start_time\": \"2021-02-16T10:28:11.643869Z\", \"end_time\": \"2021-02-16T10:30:19.039233Z\", \"created_time\": \"2021-02-16T10:26:57.539944Z\", \"created_time_dt\": \"2021-02-16T10:26:57.539944Z\", \"duration\": \"0:03:21\", \"iteration\": \"6\", \"goal\": \"accuracy_max\", \"run_name\": \"StandardScalerWrapper, LightGBM\", \"run_properties\": \"<azureml.automl.runtime.shared.model_wrappers.StandardScalerWrapper object at 0x7f28c9b597b8\", \"primary_metric\": 0.60037523, \"best_metric\": 0.66979362}, {\"run_id\": \"AutoML_7a5045ae-120b-4594-8551-6f31603fad12_7\", \"run_number\": 12, \"metric\": null, \"status\": \"Completed\", \"run_type\": \"azureml.scriptrun\", \"training_percent\": \"100\", \"start_time\": \"2021-02-16T10:28:10.890828Z\", \"end_time\": \"2021-02-16T10:30:26.217303Z\", \"created_time\": \"2021-02-16T10:27:56.458461Z\", \"created_time_dt\": \"2021-02-16T10:27:56.458461Z\", \"duration\": \"0:02:29\", \"iteration\": \"7\", \"goal\": \"accuracy_max\", \"run_name\": \"MinMaxScaler, SVM\", \"run_properties\": \"copy=True, feature_range=(0, 1\", \"primary_metric\": 0.6166354, \"best_metric\": 0.66979362}, {\"run_id\": \"AutoML_7a5045ae-120b-4594-8551-6f31603fad12_8\", \"run_number\": 13, \"metric\": null, \"status\": \"Completed\", \"run_type\": \"azureml.scriptrun\", \"training_percent\": \"100\", \"start_time\": \"2021-02-16T10:29:05.746211Z\", \"end_time\": \"2021-02-16T10:30:05.276697Z\", \"created_time\": \"2021-02-16T10:28:54.508314Z\", \"created_time_dt\": \"2021-02-16T10:28:54.508314Z\", \"duration\": \"0:01:10\", \"iteration\": \"8\", \"goal\": \"accuracy_max\", \"run_name\": \"SparseNormalizer, XGBoostClassifier\", \"run_properties\": \"<azureml.automl.runtime.shared.model_wrappers.SparseNormalizer object at 0x7f88b0cbfe80\", \"primary_metric\": 0.63977486, \"best_metric\": 0.66979362}, {\"run_id\": \"AutoML_7a5045ae-120b-4594-8551-6f31603fad12_9\", \"run_number\": 14, \"metric\": null, \"status\": \"Completed\", \"run_type\": \"azureml.scriptrun\", \"training_percent\": \"100\", \"start_time\": \"2021-02-16T10:30:20.844361Z\", \"end_time\": \"2021-02-16T10:31:13.701418Z\", \"created_time\": \"2021-02-16T10:30:08.065348Z\", \"created_time_dt\": \"2021-02-16T10:30:08.065348Z\", \"duration\": \"0:01:05\", \"iteration\": \"9\", \"goal\": \"accuracy_max\", \"run_name\": \"RobustScaler, SVM\", \"run_properties\": \"copy=True, quantile_range=[10, 90], with_centering=True,\\n             with_scaling=True\", \"primary_metric\": 0.61288305, \"best_metric\": 0.66979362}, {\"run_id\": \"AutoML_7a5045ae-120b-4594-8551-6f31603fad12_10\", \"run_number\": 15, \"metric\": null, \"status\": \"Completed\", \"run_type\": \"azureml.scriptrun\", \"training_percent\": \"100\", \"start_time\": \"2021-02-16T10:30:26.732923Z\", \"end_time\": \"2021-02-16T10:31:20.576189Z\", \"created_time\": \"2021-02-16T10:30:16.546682Z\", \"created_time_dt\": \"2021-02-16T10:30:16.546682Z\", \"duration\": \"0:01:04\", \"iteration\": \"10\", \"goal\": \"accuracy_max\", \"run_name\": \"StandardScalerWrapper, RandomForest\", \"run_properties\": \"<azureml.automl.runtime.shared.model_wrappers.StandardScalerWrapper object at 0x7f744efc1fd0\", \"primary_metric\": 0.59474672, \"best_metric\": 0.66979362}, {\"run_id\": \"AutoML_7a5045ae-120b-4594-8551-6f31603fad12_11\", \"run_number\": 16, \"metric\": null, \"status\": \"Completed\", \"run_type\": \"azureml.scriptrun\", \"training_percent\": \"100\", \"start_time\": \"2021-02-16T10:30:34.757244Z\", \"end_time\": \"2021-02-16T10:31:22.165232Z\", \"created_time\": \"2021-02-16T10:30:21.735134Z\", \"created_time_dt\": \"2021-02-16T10:30:21.735134Z\", \"duration\": \"0:01:00\", \"iteration\": \"11\", \"goal\": \"accuracy_max\", \"run_name\": \"StandardScalerWrapper, XGBoostClassifier\", \"run_properties\": \"<azureml.automl.runtime.shared.model_wrappers.StandardScalerWrapper object at 0x7f9fd2234ba8\", \"primary_metric\": 0.60787992, \"best_metric\": 0.66979362}, {\"run_id\": \"AutoML_7a5045ae-120b-4594-8551-6f31603fad12_12\", \"run_number\": 17, \"metric\": null, \"status\": \"Completed\", \"run_type\": \"azureml.scriptrun\", \"training_percent\": \"100\", \"start_time\": \"2021-02-16T10:30:39.605416Z\", \"end_time\": \"2021-02-16T10:31:36.513556Z\", \"created_time\": \"2021-02-16T10:30:28.547758Z\", \"created_time_dt\": \"2021-02-16T10:30:28.547758Z\", \"duration\": \"0:01:07\", \"iteration\": \"12\", \"goal\": \"accuracy_max\", \"run_name\": \"MaxAbsScaler, GradientBoosting\", \"run_properties\": \"copy=True\", \"primary_metric\": 0.60537836, \"best_metric\": 0.66979362}, {\"run_id\": \"AutoML_7a5045ae-120b-4594-8551-6f31603fad12_13\", \"run_number\": 18, \"metric\": null, \"status\": \"Completed\", \"run_type\": \"azureml.scriptrun\", \"training_percent\": \"100\", \"start_time\": \"2021-02-16T10:30:43.61466Z\", \"end_time\": \"2021-02-16T10:31:37.505245Z\", \"created_time\": \"2021-02-16T10:30:32.885558Z\", \"created_time_dt\": \"2021-02-16T10:30:32.885558Z\", \"duration\": \"0:01:04\", \"iteration\": \"13\", \"goal\": \"accuracy_max\", \"run_name\": \"SparseNormalizer, XGBoostClassifier\", \"run_properties\": \"<azureml.automl.runtime.shared.model_wrappers.SparseNormalizer object at 0x7f1de1e479e8\", \"primary_metric\": 0.62976861, \"best_metric\": 0.66979362}, {\"run_id\": \"AutoML_7a5045ae-120b-4594-8551-6f31603fad12_14\", \"run_number\": 19, \"metric\": null, \"status\": \"Completed\", \"run_type\": \"azureml.scriptrun\", \"training_percent\": \"100\", \"start_time\": \"2021-02-16T10:31:29.452222Z\", \"end_time\": \"2021-02-16T10:32:16.106993Z\", \"created_time\": \"2021-02-16T10:31:15.980738Z\", \"created_time_dt\": \"2021-02-16T10:31:15.980738Z\", \"duration\": \"0:01:00\", \"iteration\": \"14\", \"goal\": \"accuracy_max\", \"run_name\": \"MaxAbsScaler, LightGBM\", \"run_properties\": \"copy=True\", \"primary_metric\": 0.59849906, \"best_metric\": 0.66979362}, {\"run_id\": \"AutoML_7a5045ae-120b-4594-8551-6f31603fad12_15\", \"run_number\": 20, \"metric\": null, \"status\": \"Completed\", \"run_type\": \"azureml.scriptrun\", \"training_percent\": \"100\", \"start_time\": \"2021-02-16T10:31:33.155863Z\", \"end_time\": \"2021-02-16T10:32:21.486087Z\", \"created_time\": \"2021-02-16T10:31:22.815561Z\", \"created_time_dt\": \"2021-02-16T10:31:22.815561Z\", \"duration\": \"0:00:58\", \"iteration\": \"15\", \"goal\": \"accuracy_max\", \"run_name\": \"RobustScaler, ExtremeRandomTrees\", \"run_properties\": \"copy=True, quantile_range=[10, 90], with_centering=True,\\n             with_scaling=False\", \"primary_metric\": 0.58849281, \"best_metric\": 0.66979362}, {\"run_id\": \"AutoML_7a5045ae-120b-4594-8551-6f31603fad12_16\", \"run_number\": 21, \"metric\": null, \"status\": \"Completed\", \"run_type\": \"azureml.scriptrun\", \"training_percent\": \"100\", \"start_time\": \"2021-02-16T10:31:38.088946Z\", \"end_time\": \"2021-02-16T10:32:28.620429Z\", \"created_time\": \"2021-02-16T10:31:26.694739Z\", \"created_time_dt\": \"2021-02-16T10:31:26.694739Z\", \"duration\": \"0:01:01\", \"iteration\": \"16\", \"goal\": \"accuracy_max\", \"run_name\": \"SparseNormalizer, LightGBM\", \"run_properties\": \"<azureml.automl.runtime.shared.model_wrappers.SparseNormalizer object at 0x7fcf242b1048\", \"primary_metric\": 0.54158849, \"best_metric\": 0.66979362}, {\"run_id\": \"AutoML_7a5045ae-120b-4594-8551-6f31603fad12_17\", \"run_number\": 22, \"metric\": null, \"status\": \"Completed\", \"run_type\": \"azureml.scriptrun\", \"training_percent\": \"100\", \"start_time\": \"2021-02-16T10:31:48.571307Z\", \"end_time\": \"2021-02-16T10:32:39.235569Z\", \"created_time\": \"2021-02-16T10:31:38.987185Z\", \"created_time_dt\": \"2021-02-16T10:31:38.987185Z\", \"duration\": \"0:01:00\", \"iteration\": \"17\", \"goal\": \"accuracy_max\", \"run_name\": \"MinMaxScaler, LightGBM\", \"run_properties\": \"copy=True, feature_range=(0, 1\", \"primary_metric\": 0.61538462, \"best_metric\": 0.66979362}, {\"run_id\": \"AutoML_7a5045ae-120b-4594-8551-6f31603fad12_18\", \"run_number\": 23, \"metric\": null, \"status\": \"Completed\", \"run_type\": \"azureml.scriptrun\", \"training_percent\": \"100\", \"start_time\": \"2021-02-16T10:31:56.171258Z\", \"end_time\": \"2021-02-16T10:32:46.694231Z\", \"created_time\": \"2021-02-16T10:31:42.45831Z\", \"created_time_dt\": \"2021-02-16T10:31:42.45831Z\", \"duration\": \"0:01:04\", \"iteration\": \"18\", \"goal\": \"accuracy_max\", \"run_name\": \"RobustScaler, ExtremeRandomTrees\", \"run_properties\": \"copy=True, quantile_range=[25, 75], with_centering=True,\\n             with_scaling=False\", \"primary_metric\": 0.57848655, \"best_metric\": 0.66979362}, {\"run_id\": \"AutoML_7a5045ae-120b-4594-8551-6f31603fad12_19\", \"run_number\": 24, \"metric\": null, \"status\": \"Completed\", \"run_type\": \"azureml.scriptrun\", \"training_percent\": \"100\", \"start_time\": \"2021-02-16T10:32:30.281303Z\", \"end_time\": \"2021-02-16T10:33:21.29048Z\", \"created_time\": \"2021-02-16T10:32:18.631201Z\", \"created_time_dt\": \"2021-02-16T10:32:18.631201Z\", \"duration\": \"0:01:02\", \"iteration\": \"19\", \"goal\": \"accuracy_max\", \"run_name\": \"StandardScalerWrapper, LightGBM\", \"run_properties\": \"<azureml.automl.runtime.shared.model_wrappers.StandardScalerWrapper object at 0x7f9a557c4588\", \"primary_metric\": 0.60225141, \"best_metric\": 0.66979362}, {\"run_id\": \"AutoML_7a5045ae-120b-4594-8551-6f31603fad12_20\", \"run_number\": 25, \"metric\": null, \"status\": \"Completed\", \"run_type\": \"azureml.scriptrun\", \"training_percent\": \"100\", \"start_time\": \"2021-02-16T10:32:36.305749Z\", \"end_time\": \"2021-02-16T10:33:31.79635Z\", \"created_time\": \"2021-02-16T10:32:23.82341Z\", \"created_time_dt\": \"2021-02-16T10:32:23.82341Z\", \"duration\": \"0:01:07\", \"iteration\": \"20\", \"goal\": \"accuracy_max\", \"run_name\": \"MinMaxScaler, LightGBM\", \"run_properties\": \"copy=True, feature_range=(0, 1\", \"primary_metric\": 0.60475297, \"best_metric\": 0.66979362}, {\"run_id\": \"AutoML_7a5045ae-120b-4594-8551-6f31603fad12_21\", \"run_number\": 26, \"metric\": null, \"status\": \"Completed\", \"run_type\": \"azureml.scriptrun\", \"training_percent\": \"100\", \"start_time\": \"2021-02-16T10:32:45.617784Z\", \"end_time\": \"2021-02-16T10:33:35.312872Z\", \"created_time\": \"2021-02-16T10:32:31.728722Z\", \"created_time_dt\": \"2021-02-16T10:32:31.728722Z\", \"duration\": \"0:01:03\", \"iteration\": \"21\", \"goal\": \"accuracy_max\", \"run_name\": \"MinMaxScaler, LightGBM\", \"run_properties\": \"copy=True, feature_range=(0, 1\", \"primary_metric\": 0.59849906, \"best_metric\": 0.66979362}, {\"run_id\": \"AutoML_7a5045ae-120b-4594-8551-6f31603fad12_22\", \"run_number\": 27, \"metric\": null, \"status\": \"Completed\", \"run_type\": \"azureml.scriptrun\", \"training_percent\": \"100\", \"start_time\": \"2021-02-16T10:32:53.985734Z\", \"end_time\": \"2021-02-16T10:33:46.799852Z\", \"created_time\": \"2021-02-16T10:32:41.499262Z\", \"created_time_dt\": \"2021-02-16T10:32:41.499262Z\", \"duration\": \"0:01:05\", \"iteration\": \"22\", \"goal\": \"accuracy_max\", \"run_name\": \"StandardScalerWrapper, LightGBM\", \"run_properties\": \"<azureml.automl.runtime.shared.model_wrappers.StandardScalerWrapper object at 0x7f89241fe518\", \"primary_metric\": 0.58348968, \"best_metric\": 0.66979362}, {\"run_id\": \"AutoML_7a5045ae-120b-4594-8551-6f31603fad12_23\", \"run_number\": 28, \"metric\": null, \"status\": \"Completed\", \"run_type\": \"azureml.scriptrun\", \"training_percent\": \"100\", \"start_time\": \"2021-02-16T10:33:02.58381Z\", \"end_time\": \"2021-02-16T10:33:56.120163Z\", \"created_time\": \"2021-02-16T10:32:50.399397Z\", \"created_time_dt\": \"2021-02-16T10:32:50.399397Z\", \"duration\": \"0:01:05\", \"iteration\": \"23\", \"goal\": \"accuracy_max\", \"run_name\": \"MinMaxScaler, ExtremeRandomTrees\", \"run_properties\": \"copy=True, feature_range=(0, 1\", \"primary_metric\": 0.56973108, \"best_metric\": 0.66979362}, {\"run_id\": \"AutoML_7a5045ae-120b-4594-8551-6f31603fad12_24\", \"run_number\": 29, \"metric\": null, \"status\": \"Completed\", \"run_type\": \"azureml.scriptrun\", \"training_percent\": \"100\", \"start_time\": \"2021-02-16T10:33:35.634326Z\", \"end_time\": \"2021-02-16T10:34:23.739111Z\", \"created_time\": \"2021-02-16T10:33:24.461886Z\", \"created_time_dt\": \"2021-02-16T10:33:24.461886Z\", \"duration\": \"0:00:59\", \"iteration\": \"24\", \"goal\": \"accuracy_max\", \"run_name\": \"MaxAbsScaler, RandomForest\", \"run_properties\": \"copy=True\", \"primary_metric\": 0.61601001, \"best_metric\": 0.66979362}, {\"run_id\": \"AutoML_7a5045ae-120b-4594-8551-6f31603fad12_25\", \"run_number\": 30, \"metric\": null, \"status\": \"Completed\", \"run_type\": \"azureml.scriptrun\", \"training_percent\": \"100\", \"start_time\": \"2021-02-16T10:33:47.456505Z\", \"end_time\": \"2021-02-16T10:34:47.352577Z\", \"created_time\": \"2021-02-16T10:33:35.635166Z\", \"created_time_dt\": \"2021-02-16T10:33:35.635166Z\", \"duration\": \"0:01:11\", \"iteration\": \"25\", \"goal\": \"accuracy_max\", \"run_name\": \"SparseNormalizer, LightGBM\", \"run_properties\": \"<azureml.automl.runtime.shared.model_wrappers.SparseNormalizer object at 0x7f2b04d9ff28\", \"primary_metric\": 0.48717949, \"best_metric\": 0.66979362}, {\"run_id\": \"AutoML_7a5045ae-120b-4594-8551-6f31603fad12_26\", \"run_number\": 31, \"metric\": null, \"status\": \"Completed\", \"run_type\": \"azureml.scriptrun\", \"training_percent\": \"100\", \"start_time\": \"2021-02-16T10:33:52.897288Z\", \"end_time\": \"2021-02-16T10:34:37.620347Z\", \"created_time\": \"2021-02-16T10:33:41.266388Z\", \"created_time_dt\": \"2021-02-16T10:33:41.266388Z\", \"duration\": \"0:00:56\", \"iteration\": \"26\", \"goal\": \"accuracy_max\", \"run_name\": \"StandardScalerWrapper, ExtremeRandomTrees\", \"run_properties\": \"<azureml.automl.runtime.shared.model_wrappers.StandardScalerWrapper object at 0x7fb30ca8a7b8\", \"primary_metric\": 0.57723577, \"best_metric\": 0.66979362}, {\"run_id\": \"AutoML_7a5045ae-120b-4594-8551-6f31603fad12_27\", \"run_number\": 32, \"metric\": null, \"status\": \"Completed\", \"run_type\": \"azureml.scriptrun\", \"training_percent\": \"100\", \"start_time\": \"2021-02-16T10:34:03.2467Z\", \"end_time\": \"2021-02-16T10:34:55.722107Z\", \"created_time\": \"2021-02-16T10:33:49.630036Z\", \"created_time_dt\": \"2021-02-16T10:33:49.630036Z\", \"duration\": \"0:01:06\", \"iteration\": \"27\", \"goal\": \"accuracy_max\", \"run_name\": \"RobustScaler, LightGBM\", \"run_properties\": \"copy=True, quantile_range=[25, 75], with_centering=False,\\n             with_scaling=False\", \"primary_metric\": 0.60225141, \"best_metric\": 0.66979362}, {\"run_id\": \"AutoML_7a5045ae-120b-4594-8551-6f31603fad12_28\", \"run_number\": 33, \"metric\": null, \"status\": \"Completed\", \"run_type\": \"azureml.scriptrun\", \"training_percent\": \"100\", \"start_time\": \"2021-02-16T10:34:14.187062Z\", \"end_time\": \"2021-02-16T10:35:00.485511Z\", \"created_time\": \"2021-02-16T10:33:58.972141Z\", \"created_time_dt\": \"2021-02-16T10:33:58.972141Z\", \"duration\": \"0:01:01\", \"iteration\": \"28\", \"goal\": \"accuracy_max\", \"run_name\": \"MinMaxScaler, LightGBM\", \"run_properties\": \"copy=True, feature_range=(0, 1\", \"primary_metric\": 0.5891182, \"best_metric\": 0.66979362}, {\"run_id\": \"AutoML_7a5045ae-120b-4594-8551-6f31603fad12_29\", \"run_number\": 34, \"metric\": null, \"status\": \"Completed\", \"run_type\": \"azureml.scriptrun\", \"training_percent\": \"100\", \"start_time\": \"2021-02-16T10:34:38.921304Z\", \"end_time\": \"2021-02-16T10:35:33.899583Z\", \"created_time\": \"2021-02-16T10:34:26.728319Z\", \"created_time_dt\": \"2021-02-16T10:34:26.728319Z\", \"duration\": \"0:01:07\", \"iteration\": \"29\", \"goal\": \"accuracy_max\", \"run_name\": \"SparseNormalizer, XGBoostClassifier\", \"run_properties\": \"<azureml.automl.runtime.shared.model_wrappers.SparseNormalizer object at 0x7f0e67cd7438\", \"primary_metric\": 0.63227017, \"best_metric\": 0.66979362}, {\"run_id\": \"AutoML_7a5045ae-120b-4594-8551-6f31603fad12_30\", \"run_number\": 35, \"metric\": null, \"status\": \"Completed\", \"run_type\": \"azureml.scriptrun\", \"training_percent\": \"100\", \"start_time\": \"2021-02-16T10:35:00.240017Z\", \"end_time\": \"2021-02-16T10:35:46.362721Z\", \"created_time\": \"2021-02-16T10:34:44.548713Z\", \"created_time_dt\": \"2021-02-16T10:34:44.548713Z\", \"duration\": \"0:01:01\", \"iteration\": \"30\", \"goal\": \"accuracy_max\", \"run_name\": \"MinMaxScaler, LightGBM\", \"run_properties\": \"copy=True, feature_range=(0, 1\", \"primary_metric\": 0.59974984, \"best_metric\": 0.66979362}, {\"run_id\": \"AutoML_7a5045ae-120b-4594-8551-6f31603fad12_31\", \"run_number\": 36, \"metric\": null, \"status\": \"Completed\", \"run_type\": \"azureml.scriptrun\", \"training_percent\": \"100\", \"start_time\": \"2021-02-16T10:34:59.208523Z\", \"end_time\": \"2021-02-16T10:35:53.265509Z\", \"created_time\": \"2021-02-16T10:34:49.483738Z\", \"created_time_dt\": \"2021-02-16T10:34:49.483738Z\", \"duration\": \"0:01:03\", \"iteration\": \"31\", \"goal\": \"accuracy_max\", \"run_name\": \"StandardScalerWrapper, LogisticRegression\", \"run_properties\": \"<azureml.automl.runtime.shared.model_wrappers.StandardScalerWrapper object at 0x7f878e455860\", \"primary_metric\": 0.58786742, \"best_metric\": 0.66979362}, {\"run_id\": \"AutoML_7a5045ae-120b-4594-8551-6f31603fad12_32\", \"run_number\": 37, \"metric\": null, \"status\": \"Completed\", \"run_type\": \"azureml.scriptrun\", \"training_percent\": \"100\", \"start_time\": \"2021-02-16T10:35:08.048878Z\", \"end_time\": \"2021-02-16T10:36:00.551411Z\", \"created_time\": \"2021-02-16T10:34:58.221534Z\", \"created_time_dt\": \"2021-02-16T10:34:58.221534Z\", \"duration\": \"0:01:02\", \"iteration\": \"32\", \"goal\": \"accuracy_max\", \"run_name\": \"MinMaxScaler, RandomForest\", \"run_properties\": \"copy=True, feature_range=(0, 1\", \"primary_metric\": 0.58599124, \"best_metric\": 0.66979362}, {\"run_id\": \"AutoML_7a5045ae-120b-4594-8551-6f31603fad12_33\", \"run_number\": 38, \"metric\": null, \"status\": \"Completed\", \"run_type\": \"azureml.scriptrun\", \"training_percent\": \"100\", \"start_time\": \"2021-02-16T10:35:14.735341Z\", \"end_time\": \"2021-02-16T10:36:11.577955Z\", \"created_time\": \"2021-02-16T10:35:02.880613Z\", \"created_time_dt\": \"2021-02-16T10:35:02.880613Z\", \"duration\": \"0:01:08\", \"iteration\": \"33\", \"goal\": \"accuracy_max\", \"run_name\": \"StandardScalerWrapper, XGBoostClassifier\", \"run_properties\": \"<azureml.automl.runtime.shared.model_wrappers.StandardScalerWrapper object at 0x7fbf850ac3c8\", \"primary_metric\": 0.66041276, \"best_metric\": 0.66979362}, {\"run_id\": \"AutoML_7a5045ae-120b-4594-8551-6f31603fad12_34\", \"run_number\": 39, \"metric\": null, \"status\": \"Canceled\", \"run_type\": \"azureml.scriptrun\", \"training_percent\": \"100\", \"start_time\": \"2021-02-16T10:35:47.352175Z\", \"end_time\": \"2021-02-16T10:36:21.366018Z\", \"created_time\": \"2021-02-16T10:35:36.183807Z\", \"created_time_dt\": \"2021-02-16T10:35:36.183807Z\", \"duration\": \"0:00:45\", \"iteration\": \"34\", \"goal\": \"accuracy_max\", \"run_name\": \"MaxAbsScaler, LightGBM\", \"run_properties\": \"copy=True\", \"primary_metric\": 0.59662289, \"best_metric\": 0.66979362}, {\"run_id\": \"AutoML_7a5045ae-120b-4594-8551-6f31603fad12_35\", \"run_number\": 40, \"metric\": null, \"status\": \"Canceled\", \"run_type\": \"azureml.scriptrun\", \"training_percent\": \"100\", \"start_time\": \"2021-02-16T10:36:02.39599Z\", \"end_time\": \"2021-02-16T10:36:22.149818Z\", \"created_time\": \"2021-02-16T10:35:49.488987Z\", \"created_time_dt\": \"2021-02-16T10:35:49.488987Z\", \"duration\": \"0:00:32\", \"iteration\": \"35\", \"goal\": null, \"run_name\": \"Canceled\", \"run_properties\": null}, {\"run_id\": \"AutoML_7a5045ae-120b-4594-8551-6f31603fad12_36\", \"run_number\": 41, \"metric\": null, \"status\": \"Canceled\", \"run_type\": \"azureml.scriptrun\", \"training_percent\": \"100\", \"start_time\": \"2021-02-16T10:36:09.356684Z\", \"end_time\": \"2021-02-16T10:36:21.532511Z\", \"created_time\": \"2021-02-16T10:35:56.230616Z\", \"created_time_dt\": \"2021-02-16T10:35:56.230616Z\", \"duration\": \"0:00:25\", \"iteration\": \"36\", \"goal\": null, \"run_name\": \"Canceled\", \"run_properties\": null}, {\"run_id\": \"AutoML_7a5045ae-120b-4594-8551-6f31603fad12_37\", \"run_number\": 42, \"metric\": null, \"status\": \"Canceled\", \"run_type\": \"azureml.scriptrun\", \"training_percent\": \"100\", \"start_time\": \"2021-02-16T10:36:02.792189Z\", \"end_time\": \"2021-02-16T10:36:21.020157Z\", \"created_time\": \"2021-02-16T10:36:02.792189Z\", \"created_time_dt\": \"2021-02-16T10:36:02.792189Z\", \"duration\": \"0:00:18\", \"iteration\": \"37\", \"goal\": null, \"run_name\": \"Canceled\", \"run_properties\": null}, {\"run_id\": \"AutoML_7a5045ae-120b-4594-8551-6f31603fad12_38\", \"run_number\": 43, \"metric\": null, \"status\": \"Completed\", \"run_type\": \"azureml.scriptrun\", \"training_percent\": \"100\", \"start_time\": \"2021-02-16T10:36:37.635816Z\", \"end_time\": \"2021-02-16T10:38:06.226692Z\", \"created_time\": \"2021-02-16T10:36:24.735682Z\", \"created_time_dt\": \"2021-02-16T10:36:24.735682Z\", \"duration\": \"0:01:41\", \"iteration\": \"38\", \"goal\": \"accuracy_max\", \"run_name\": \"VotingEnsemble\", \"run_properties\": \"classification_labels=None,\\n                              estimators=[('0',\\n                                           Pipeline(memory=None,\\n                                                    steps=[('maxabsscaler',\\n                                                            MaxAbsScaler(copy=True\", \"primary_metric\": 0.69293308, \"best_metric\": 0.69293308}, {\"run_id\": \"AutoML_7a5045ae-120b-4594-8551-6f31603fad12_39\", \"run_number\": 44, \"metric\": null, \"status\": \"Completed\", \"run_type\": \"azureml.scriptrun\", \"training_percent\": \"100\", \"start_time\": \"2021-02-16T10:36:37.072453Z\", \"end_time\": \"2021-02-16T10:37:58.761422Z\", \"created_time\": \"2021-02-16T10:36:24.935292Z\", \"created_time_dt\": \"2021-02-16T10:36:24.935292Z\", \"duration\": \"0:01:33\", \"iteration\": \"39\", \"goal\": \"accuracy_max\", \"run_name\": \"StackEnsemble\", \"run_properties\": \"base_learners=[('0',\\n                                        Pipeline(memory=None,\\n                                                 steps=[('maxabsscaler',\\n                                                         MaxAbsScaler(copy=True\", \"primary_metric\": 0.66979362, \"best_metric\": 0.69293308}], \"children_metrics\": {\"categories\": [0], \"series\": {\"precision_score_micro\": [{\"categories\": [\"0\", \"1\", \"2\", \"3\", \"4\", \"5\", \"6\", \"7\", \"8\", \"9\", \"10\", \"11\", \"12\", \"13\", \"14\", \"15\", \"16\", \"17\", \"18\", \"19\", \"20\", \"21\", \"22\", \"23\", \"24\", \"25\", \"26\", \"27\", \"28\", \"29\", \"30\", \"31\", \"32\", \"33\", \"34\", \"38\", \"39\"], \"mode\": \"markers\", \"name\": \"precision_score_micro\", \"stepped\": false, \"type\": \"scatter\", \"data\": [0.6697936210131332, 0.6404002501563477, 0.6016260162601627, 0.5947467166979362, 0.5428392745465916, 0.6372732958098811, 0.6003752345215759, 0.616635397123202, 0.6397748592870545, 0.6128830519074422, 0.5947467166979362, 0.6078799249530956, 0.6053783614759225, 0.6297686053783614, 0.5984990619136961, 0.588492808005003, 0.541588492808005, 0.6153846153846154, 0.5784865540963102, 0.6022514071294559, 0.6047529706066291, 0.5984990619136961, 0.5834896810506566, 0.5697310819262039, 0.6160100062539087, 0.4871794871794872, 0.5772357723577235, 0.6022514071294559, 0.5891181988742965, 0.6322701688555347, 0.5997498436522827, 0.5878674171357098, 0.5859912445278299, 0.6604127579737336, 0.5966228893058161, 0.6929330831769857, 0.6697936210131332]}, {\"categories\": [\"0\", \"1\", \"2\", \"3\", \"4\", \"5\", \"6\", \"7\", \"8\", \"9\", \"10\", \"11\", \"12\", \"13\", \"14\", \"15\", \"16\", \"17\", \"18\", \"19\", \"20\", \"21\", \"22\", \"23\", \"24\", \"25\", \"26\", \"27\", \"28\", \"29\", \"30\", \"31\", \"32\", \"33\", \"34\", \"38\", \"39\"], \"mode\": \"lines\", \"name\": \"precision_score_micro_max\", \"stepped\": true, \"type\": \"scatter\", \"data\": [0.6697936210131332, 0.6697936210131332, 0.6697936210131332, 0.6697936210131332, 0.6697936210131332, 0.6697936210131332, 0.6697936210131332, 0.6697936210131332, 0.6697936210131332, 0.6697936210131332, 0.6697936210131332, 0.6697936210131332, 0.6697936210131332, 0.6697936210131332, 0.6697936210131332, 0.6697936210131332, 0.6697936210131332, 0.6697936210131332, 0.6697936210131332, 0.6697936210131332, 0.6697936210131332, 0.6697936210131332, 0.6697936210131332, 0.6697936210131332, 0.6697936210131332, 0.6697936210131332, 0.6697936210131332, 0.6697936210131332, 0.6697936210131332, 0.6697936210131332, 0.6697936210131332, 0.6697936210131332, 0.6697936210131332, 0.6697936210131332, 0.6697936210131332, 0.6929330831769857, 0.6929330831769857]}], \"weighted_accuracy\": [{\"categories\": [\"0\", \"1\", \"2\", \"3\", \"4\", \"5\", \"6\", \"7\", \"8\", \"9\", \"10\", \"11\", \"12\", \"13\", \"14\", \"15\", \"16\", \"17\", \"18\", \"19\", \"20\", \"21\", \"22\", \"23\", \"24\", \"25\", \"26\", \"27\", \"28\", \"29\", \"30\", \"31\", \"32\", \"33\", \"34\", \"38\", \"39\"], \"mode\": \"markers\", \"name\": \"weighted_accuracy\", \"stepped\": false, \"type\": \"scatter\", \"data\": [0.7210664525540361, 0.6933131763281636, 0.6774241751890159, 0.6741182128422039, 0.5548024525139859, 0.6908001878675852, 0.6587872027266067, 0.6884888987539933, 0.6912570014130196, 0.6722583765949476, 0.6771260407058227, 0.6695766433196614, 0.6690984709647108, 0.6795014364284137, 0.6896470778345575, 0.6765150074799205, 0.6139736974682518, 0.676682049437436, 0.6689379052766298, 0.6809190853730733, 0.6663342559259848, 0.6718809943425305, 0.6672510386476019, 0.6594851796264979, 0.701550231924549, 0.5659400252405664, 0.6675590365248395, 0.6891586624918893, 0.672804589645688, 0.6826026119656697, 0.6864767594718127, 0.6634389294679511, 0.6670502623119529, 0.7134938936195211, 0.6763060481989506, 0.7504127370794497, 0.7246827433418322]}, {\"categories\": [\"0\", \"1\", \"2\", \"3\", \"4\", \"5\", \"6\", \"7\", \"8\", \"9\", \"10\", \"11\", \"12\", \"13\", \"14\", \"15\", \"16\", \"17\", \"18\", \"19\", \"20\", \"21\", \"22\", \"23\", \"24\", \"25\", \"26\", \"27\", \"28\", \"29\", \"30\", \"31\", \"32\", \"33\", \"34\", \"38\", \"39\"], \"mode\": \"lines\", \"name\": \"weighted_accuracy_max\", \"stepped\": true, \"type\": \"scatter\", \"data\": [0.7210664525540361, 0.7210664525540361, 0.7210664525540361, 0.7210664525540361, 0.7210664525540361, 0.7210664525540361, 0.7210664525540361, 0.7210664525540361, 0.7210664525540361, 0.7210664525540361, 0.7210664525540361, 0.7210664525540361, 0.7210664525540361, 0.7210664525540361, 0.7210664525540361, 0.7210664525540361, 0.7210664525540361, 0.7210664525540361, 0.7210664525540361, 0.7210664525540361, 0.7210664525540361, 0.7210664525540361, 0.7210664525540361, 0.7210664525540361, 0.7210664525540361, 0.7210664525540361, 0.7210664525540361, 0.7210664525540361, 0.7210664525540361, 0.7210664525540361, 0.7210664525540361, 0.7210664525540361, 0.7210664525540361, 0.7210664525540361, 0.7210664525540361, 0.7504127370794497, 0.7504127370794497]}], \"AUC_weighted\": [{\"categories\": [\"0\", \"1\", \"2\", \"3\", \"4\", \"5\", \"6\", \"7\", \"8\", \"9\", \"10\", \"11\", \"12\", \"13\", \"14\", \"15\", \"16\", \"17\", \"18\", \"19\", \"20\", \"21\", \"22\", \"23\", \"24\", \"25\", \"26\", \"27\", \"28\", \"29\", \"30\", \"31\", \"32\", \"33\", \"34\", \"38\", \"39\"], \"mode\": \"markers\", \"name\": \"AUC_weighted\", \"stepped\": false, \"type\": \"scatter\", \"data\": [0.8233161976159064, 0.8002191039815337, 0.7769601613967728, 0.7592949663792891, 0.7614727003323797, 0.803396750601694, 0.7681567299607063, 0.771356361226401, 0.7989874213037749, 0.7788819353803046, 0.7744638216612881, 0.7734699861409743, 0.7743175565785004, 0.7908877685556085, 0.7737439671158906, 0.7698688921743485, 0.7079636095894615, 0.780722388433074, 0.7597626653141254, 0.7726508858563439, 0.7662736825892008, 0.7645390667756137, 0.7565163518619542, 0.752763597256771, 0.7884859487495423, 0.6998096494951654, 0.7530540566412466, 0.7633623864414655, 0.7617887847052055, 0.801394299800199, 0.767900274522158, 0.7576294411065172, 0.7597864759978307, 0.8160866492435455, 0.7610017484256297, 0.8324383311985152, 0.8311736699146298]}, {\"categories\": [\"0\", \"1\", \"2\", \"3\", \"4\", \"5\", \"6\", \"7\", \"8\", \"9\", \"10\", \"11\", \"12\", \"13\", \"14\", \"15\", \"16\", \"17\", \"18\", \"19\", \"20\", \"21\", \"22\", \"23\", \"24\", \"25\", \"26\", \"27\", \"28\", \"29\", \"30\", \"31\", \"32\", \"33\", \"34\", \"38\", \"39\"], \"mode\": \"lines\", \"name\": \"AUC_weighted_max\", \"stepped\": true, \"type\": \"scatter\", \"data\": [0.8233161976159064, 0.8233161976159064, 0.8233161976159064, 0.8233161976159064, 0.8233161976159064, 0.8233161976159064, 0.8233161976159064, 0.8233161976159064, 0.8233161976159064, 0.8233161976159064, 0.8233161976159064, 0.8233161976159064, 0.8233161976159064, 0.8233161976159064, 0.8233161976159064, 0.8233161976159064, 0.8233161976159064, 0.8233161976159064, 0.8233161976159064, 0.8233161976159064, 0.8233161976159064, 0.8233161976159064, 0.8233161976159064, 0.8233161976159064, 0.8233161976159064, 0.8233161976159064, 0.8233161976159064, 0.8233161976159064, 0.8233161976159064, 0.8233161976159064, 0.8233161976159064, 0.8233161976159064, 0.8233161976159064, 0.8233161976159064, 0.8233161976159064, 0.8324383311985152, 0.8324383311985152]}], \"log_loss\": [{\"categories\": [\"0\", \"1\", \"2\", \"3\", \"4\", \"5\", \"6\", \"7\", \"8\", \"9\", \"10\", \"11\", \"12\", \"13\", \"14\", \"15\", \"16\", \"17\", \"18\", \"19\", \"20\", \"21\", \"22\", \"23\", \"24\", \"25\", \"26\", \"27\", \"28\", \"29\", \"30\", \"31\", \"32\", \"33\", \"34\", \"38\", \"39\"], \"mode\": \"markers\", \"name\": \"log_loss\", \"stepped\": false, \"type\": \"scatter\", \"data\": [0.9924149740427904, 0.9020799331353598, 0.9453379629584443, 0.9884757924398396, 1.1490541574032291, 0.9266742346737745, 0.9792347757434552, 0.9616741496332771, 0.9133511968769139, 0.9412005847453454, 0.9518851396469424, 0.9519204765109314, 0.930420108931389, 0.9325324103926325, 1.0274730604759332, 0.954376864285322, 1.0436021558543567, 0.9290074319403816, 0.9872852766230856, 0.9834879104252613, 0.9478883685977039, 0.9605396843564842, 1.0141579404780543, 1.0171075071143905, 0.9581613839517801, 1.1656970854271576, 1.0179734009154686, 1.0108892209737723, 1.001001808027146, 0.9113014878395913, 1.0144636151286084, 0.9679333692456447, 0.9710794361031944, 0.8732624634846385, 1.0175848373490215, 0.8563404371380857, 0.8525703855669343]}, {\"categories\": [\"0\", \"1\", \"2\", \"3\", \"4\", \"5\", \"6\", \"7\", \"8\", \"9\", \"10\", \"11\", \"12\", \"13\", \"14\", \"15\", \"16\", \"17\", \"18\", \"19\", \"20\", \"21\", \"22\", \"23\", \"24\", \"25\", \"26\", \"27\", \"28\", \"29\", \"30\", \"31\", \"32\", \"33\", \"34\", \"38\", \"39\"], \"mode\": \"lines\", \"name\": \"log_loss_min\", \"stepped\": true, \"type\": \"scatter\", \"data\": [0.9924149740427904, 0.9020799331353598, 0.9020799331353598, 0.9020799331353598, 0.9020799331353598, 0.9020799331353598, 0.9020799331353598, 0.9020799331353598, 0.9020799331353598, 0.9020799331353598, 0.9020799331353598, 0.9020799331353598, 0.9020799331353598, 0.9020799331353598, 0.9020799331353598, 0.9020799331353598, 0.9020799331353598, 0.9020799331353598, 0.9020799331353598, 0.9020799331353598, 0.9020799331353598, 0.9020799331353598, 0.9020799331353598, 0.9020799331353598, 0.9020799331353598, 0.9020799331353598, 0.9020799331353598, 0.9020799331353598, 0.9020799331353598, 0.9020799331353598, 0.9020799331353598, 0.9020799331353598, 0.9020799331353598, 0.8732624634846385, 0.8732624634846385, 0.8563404371380857, 0.8525703855669343]}], \"precision_score_weighted\": [{\"categories\": [\"0\", \"1\", \"2\", \"3\", \"4\", \"5\", \"6\", \"7\", \"8\", \"9\", \"10\", \"11\", \"12\", \"13\", \"14\", \"15\", \"16\", \"17\", \"18\", \"19\", \"20\", \"21\", \"22\", \"23\", \"24\", \"25\", \"26\", \"27\", \"28\", \"29\", \"30\", \"31\", \"32\", \"33\", \"34\", \"38\", \"39\"], \"mode\": \"markers\", \"name\": \"precision_score_weighted\", \"stepped\": false, \"type\": \"scatter\", \"data\": [0.6445684463221724, 0.6138517124568071, 0.5777438905850137, 0.5808240375026738, 0.5868737621791985, 0.6175684038817716, 0.5716653421068505, 0.5925175625865341, 0.6204086828252583, 0.5849254627675291, 0.5954439475093477, 0.5786024733733017, 0.5735074499020655, 0.6189527310104316, 0.5342047791081462, 0.5833449813921209, 0.5153698539737731, 0.5833552593922204, 0.4796747194432614, 0.5822294704463683, 0.5747492718781303, 0.5716836057411873, 0.5807726118844168, 0.4709384374113464, 0.6116380195212751, 0.48740448442536316, 0.47840057533164954, 0.6040387426361914, 0.5895109306362766, 0.6212038801918235, 0.5939861324568746, 0.5600173775163735, 0.5994821328611043, 0.6400037292720001, 0.5881777373797223, 0.6682421494224967, 0.6430135439094292]}, {\"categories\": [\"0\", \"1\", \"2\", \"3\", \"4\", \"5\", \"6\", \"7\", \"8\", \"9\", \"10\", \"11\", \"12\", \"13\", \"14\", \"15\", \"16\", \"17\", \"18\", \"19\", \"20\", \"21\", \"22\", \"23\", \"24\", \"25\", \"26\", \"27\", \"28\", \"29\", \"30\", \"31\", \"32\", \"33\", \"34\", \"38\", \"39\"], \"mode\": \"lines\", \"name\": \"precision_score_weighted_max\", \"stepped\": true, \"type\": \"scatter\", \"data\": [0.6445684463221724, 0.6445684463221724, 0.6445684463221724, 0.6445684463221724, 0.6445684463221724, 0.6445684463221724, 0.6445684463221724, 0.6445684463221724, 0.6445684463221724, 0.6445684463221724, 0.6445684463221724, 0.6445684463221724, 0.6445684463221724, 0.6445684463221724, 0.6445684463221724, 0.6445684463221724, 0.6445684463221724, 0.6445684463221724, 0.6445684463221724, 0.6445684463221724, 0.6445684463221724, 0.6445684463221724, 0.6445684463221724, 0.6445684463221724, 0.6445684463221724, 0.6445684463221724, 0.6445684463221724, 0.6445684463221724, 0.6445684463221724, 0.6445684463221724, 0.6445684463221724, 0.6445684463221724, 0.6445684463221724, 0.6445684463221724, 0.6445684463221724, 0.6682421494224967, 0.6682421494224967]}], \"average_precision_score_weighted\": [{\"categories\": [\"0\", \"1\", \"2\", \"3\", \"4\", \"5\", \"6\", \"7\", \"8\", \"9\", \"10\", \"11\", \"12\", \"13\", \"14\", \"15\", \"16\", \"17\", \"18\", \"19\", \"20\", \"21\", \"22\", \"23\", \"24\", \"25\", \"26\", \"27\", \"28\", \"29\", \"30\", \"31\", \"32\", \"33\", \"34\", \"38\", \"39\"], \"mode\": \"markers\", \"name\": \"average_precision_score_weighted\", \"stepped\": false, \"type\": \"scatter\", \"data\": [0.6897981406736372, 0.6540446019592153, 0.6291509337287148, 0.6111649760538271, 0.6188170429107206, 0.6861690332742626, 0.6214624089277957, 0.604429282496112, 0.6819723026991018, 0.6181271329169928, 0.6332606675194197, 0.6239776605437167, 0.6267487838231318, 0.664533553703733, 0.6249827762311355, 0.6168113208871666, 0.5577489920685771, 0.6370257935960613, 0.604729169152148, 0.621366083546088, 0.6161760485639834, 0.6137305268904453, 0.6072514894010278, 0.5924249716970769, 0.6453751475860227, 0.5562237629843197, 0.5922882408892424, 0.6127602058129371, 0.6107781477452788, 0.6834251428703014, 0.6147938049128594, 0.5969228883938861, 0.6046824932631782, 0.6804788176158986, 0.6117655842507707, 0.7068598451895248, 0.7139617482687212]}, {\"categories\": [\"0\", \"1\", \"2\", \"3\", \"4\", \"5\", \"6\", \"7\", \"8\", \"9\", \"10\", \"11\", \"12\", \"13\", \"14\", \"15\", \"16\", \"17\", \"18\", \"19\", \"20\", \"21\", \"22\", \"23\", \"24\", \"25\", \"26\", \"27\", \"28\", \"29\", \"30\", \"31\", \"32\", \"33\", \"34\", \"38\", \"39\"], \"mode\": \"lines\", \"name\": \"average_precision_score_weighted_max\", \"stepped\": true, \"type\": \"scatter\", \"data\": [0.6897981406736372, 0.6897981406736372, 0.6897981406736372, 0.6897981406736372, 0.6897981406736372, 0.6897981406736372, 0.6897981406736372, 0.6897981406736372, 0.6897981406736372, 0.6897981406736372, 0.6897981406736372, 0.6897981406736372, 0.6897981406736372, 0.6897981406736372, 0.6897981406736372, 0.6897981406736372, 0.6897981406736372, 0.6897981406736372, 0.6897981406736372, 0.6897981406736372, 0.6897981406736372, 0.6897981406736372, 0.6897981406736372, 0.6897981406736372, 0.6897981406736372, 0.6897981406736372, 0.6897981406736372, 0.6897981406736372, 0.6897981406736372, 0.6897981406736372, 0.6897981406736372, 0.6897981406736372, 0.6897981406736372, 0.6897981406736372, 0.6897981406736372, 0.7068598451895248, 0.7139617482687212]}], \"matthews_correlation\": [{\"categories\": [\"0\", \"1\", \"2\", \"3\", \"4\", \"5\", \"6\", \"7\", \"8\", \"9\", \"10\", \"11\", \"12\", \"13\", \"14\", \"15\", \"16\", \"17\", \"18\", \"19\", \"20\", \"21\", \"22\", \"23\", \"24\", \"25\", \"26\", \"27\", \"28\", \"29\", \"30\", \"31\", \"32\", \"33\", \"34\", \"38\", \"39\"], \"mode\": \"markers\", \"name\": \"matthews_correlation\", \"stepped\": false, \"type\": \"scatter\", \"data\": [0.46903214272579685, 0.4213466121581075, 0.342020471725776, 0.3274848407982589, 0.3378260853257398, 0.41419142814180776, 0.34658753668874714, 0.3689420876368232, 0.41936150304427905, 0.3688014902600814, 0.3263876162904659, 0.35979373594761815, 0.3549483918109418, 0.4029091566724463, 0.33066499035964764, 0.3132117338586873, 0.23744916891563536, 0.3741533980709148, 0.295264530512271, 0.3412002278025325, 0.35614338510376126, 0.33692760340033284, 0.30592956174943736, 0.2791672484359438, 0.36211191375998847, 0.1606875520823152, 0.29299921142745394, 0.3386066308610645, 0.3158472765167701, 0.40722600875896875, 0.33352545697184155, 0.3196664578568123, 0.3117685891736817, 0.4518633396214013, 0.3306249131852884, 0.5018105242127707, 0.467031896103734]}, {\"categories\": [\"0\", \"1\", \"2\", \"3\", \"4\", \"5\", \"6\", \"7\", \"8\", \"9\", \"10\", \"11\", \"12\", \"13\", \"14\", \"15\", \"16\", \"17\", \"18\", \"19\", \"20\", \"21\", \"22\", \"23\", \"24\", \"25\", \"26\", \"27\", \"28\", \"29\", \"30\", \"31\", \"32\", \"33\", \"34\", \"38\", \"39\"], \"mode\": \"lines\", \"name\": \"matthews_correlation_max\", \"stepped\": true, \"type\": \"scatter\", \"data\": [0.46903214272579685, 0.46903214272579685, 0.46903214272579685, 0.46903214272579685, 0.46903214272579685, 0.46903214272579685, 0.46903214272579685, 0.46903214272579685, 0.46903214272579685, 0.46903214272579685, 0.46903214272579685, 0.46903214272579685, 0.46903214272579685, 0.46903214272579685, 0.46903214272579685, 0.46903214272579685, 0.46903214272579685, 0.46903214272579685, 0.46903214272579685, 0.46903214272579685, 0.46903214272579685, 0.46903214272579685, 0.46903214272579685, 0.46903214272579685, 0.46903214272579685, 0.46903214272579685, 0.46903214272579685, 0.46903214272579685, 0.46903214272579685, 0.46903214272579685, 0.46903214272579685, 0.46903214272579685, 0.46903214272579685, 0.46903214272579685, 0.46903214272579685, 0.5018105242127707, 0.5018105242127707]}], \"balanced_accuracy\": [{\"categories\": [\"0\", \"1\", \"2\", \"3\", \"4\", \"5\", \"6\", \"7\", \"8\", \"9\", \"10\", \"11\", \"12\", \"13\", \"14\", \"15\", \"16\", \"17\", \"18\", \"19\", \"20\", \"21\", \"22\", \"23\", \"24\", \"25\", \"26\", \"27\", \"28\", \"29\", \"30\", \"31\", \"32\", \"33\", \"34\", \"38\", \"39\"], \"mode\": \"markers\", \"name\": \"balanced_accuracy\", \"stepped\": false, \"type\": \"scatter\", \"data\": [0.35906592058635795, 0.32398687554843536, 0.26484166536531356, 0.2563353696222424, 0.3776949254398479, 0.32673243763599497, 0.2848635571538665, 0.27755924764818335, 0.33031147803083183, 0.28983509921347994, 0.2524953828861982, 0.2838580527050892, 0.2812785040862032, 0.32917170484546293, 0.24397002286053304, 0.24284637613748328, 0.23300542388190706, 0.2895058451417301, 0.23352640852620396, 0.26158342811300583, 0.2827385364592801, 0.2660445105919967, 0.24461563710290235, 0.22979390701439806, 0.26132801182211446, 0.19548037240167768, 0.23304512150017112, 0.2513531635824216, 0.24768606480845987, 0.3301478073020652, 0.25047443015968146, 0.2588338219851623, 0.24817595742378584, 0.3276051945175981, 0.25657299111445103, 0.3551340528133166, 0.3451328783375764]}, {\"categories\": [\"0\", \"1\", \"2\", \"3\", \"4\", \"5\", \"6\", \"7\", \"8\", \"9\", \"10\", \"11\", \"12\", \"13\", \"14\", \"15\", \"16\", \"17\", \"18\", \"19\", \"20\", \"21\", \"22\", \"23\", \"24\", \"25\", \"26\", \"27\", \"28\", \"29\", \"30\", \"31\", \"32\", \"33\", \"34\", \"38\", \"39\"], \"mode\": \"lines\", \"name\": \"balanced_accuracy_max\", \"stepped\": true, \"type\": \"scatter\", \"data\": [0.35906592058635795, 0.35906592058635795, 0.35906592058635795, 0.35906592058635795, 0.3776949254398479, 0.3776949254398479, 0.3776949254398479, 0.3776949254398479, 0.3776949254398479, 0.3776949254398479, 0.3776949254398479, 0.3776949254398479, 0.3776949254398479, 0.3776949254398479, 0.3776949254398479, 0.3776949254398479, 0.3776949254398479, 0.3776949254398479, 0.3776949254398479, 0.3776949254398479, 0.3776949254398479, 0.3776949254398479, 0.3776949254398479, 0.3776949254398479, 0.3776949254398479, 0.3776949254398479, 0.3776949254398479, 0.3776949254398479, 0.3776949254398479, 0.3776949254398479, 0.3776949254398479, 0.3776949254398479, 0.3776949254398479, 0.3776949254398479, 0.3776949254398479, 0.3776949254398479, 0.3776949254398479]}], \"f1_score_weighted\": [{\"categories\": [\"0\", \"1\", \"2\", \"3\", \"4\", \"5\", \"6\", \"7\", \"8\", \"9\", \"10\", \"11\", \"12\", \"13\", \"14\", \"15\", \"16\", \"17\", \"18\", \"19\", \"20\", \"21\", \"22\", \"23\", \"24\", \"25\", \"26\", \"27\", \"28\", \"29\", \"30\", \"31\", \"32\", \"33\", \"34\", \"38\", \"39\"], \"mode\": \"markers\", \"name\": \"f1_score_weighted\", \"stepped\": false, \"type\": \"scatter\", \"data\": [0.6548482976826805, 0.6246899876688815, 0.5704002156654243, 0.558365333015562, 0.5524204193369385, 0.6209521300974981, 0.5788338743334506, 0.5883252299260557, 0.6240876638819414, 0.5915585920364017, 0.5547979918625255, 0.5866052151783475, 0.5830984714697679, 0.6153524372092578, 0.5457430429629008, 0.5402528083368627, 0.5088057407460808, 0.5952652438248301, 0.5227680235576021, 0.5671720932951335, 0.5845957102839948, 0.5695973665353877, 0.5400770331489374, 0.5141179268330416, 0.5747950604547847, 0.38791862266935767, 0.521512660476856, 0.5572323516371678, 0.5466914587088431, 0.6174447827859285, 0.5547259203138732, 0.5556056327529127, 0.5460020097865298, 0.6434727788027576, 0.5595805902576882, 0.6735987122623225, 0.6516444363533077]}, {\"categories\": [\"0\", \"1\", \"2\", \"3\", \"4\", \"5\", \"6\", \"7\", \"8\", \"9\", \"10\", \"11\", \"12\", \"13\", \"14\", \"15\", \"16\", \"17\", \"18\", \"19\", \"20\", \"21\", \"22\", \"23\", \"24\", \"25\", \"26\", \"27\", \"28\", \"29\", \"30\", \"31\", \"32\", \"33\", \"34\", \"38\", \"39\"], \"mode\": \"lines\", \"name\": \"f1_score_weighted_max\", \"stepped\": true, \"type\": \"scatter\", \"data\": [0.6548482976826805, 0.6548482976826805, 0.6548482976826805, 0.6548482976826805, 0.6548482976826805, 0.6548482976826805, 0.6548482976826805, 0.6548482976826805, 0.6548482976826805, 0.6548482976826805, 0.6548482976826805, 0.6548482976826805, 0.6548482976826805, 0.6548482976826805, 0.6548482976826805, 0.6548482976826805, 0.6548482976826805, 0.6548482976826805, 0.6548482976826805, 0.6548482976826805, 0.6548482976826805, 0.6548482976826805, 0.6548482976826805, 0.6548482976826805, 0.6548482976826805, 0.6548482976826805, 0.6548482976826805, 0.6548482976826805, 0.6548482976826805, 0.6548482976826805, 0.6548482976826805, 0.6548482976826805, 0.6548482976826805, 0.6548482976826805, 0.6548482976826805, 0.6735987122623225, 0.6735987122623225]}], \"accuracy\": [{\"categories\": [\"0\", \"1\", \"2\", \"3\", \"4\", \"5\", \"6\", \"7\", \"8\", \"9\", \"10\", \"11\", \"12\", \"13\", \"14\", \"15\", \"16\", \"17\", \"18\", \"19\", \"20\", \"21\", \"22\", \"23\", \"24\", \"25\", \"26\", \"27\", \"28\", \"29\", \"30\", \"31\", \"32\", \"33\", \"34\", \"38\", \"39\"], \"mode\": \"markers\", \"name\": \"accuracy\", \"stepped\": false, \"type\": \"scatter\", \"data\": [0.6697936210131332, 0.6404002501563477, 0.6016260162601627, 0.5947467166979362, 0.5428392745465916, 0.6372732958098811, 0.6003752345215759, 0.616635397123202, 0.6397748592870545, 0.6128830519074422, 0.5947467166979362, 0.6078799249530956, 0.6053783614759225, 0.6297686053783614, 0.5984990619136961, 0.588492808005003, 0.541588492808005, 0.6153846153846154, 0.5784865540963102, 0.6022514071294559, 0.6047529706066291, 0.5984990619136961, 0.5834896810506566, 0.5697310819262039, 0.6160100062539087, 0.4871794871794872, 0.5772357723577235, 0.6022514071294559, 0.5891181988742965, 0.6322701688555347, 0.5997498436522827, 0.5878674171357098, 0.5859912445278299, 0.6604127579737336, 0.5966228893058161, 0.6929330831769857, 0.6697936210131332]}, {\"categories\": [\"0\", \"1\", \"2\", \"3\", \"4\", \"5\", \"6\", \"7\", \"8\", \"9\", \"10\", \"11\", \"12\", \"13\", \"14\", \"15\", \"16\", \"17\", \"18\", \"19\", \"20\", \"21\", \"22\", \"23\", \"24\", \"25\", \"26\", \"27\", \"28\", \"29\", \"30\", \"31\", \"32\", \"33\", \"34\", \"38\", \"39\"], \"mode\": \"lines\", \"name\": \"accuracy_max\", \"stepped\": true, \"type\": \"scatter\", \"data\": [0.6697936210131332, 0.6697936210131332, 0.6697936210131332, 0.6697936210131332, 0.6697936210131332, 0.6697936210131332, 0.6697936210131332, 0.6697936210131332, 0.6697936210131332, 0.6697936210131332, 0.6697936210131332, 0.6697936210131332, 0.6697936210131332, 0.6697936210131332, 0.6697936210131332, 0.6697936210131332, 0.6697936210131332, 0.6697936210131332, 0.6697936210131332, 0.6697936210131332, 0.6697936210131332, 0.6697936210131332, 0.6697936210131332, 0.6697936210131332, 0.6697936210131332, 0.6697936210131332, 0.6697936210131332, 0.6697936210131332, 0.6697936210131332, 0.6697936210131332, 0.6697936210131332, 0.6697936210131332, 0.6697936210131332, 0.6697936210131332, 0.6697936210131332, 0.6929330831769857, 0.6929330831769857]}], \"AUC_macro\": [{\"categories\": [\"0\", \"1\", \"2\", \"3\", \"4\", \"5\", \"6\", \"7\", \"8\", \"9\", \"10\", \"11\", \"12\", \"13\", \"14\", \"15\", \"16\", \"17\", \"18\", \"19\", \"20\", \"21\", \"22\", \"23\", \"24\", \"25\", \"26\", \"27\", \"28\", \"29\", \"30\", \"31\", \"32\", \"33\", \"34\", \"38\", \"39\"], \"mode\": \"markers\", \"name\": \"AUC_macro\", \"stepped\": false, \"type\": \"scatter\", \"data\": [0.8291566230276342, 0.8240288076511862, 0.8075193837583748, 0.7796981921379885, 0.7946131847039458, 0.8028826768894296, 0.7417988258185423, 0.8058609847454713, 0.7798778509947505, 0.8054099748553555, 0.8279856326176716, 0.8068929649825408, 0.8229078385676494, 0.8021012832778119, 0.8015698324921701, 0.8275319105331415, 0.7312203575821831, 0.7689091850077713, 0.8144059124655901, 0.815941609949192, 0.791068258631789, 0.8057388614138192, 0.7753483225222694, 0.8066707200894582, 0.8241902708914736, 0.7074620286847143, 0.8029196763860846, 0.7632756851889778, 0.8112913103522938, 0.7835784924079715, 0.7934219360060664, 0.8114761548829684, 0.7996261449771708, 0.8347182730250579, 0.792401904948802, 0.8485536386389266, 0.8511693377901436]}, {\"categories\": [\"0\", \"1\", \"2\", \"3\", \"4\", \"5\", \"6\", \"7\", \"8\", \"9\", \"10\", \"11\", \"12\", \"13\", \"14\", \"15\", \"16\", \"17\", \"18\", \"19\", \"20\", \"21\", \"22\", \"23\", \"24\", \"25\", \"26\", \"27\", \"28\", \"29\", \"30\", \"31\", \"32\", \"33\", \"34\", \"38\", \"39\"], \"mode\": \"lines\", \"name\": \"AUC_macro_max\", \"stepped\": true, \"type\": \"scatter\", \"data\": [0.8291566230276342, 0.8291566230276342, 0.8291566230276342, 0.8291566230276342, 0.8291566230276342, 0.8291566230276342, 0.8291566230276342, 0.8291566230276342, 0.8291566230276342, 0.8291566230276342, 0.8291566230276342, 0.8291566230276342, 0.8291566230276342, 0.8291566230276342, 0.8291566230276342, 0.8291566230276342, 0.8291566230276342, 0.8291566230276342, 0.8291566230276342, 0.8291566230276342, 0.8291566230276342, 0.8291566230276342, 0.8291566230276342, 0.8291566230276342, 0.8291566230276342, 0.8291566230276342, 0.8291566230276342, 0.8291566230276342, 0.8291566230276342, 0.8291566230276342, 0.8291566230276342, 0.8291566230276342, 0.8291566230276342, 0.8347182730250579, 0.8347182730250579, 0.8485536386389266, 0.8511693377901436]}], \"average_precision_score_micro\": [{\"categories\": [\"0\", \"1\", \"2\", \"3\", \"4\", \"5\", \"6\", \"7\", \"8\", \"9\", \"10\", \"11\", \"12\", \"13\", \"14\", \"15\", \"16\", \"17\", \"18\", \"19\", \"20\", \"21\", \"22\", \"23\", \"24\", \"25\", \"26\", \"27\", \"28\", \"29\", \"30\", \"31\", \"32\", \"33\", \"34\", \"38\", \"39\"], \"mode\": \"markers\", \"name\": \"average_precision_score_micro\", \"stepped\": false, \"type\": \"scatter\", \"data\": [0.7040628215636255, 0.675612165031518, 0.6469754001269372, 0.6256331916263136, 0.5865484025323565, 0.6964326633209831, 0.6402042436510776, 0.6185513208643659, 0.6944169474937162, 0.633398828667188, 0.641348485339524, 0.6438698961511246, 0.6453088721213193, 0.675943479375564, 0.6277031058260641, 0.6360705604500808, 0.5755654233503905, 0.6551872334633316, 0.6198081758851552, 0.6366630747563663, 0.633080047076263, 0.6308897981595852, 0.6177723530635798, 0.6041102294791394, 0.6547750008377795, 0.5465733214587759, 0.6084459830105234, 0.6250799000915682, 0.6209618657827537, 0.6964120472129668, 0.6237629192421874, 0.6198121164220821, 0.6202298248873069, 0.6966268422533036, 0.6188255646857308, 0.7179263446605096, 0.7233646938032569]}, {\"categories\": [\"0\", \"1\", \"2\", \"3\", \"4\", \"5\", \"6\", \"7\", \"8\", \"9\", \"10\", \"11\", \"12\", \"13\", \"14\", \"15\", \"16\", \"17\", \"18\", \"19\", \"20\", \"21\", \"22\", \"23\", \"24\", \"25\", \"26\", \"27\", \"28\", \"29\", \"30\", \"31\", \"32\", \"33\", \"34\", \"38\", \"39\"], \"mode\": \"lines\", \"name\": \"average_precision_score_micro_max\", \"stepped\": true, \"type\": \"scatter\", \"data\": [0.7040628215636255, 0.7040628215636255, 0.7040628215636255, 0.7040628215636255, 0.7040628215636255, 0.7040628215636255, 0.7040628215636255, 0.7040628215636255, 0.7040628215636255, 0.7040628215636255, 0.7040628215636255, 0.7040628215636255, 0.7040628215636255, 0.7040628215636255, 0.7040628215636255, 0.7040628215636255, 0.7040628215636255, 0.7040628215636255, 0.7040628215636255, 0.7040628215636255, 0.7040628215636255, 0.7040628215636255, 0.7040628215636255, 0.7040628215636255, 0.7040628215636255, 0.7040628215636255, 0.7040628215636255, 0.7040628215636255, 0.7040628215636255, 0.7040628215636255, 0.7040628215636255, 0.7040628215636255, 0.7040628215636255, 0.7040628215636255, 0.7040628215636255, 0.7179263446605096, 0.7233646938032569]}], \"f1_score_macro\": [{\"categories\": [\"0\", \"1\", \"2\", \"3\", \"4\", \"5\", \"6\", \"7\", \"8\", \"9\", \"10\", \"11\", \"12\", \"13\", \"14\", \"15\", \"16\", \"17\", \"18\", \"19\", \"20\", \"21\", \"22\", \"23\", \"24\", \"25\", \"26\", \"27\", \"28\", \"29\", \"30\", \"31\", \"32\", \"33\", \"34\", \"38\", \"39\"], \"mode\": \"markers\", \"name\": \"f1_score_macro\", \"stepped\": false, \"type\": \"scatter\", \"data\": [0.3682395861115119, 0.32839392882011814, 0.26310472362896387, 0.25159339792853525, 0.3351584807411731, 0.3398222130106139, 0.28739812058517183, 0.2768758633258061, 0.33950123997401094, 0.2908528520668233, 0.2452747268356258, 0.2851916963665775, 0.282167566770502, 0.34246469452474454, 0.22383487213131684, 0.22739041234087023, 0.22806403643435613, 0.28924929185519344, 0.21052799731524555, 0.2585346730573965, 0.28346388989587296, 0.26600048043163177, 0.2339835216132656, 0.20697286172496274, 0.25394695092186326, 0.15570651096113314, 0.21004854154382455, 0.23914223239665375, 0.2377530973102285, 0.343252102230849, 0.23881830730331588, 0.2569019409709355, 0.23948827328301472, 0.3300157777507316, 0.25168363635438845, 0.3705263296586893, 0.3562546250352652]}, {\"categories\": [\"0\", \"1\", \"2\", \"3\", \"4\", \"5\", \"6\", \"7\", \"8\", \"9\", \"10\", \"11\", \"12\", \"13\", \"14\", \"15\", \"16\", \"17\", \"18\", \"19\", \"20\", \"21\", \"22\", \"23\", \"24\", \"25\", \"26\", \"27\", \"28\", \"29\", \"30\", \"31\", \"32\", \"33\", \"34\", \"38\", \"39\"], \"mode\": \"lines\", \"name\": \"f1_score_macro_max\", \"stepped\": true, \"type\": \"scatter\", \"data\": [0.3682395861115119, 0.3682395861115119, 0.3682395861115119, 0.3682395861115119, 0.3682395861115119, 0.3682395861115119, 0.3682395861115119, 0.3682395861115119, 0.3682395861115119, 0.3682395861115119, 0.3682395861115119, 0.3682395861115119, 0.3682395861115119, 0.3682395861115119, 0.3682395861115119, 0.3682395861115119, 0.3682395861115119, 0.3682395861115119, 0.3682395861115119, 0.3682395861115119, 0.3682395861115119, 0.3682395861115119, 0.3682395861115119, 0.3682395861115119, 0.3682395861115119, 0.3682395861115119, 0.3682395861115119, 0.3682395861115119, 0.3682395861115119, 0.3682395861115119, 0.3682395861115119, 0.3682395861115119, 0.3682395861115119, 0.3682395861115119, 0.3682395861115119, 0.3705263296586893, 0.3705263296586893]}], \"recall_score_micro\": [{\"categories\": [\"0\", \"1\", \"2\", \"3\", \"4\", \"5\", \"6\", \"7\", \"8\", \"9\", \"10\", \"11\", \"12\", \"13\", \"14\", \"15\", \"16\", \"17\", \"18\", \"19\", \"20\", \"21\", \"22\", \"23\", \"24\", \"25\", \"26\", \"27\", \"28\", \"29\", \"30\", \"31\", \"32\", \"33\", \"34\", \"38\", \"39\"], \"mode\": \"markers\", \"name\": \"recall_score_micro\", \"stepped\": false, \"type\": \"scatter\", \"data\": [0.6697936210131332, 0.6404002501563477, 0.6016260162601627, 0.5947467166979362, 0.5428392745465916, 0.6372732958098811, 0.6003752345215759, 0.616635397123202, 0.6397748592870545, 0.6128830519074422, 0.5947467166979362, 0.6078799249530956, 0.6053783614759225, 0.6297686053783614, 0.5984990619136961, 0.588492808005003, 0.541588492808005, 0.6153846153846154, 0.5784865540963102, 0.6022514071294559, 0.6047529706066291, 0.5984990619136961, 0.5834896810506566, 0.5697310819262039, 0.6160100062539087, 0.4871794871794872, 0.5772357723577235, 0.6022514071294559, 0.5891181988742965, 0.6322701688555347, 0.5997498436522827, 0.5878674171357098, 0.5859912445278299, 0.6604127579737336, 0.5966228893058161, 0.6929330831769857, 0.6697936210131332]}, {\"categories\": [\"0\", \"1\", \"2\", \"3\", \"4\", \"5\", \"6\", \"7\", \"8\", \"9\", \"10\", \"11\", \"12\", \"13\", \"14\", \"15\", \"16\", \"17\", \"18\", \"19\", \"20\", \"21\", \"22\", \"23\", \"24\", \"25\", \"26\", \"27\", \"28\", \"29\", \"30\", \"31\", \"32\", \"33\", \"34\", \"38\", \"39\"], \"mode\": \"lines\", \"name\": \"recall_score_micro_max\", \"stepped\": true, \"type\": \"scatter\", \"data\": [0.6697936210131332, 0.6697936210131332, 0.6697936210131332, 0.6697936210131332, 0.6697936210131332, 0.6697936210131332, 0.6697936210131332, 0.6697936210131332, 0.6697936210131332, 0.6697936210131332, 0.6697936210131332, 0.6697936210131332, 0.6697936210131332, 0.6697936210131332, 0.6697936210131332, 0.6697936210131332, 0.6697936210131332, 0.6697936210131332, 0.6697936210131332, 0.6697936210131332, 0.6697936210131332, 0.6697936210131332, 0.6697936210131332, 0.6697936210131332, 0.6697936210131332, 0.6697936210131332, 0.6697936210131332, 0.6697936210131332, 0.6697936210131332, 0.6697936210131332, 0.6697936210131332, 0.6697936210131332, 0.6697936210131332, 0.6697936210131332, 0.6697936210131332, 0.6929330831769857, 0.6929330831769857]}], \"precision_score_macro\": [{\"categories\": [\"0\", \"1\", \"2\", \"3\", \"4\", \"5\", \"6\", \"7\", \"8\", \"9\", \"10\", \"11\", \"12\", \"13\", \"14\", \"15\", \"16\", \"17\", \"18\", \"19\", \"20\", \"21\", \"22\", \"23\", \"24\", \"25\", \"26\", \"27\", \"28\", \"29\", \"30\", \"31\", \"32\", \"33\", \"34\", \"38\", \"39\"], \"mode\": \"markers\", \"name\": \"precision_score_macro\", \"stepped\": false, \"type\": \"scatter\", \"data\": [0.3899344650245374, 0.34356396206784795, 0.30544606881712877, 0.3163197544858522, 0.3260518217317306, 0.4272922507867107, 0.30383702157134745, 0.31663149534264573, 0.39554921348659916, 0.3087228895082343, 0.3365758018862699, 0.3003041787649778, 0.2958839788770784, 0.45179435994854283, 0.24463124264410804, 0.3239973222264676, 0.26872931579874754, 0.2968875422698611, 0.19278000201620327, 0.3147451467625567, 0.2949941006806976, 0.30117535624711955, 0.32583045706271657, 0.18929366533621803, 0.34256059657710947, 0.19625211385832866, 0.1922989323609111, 0.33978713593351556, 0.3328272776277824, 0.4527724293988388, 0.3288812254177577, 0.3008496897750626, 0.34648371847897336, 0.38282135548917756, 0.32568605054001853, 0.4620677077787018, 0.4383617446850601]}, {\"categories\": [\"0\", \"1\", \"2\", \"3\", \"4\", \"5\", \"6\", \"7\", \"8\", \"9\", \"10\", \"11\", \"12\", \"13\", \"14\", \"15\", \"16\", \"17\", \"18\", \"19\", \"20\", \"21\", \"22\", \"23\", \"24\", \"25\", \"26\", \"27\", \"28\", \"29\", \"30\", \"31\", \"32\", \"33\", \"34\", \"38\", \"39\"], \"mode\": \"lines\", \"name\": \"precision_score_macro_max\", \"stepped\": true, \"type\": \"scatter\", \"data\": [0.3899344650245374, 0.3899344650245374, 0.3899344650245374, 0.3899344650245374, 0.3899344650245374, 0.4272922507867107, 0.4272922507867107, 0.4272922507867107, 0.4272922507867107, 0.4272922507867107, 0.4272922507867107, 0.4272922507867107, 0.4272922507867107, 0.45179435994854283, 0.45179435994854283, 0.45179435994854283, 0.45179435994854283, 0.45179435994854283, 0.45179435994854283, 0.45179435994854283, 0.45179435994854283, 0.45179435994854283, 0.45179435994854283, 0.45179435994854283, 0.45179435994854283, 0.45179435994854283, 0.45179435994854283, 0.45179435994854283, 0.45179435994854283, 0.4527724293988388, 0.4527724293988388, 0.4527724293988388, 0.4527724293988388, 0.4527724293988388, 0.4527724293988388, 0.4620677077787018, 0.4620677077787018]}], \"recall_score_weighted\": [{\"categories\": [\"0\", \"1\", \"2\", \"3\", \"4\", \"5\", \"6\", \"7\", \"8\", \"9\", \"10\", \"11\", \"12\", \"13\", \"14\", \"15\", \"16\", \"17\", \"18\", \"19\", \"20\", \"21\", \"22\", \"23\", \"24\", \"25\", \"26\", \"27\", \"28\", \"29\", \"30\", \"31\", \"32\", \"33\", \"34\", \"38\", \"39\"], \"mode\": \"markers\", \"name\": \"recall_score_weighted\", \"stepped\": false, \"type\": \"scatter\", \"data\": [0.6697936210131332, 0.6404002501563477, 0.6016260162601627, 0.5947467166979362, 0.5428392745465916, 0.6372732958098811, 0.6003752345215759, 0.616635397123202, 0.6397748592870545, 0.6128830519074422, 0.5947467166979362, 0.6078799249530956, 0.6053783614759225, 0.6297686053783614, 0.5984990619136961, 0.588492808005003, 0.541588492808005, 0.6153846153846154, 0.5784865540963102, 0.6022514071294559, 0.6047529706066291, 0.5984990619136961, 0.5834896810506566, 0.5697310819262039, 0.6160100062539087, 0.4871794871794872, 0.5772357723577235, 0.6022514071294559, 0.5891181988742965, 0.6322701688555347, 0.5997498436522827, 0.5878674171357098, 0.5859912445278299, 0.6604127579737336, 0.5966228893058161, 0.6929330831769857, 0.6697936210131332]}, {\"categories\": [\"0\", \"1\", \"2\", \"3\", \"4\", \"5\", \"6\", \"7\", \"8\", \"9\", \"10\", \"11\", \"12\", \"13\", \"14\", \"15\", \"16\", \"17\", \"18\", \"19\", \"20\", \"21\", \"22\", \"23\", \"24\", \"25\", \"26\", \"27\", \"28\", \"29\", \"30\", \"31\", \"32\", \"33\", \"34\", \"38\", \"39\"], \"mode\": \"lines\", \"name\": \"recall_score_weighted_max\", \"stepped\": true, \"type\": \"scatter\", \"data\": [0.6697936210131332, 0.6697936210131332, 0.6697936210131332, 0.6697936210131332, 0.6697936210131332, 0.6697936210131332, 0.6697936210131332, 0.6697936210131332, 0.6697936210131332, 0.6697936210131332, 0.6697936210131332, 0.6697936210131332, 0.6697936210131332, 0.6697936210131332, 0.6697936210131332, 0.6697936210131332, 0.6697936210131332, 0.6697936210131332, 0.6697936210131332, 0.6697936210131332, 0.6697936210131332, 0.6697936210131332, 0.6697936210131332, 0.6697936210131332, 0.6697936210131332, 0.6697936210131332, 0.6697936210131332, 0.6697936210131332, 0.6697936210131332, 0.6697936210131332, 0.6697936210131332, 0.6697936210131332, 0.6697936210131332, 0.6697936210131332, 0.6697936210131332, 0.6929330831769857, 0.6929330831769857]}], \"norm_macro_recall\": [{\"categories\": [\"0\", \"1\", \"2\", \"3\", \"4\", \"5\", \"6\", \"7\", \"8\", \"9\", \"10\", \"11\", \"12\", \"13\", \"14\", \"15\", \"16\", \"17\", \"18\", \"19\", \"20\", \"21\", \"22\", \"23\", \"24\", \"25\", \"26\", \"27\", \"28\", \"29\", \"30\", \"31\", \"32\", \"33\", \"34\", \"38\", \"39\"], \"mode\": \"markers\", \"name\": \"norm_macro_recall\", \"stepped\": false, \"type\": \"scatter\", \"data\": [0.23087910470362952, 0.18878425065812243, 0.11780999843837629, 0.10760244354669095, 0.2532339105278175, 0.19207892516319394, 0.14183626858463985, 0.13307109717781998, 0.19637377363699823, 0.14780211905617593, 0.10299445946343787, 0.140629663246107, 0.13753420490344384, 0.1950060458145555, 0.09276402743263966, 0.09141565136497994, 0.0796065086582885, 0.14740701417007618, 0.08023169023144475, 0.113900113735607, 0.1392862437511361, 0.11925341271039606, 0.09353876452348285, 0.07575268841727768, 0.11359361418653739, 0.0345764468820132, 0.07965414580020537, 0.10162379629890594, 0.09722327777015183, 0.19617736876247827, 0.10056931619161778, 0.11060058638219476, 0.09781114890854299, 0.19312623342111768, 0.10788758933734129, 0.22616086337597996, 0.21415945400509162]}, {\"categories\": [\"0\", \"1\", \"2\", \"3\", \"4\", \"5\", \"6\", \"7\", \"8\", \"9\", \"10\", \"11\", \"12\", \"13\", \"14\", \"15\", \"16\", \"17\", \"18\", \"19\", \"20\", \"21\", \"22\", \"23\", \"24\", \"25\", \"26\", \"27\", \"28\", \"29\", \"30\", \"31\", \"32\", \"33\", \"34\", \"38\", \"39\"], \"mode\": \"lines\", \"name\": \"norm_macro_recall_max\", \"stepped\": true, \"type\": \"scatter\", \"data\": [0.23087910470362952, 0.23087910470362952, 0.23087910470362952, 0.23087910470362952, 0.2532339105278175, 0.2532339105278175, 0.2532339105278175, 0.2532339105278175, 0.2532339105278175, 0.2532339105278175, 0.2532339105278175, 0.2532339105278175, 0.2532339105278175, 0.2532339105278175, 0.2532339105278175, 0.2532339105278175, 0.2532339105278175, 0.2532339105278175, 0.2532339105278175, 0.2532339105278175, 0.2532339105278175, 0.2532339105278175, 0.2532339105278175, 0.2532339105278175, 0.2532339105278175, 0.2532339105278175, 0.2532339105278175, 0.2532339105278175, 0.2532339105278175, 0.2532339105278175, 0.2532339105278175, 0.2532339105278175, 0.2532339105278175, 0.2532339105278175, 0.2532339105278175, 0.2532339105278175, 0.2532339105278175]}], \"AUC_micro\": [{\"categories\": [\"0\", \"1\", \"2\", \"3\", \"4\", \"5\", \"6\", \"7\", \"8\", \"9\", \"10\", \"11\", \"12\", \"13\", \"14\", \"15\", \"16\", \"17\", \"18\", \"19\", \"20\", \"21\", \"22\", \"23\", \"24\", \"25\", \"26\", \"27\", \"28\", \"29\", \"30\", \"31\", \"32\", \"33\", \"34\", \"38\", \"39\"], \"mode\": \"markers\", \"name\": \"AUC_micro\", \"stepped\": false, \"type\": \"scatter\", \"data\": [0.9243523449810915, 0.9168539905921502, 0.9085527188076038, 0.9026766259869267, 0.8833619041919961, 0.9167422885081787, 0.9046122869945686, 0.9063387412630078, 0.9164398011421303, 0.9096609395881807, 0.9073771482411028, 0.9083568881582883, 0.9096194033090569, 0.91306034376551, 0.8976233973625636, 0.9065023050288231, 0.8859005452516641, 0.9107739710677523, 0.9003507116901158, 0.9034685139750805, 0.9065299958815723, 0.9052799181477166, 0.8972720990018387, 0.8951349753070342, 0.9094361274107762, 0.86852500448803, 0.8947219591982325, 0.8983027619278934, 0.8995664504198801, 0.9168206677015537, 0.8987875865192482, 0.9032831260626072, 0.9027950161158417, 0.922846713529915, 0.8979371488043068, 0.9269869653524072, 0.9267687238858245]}, {\"categories\": [\"0\", \"1\", \"2\", \"3\", \"4\", \"5\", \"6\", \"7\", \"8\", \"9\", \"10\", \"11\", \"12\", \"13\", \"14\", \"15\", \"16\", \"17\", \"18\", \"19\", \"20\", \"21\", \"22\", \"23\", \"24\", \"25\", \"26\", \"27\", \"28\", \"29\", \"30\", \"31\", \"32\", \"33\", \"34\", \"38\", \"39\"], \"mode\": \"lines\", \"name\": \"AUC_micro_max\", \"stepped\": true, \"type\": \"scatter\", \"data\": [0.9243523449810915, 0.9243523449810915, 0.9243523449810915, 0.9243523449810915, 0.9243523449810915, 0.9243523449810915, 0.9243523449810915, 0.9243523449810915, 0.9243523449810915, 0.9243523449810915, 0.9243523449810915, 0.9243523449810915, 0.9243523449810915, 0.9243523449810915, 0.9243523449810915, 0.9243523449810915, 0.9243523449810915, 0.9243523449810915, 0.9243523449810915, 0.9243523449810915, 0.9243523449810915, 0.9243523449810915, 0.9243523449810915, 0.9243523449810915, 0.9243523449810915, 0.9243523449810915, 0.9243523449810915, 0.9243523449810915, 0.9243523449810915, 0.9243523449810915, 0.9243523449810915, 0.9243523449810915, 0.9243523449810915, 0.9243523449810915, 0.9243523449810915, 0.9269869653524072, 0.9269869653524072]}], \"recall_score_macro\": [{\"categories\": [\"0\", \"1\", \"2\", \"3\", \"4\", \"5\", \"6\", \"7\", \"8\", \"9\", \"10\", \"11\", \"12\", \"13\", \"14\", \"15\", \"16\", \"17\", \"18\", \"19\", \"20\", \"21\", \"22\", \"23\", \"24\", \"25\", \"26\", \"27\", \"28\", \"29\", \"30\", \"31\", \"32\", \"33\", \"34\", \"38\", \"39\"], \"mode\": \"markers\", \"name\": \"recall_score_macro\", \"stepped\": false, \"type\": \"scatter\", \"data\": [0.35906592058635795, 0.32398687554843536, 0.26484166536531356, 0.2563353696222424, 0.3776949254398479, 0.32673243763599497, 0.2848635571538665, 0.27755924764818335, 0.33031147803083183, 0.28983509921347994, 0.2524953828861982, 0.2838580527050892, 0.2812785040862032, 0.32917170484546293, 0.24397002286053304, 0.24284637613748328, 0.23300542388190706, 0.2895058451417301, 0.23352640852620396, 0.26158342811300583, 0.2827385364592801, 0.2660445105919967, 0.24461563710290235, 0.22979390701439806, 0.26132801182211446, 0.19548037240167768, 0.23304512150017112, 0.2513531635824216, 0.24768606480845987, 0.3301478073020652, 0.25047443015968146, 0.2588338219851623, 0.24817595742378584, 0.3276051945175981, 0.25657299111445103, 0.3551340528133166, 0.3451328783375764]}, {\"categories\": [\"0\", \"1\", \"2\", \"3\", \"4\", \"5\", \"6\", \"7\", \"8\", \"9\", \"10\", \"11\", \"12\", \"13\", \"14\", \"15\", \"16\", \"17\", \"18\", \"19\", \"20\", \"21\", \"22\", \"23\", \"24\", \"25\", \"26\", \"27\", \"28\", \"29\", \"30\", \"31\", \"32\", \"33\", \"34\", \"38\", \"39\"], \"mode\": \"lines\", \"name\": \"recall_score_macro_max\", \"stepped\": true, \"type\": \"scatter\", \"data\": [0.35906592058635795, 0.35906592058635795, 0.35906592058635795, 0.35906592058635795, 0.3776949254398479, 0.3776949254398479, 0.3776949254398479, 0.3776949254398479, 0.3776949254398479, 0.3776949254398479, 0.3776949254398479, 0.3776949254398479, 0.3776949254398479, 0.3776949254398479, 0.3776949254398479, 0.3776949254398479, 0.3776949254398479, 0.3776949254398479, 0.3776949254398479, 0.3776949254398479, 0.3776949254398479, 0.3776949254398479, 0.3776949254398479, 0.3776949254398479, 0.3776949254398479, 0.3776949254398479, 0.3776949254398479, 0.3776949254398479, 0.3776949254398479, 0.3776949254398479, 0.3776949254398479, 0.3776949254398479, 0.3776949254398479, 0.3776949254398479, 0.3776949254398479, 0.3776949254398479, 0.3776949254398479]}], \"average_precision_score_macro\": [{\"categories\": [\"0\", \"1\", \"2\", \"3\", \"4\", \"5\", \"6\", \"7\", \"8\", \"9\", \"10\", \"11\", \"12\", \"13\", \"14\", \"15\", \"16\", \"17\", \"18\", \"19\", \"20\", \"21\", \"22\", \"23\", \"24\", \"25\", \"26\", \"27\", \"28\", \"29\", \"30\", \"31\", \"32\", \"33\", \"34\", \"38\", \"39\"], \"mode\": \"markers\", \"name\": \"average_precision_score_macro\", \"stepped\": false, \"type\": \"scatter\", \"data\": [0.4250608672264615, 0.39055928706042725, 0.3859093308689406, 0.3595386623765387, 0.3679205029248139, 0.4304406526701137, 0.3526603573577178, 0.36436661524574654, 0.41296683029269604, 0.36520383320265387, 0.39964290351233567, 0.3710517603438217, 0.38642283327767063, 0.4065664201020803, 0.3915896756891821, 0.3784456338201135, 0.32155129564259877, 0.3643206732524151, 0.38091437583142257, 0.3790049633349292, 0.3516733339738863, 0.3667883741806188, 0.37193735289190705, 0.3551227802909025, 0.39844577385042373, 0.31280364733138466, 0.3483486101902343, 0.3428200906598493, 0.38816680307222934, 0.4231586012201913, 0.35738601584312374, 0.3740711653531006, 0.35640298246563606, 0.4259983719975742, 0.3518677802869854, 0.44048522554324127, 0.4464693182892725]}, {\"categories\": [\"0\", \"1\", \"2\", \"3\", \"4\", \"5\", \"6\", \"7\", \"8\", \"9\", \"10\", \"11\", \"12\", \"13\", \"14\", \"15\", \"16\", \"17\", \"18\", \"19\", \"20\", \"21\", \"22\", \"23\", \"24\", \"25\", \"26\", \"27\", \"28\", \"29\", \"30\", \"31\", \"32\", \"33\", \"34\", \"38\", \"39\"], \"mode\": \"lines\", \"name\": \"average_precision_score_macro_max\", \"stepped\": true, \"type\": \"scatter\", \"data\": [0.4250608672264615, 0.4250608672264615, 0.4250608672264615, 0.4250608672264615, 0.4250608672264615, 0.4304406526701137, 0.4304406526701137, 0.4304406526701137, 0.4304406526701137, 0.4304406526701137, 0.4304406526701137, 0.4304406526701137, 0.4304406526701137, 0.4304406526701137, 0.4304406526701137, 0.4304406526701137, 0.4304406526701137, 0.4304406526701137, 0.4304406526701137, 0.4304406526701137, 0.4304406526701137, 0.4304406526701137, 0.4304406526701137, 0.4304406526701137, 0.4304406526701137, 0.4304406526701137, 0.4304406526701137, 0.4304406526701137, 0.4304406526701137, 0.4304406526701137, 0.4304406526701137, 0.4304406526701137, 0.4304406526701137, 0.4304406526701137, 0.4304406526701137, 0.44048522554324127, 0.4464693182892725]}], \"f1_score_micro\": [{\"categories\": [\"0\", \"1\", \"2\", \"3\", \"4\", \"5\", \"6\", \"7\", \"8\", \"9\", \"10\", \"11\", \"12\", \"13\", \"14\", \"15\", \"16\", \"17\", \"18\", \"19\", \"20\", \"21\", \"22\", \"23\", \"24\", \"25\", \"26\", \"27\", \"28\", \"29\", \"30\", \"31\", \"32\", \"33\", \"34\", \"38\", \"39\"], \"mode\": \"markers\", \"name\": \"f1_score_micro\", \"stepped\": false, \"type\": \"scatter\", \"data\": [0.6697936210131332, 0.6404002501563477, 0.6016260162601627, 0.5947467166979362, 0.5428392745465916, 0.6372732958098811, 0.6003752345215759, 0.616635397123202, 0.6397748592870545, 0.6128830519074422, 0.5947467166979362, 0.6078799249530956, 0.6053783614759225, 0.6297686053783614, 0.5984990619136961, 0.588492808005003, 0.541588492808005, 0.6153846153846154, 0.5784865540963102, 0.6022514071294559, 0.6047529706066291, 0.5984990619136961, 0.5834896810506566, 0.5697310819262039, 0.6160100062539087, 0.4871794871794872, 0.5772357723577235, 0.6022514071294559, 0.5891181988742965, 0.6322701688555347, 0.5997498436522827, 0.5878674171357098, 0.5859912445278299, 0.6604127579737336, 0.5966228893058161, 0.6929330831769857, 0.6697936210131332]}, {\"categories\": [\"0\", \"1\", \"2\", \"3\", \"4\", \"5\", \"6\", \"7\", \"8\", \"9\", \"10\", \"11\", \"12\", \"13\", \"14\", \"15\", \"16\", \"17\", \"18\", \"19\", \"20\", \"21\", \"22\", \"23\", \"24\", \"25\", \"26\", \"27\", \"28\", \"29\", \"30\", \"31\", \"32\", \"33\", \"34\", \"38\", \"39\"], \"mode\": \"lines\", \"name\": \"f1_score_micro_max\", \"stepped\": true, \"type\": \"scatter\", \"data\": [0.6697936210131332, 0.6697936210131332, 0.6697936210131332, 0.6697936210131332, 0.6697936210131332, 0.6697936210131332, 0.6697936210131332, 0.6697936210131332, 0.6697936210131332, 0.6697936210131332, 0.6697936210131332, 0.6697936210131332, 0.6697936210131332, 0.6697936210131332, 0.6697936210131332, 0.6697936210131332, 0.6697936210131332, 0.6697936210131332, 0.6697936210131332, 0.6697936210131332, 0.6697936210131332, 0.6697936210131332, 0.6697936210131332, 0.6697936210131332, 0.6697936210131332, 0.6697936210131332, 0.6697936210131332, 0.6697936210131332, 0.6697936210131332, 0.6697936210131332, 0.6697936210131332, 0.6697936210131332, 0.6697936210131332, 0.6697936210131332, 0.6697936210131332, 0.6929330831769857, 0.6929330831769857]}]}, \"metricName\": null, \"primaryMetricName\": \"accuracy\", \"showLegend\": false}, \"run_metrics\": [{\"name\": \"experiment_status\", \"run_id\": \"AutoML_7a5045ae-120b-4594-8551-6f31603fad12\", \"categories\": [0, 1, 2, 3, 4, 5, 6, 7, 8, 9, 10, 11, 12, 13, 14], \"series\": [{\"data\": [\"DatasetEvaluation\", \"FeaturesGeneration\", \"DatasetFeaturization\", \"DatasetFeaturizationCompleted\", \"DatasetBalancing\", \"DatasetCrossValidationSplit\", \"ModelSelection\", \"BestRunExplainModel\", \"ModelExplanationDataSetSetup\", \"PickSurrogateModel\", \"EngineeredFeatureExplanations\", \"EngineeredFeatureExplanations\", \"RawFeaturesExplanations\", \"RawFeaturesExplanations\", \"BestRunExplainModel\"]}]}, {\"name\": \"experiment_status_description\", \"run_id\": \"AutoML_7a5045ae-120b-4594-8551-6f31603fad12\", \"categories\": [0, 1, 2, 3, 4, 5, 6, 7, 8, 9, 10, 11, 12, 13, 14], \"series\": [{\"data\": [\"Gathering dataset statistics.\", \"Generating features for the dataset.\", \"Beginning to fit featurizers and featurize the dataset.\", \"Completed fit featurizers and featurizing the dataset.\", \"Performing class balancing sweeping\", \"Generating individually featurized CV splits.\", \"Beginning model selection.\", \"Best run model explanations started\", \"Model explanations data setup completed\", \"Choosing LightGBM as the surrogate model for explanations\", \"Computation of engineered features started\", \"Computation of engineered features completed\", \"Computation of raw features started\", \"Computation of raw features completed\", \"Best run model explanations completed\"]}]}, {\"name\": \"log_loss\", \"run_id\": \"AutoML_7a5045ae-120b-4594-8551-6f31603fad12\", \"categories\": [0], \"series\": [{\"data\": [0.8563404371380857]}]}, {\"name\": \"AUC_micro\", \"run_id\": \"AutoML_7a5045ae-120b-4594-8551-6f31603fad12\", \"categories\": [0], \"series\": [{\"data\": [0.9269869653524072]}]}, {\"name\": \"AUC_macro\", \"run_id\": \"AutoML_7a5045ae-120b-4594-8551-6f31603fad12\", \"categories\": [0], \"series\": [{\"data\": [0.8485536386389266]}]}, {\"name\": \"recall_score_macro\", \"run_id\": \"AutoML_7a5045ae-120b-4594-8551-6f31603fad12\", \"categories\": [0], \"series\": [{\"data\": [0.3551340528133166]}]}, {\"name\": \"norm_macro_recall\", \"run_id\": \"AutoML_7a5045ae-120b-4594-8551-6f31603fad12\", \"categories\": [0], \"series\": [{\"data\": [0.22616086337597996]}]}, {\"name\": \"weighted_accuracy\", \"run_id\": \"AutoML_7a5045ae-120b-4594-8551-6f31603fad12\", \"categories\": [0], \"series\": [{\"data\": [0.7504127370794497]}]}, {\"name\": \"precision_score_macro\", \"run_id\": \"AutoML_7a5045ae-120b-4594-8551-6f31603fad12\", \"categories\": [0], \"series\": [{\"data\": [0.4620677077787018]}]}, {\"name\": \"accuracy\", \"run_id\": \"AutoML_7a5045ae-120b-4594-8551-6f31603fad12\", \"categories\": [0], \"series\": [{\"data\": [0.6929330831769857]}]}, {\"name\": \"AUC_weighted\", \"run_id\": \"AutoML_7a5045ae-120b-4594-8551-6f31603fad12\", \"categories\": [0], \"series\": [{\"data\": [0.8324383311985152]}]}, {\"name\": \"matthews_correlation\", \"run_id\": \"AutoML_7a5045ae-120b-4594-8551-6f31603fad12\", \"categories\": [0], \"series\": [{\"data\": [0.5018105242127707]}]}, {\"name\": \"average_precision_score_weighted\", \"run_id\": \"AutoML_7a5045ae-120b-4594-8551-6f31603fad12\", \"categories\": [0], \"series\": [{\"data\": [0.7068598451895248]}]}, {\"name\": \"f1_score_weighted\", \"run_id\": \"AutoML_7a5045ae-120b-4594-8551-6f31603fad12\", \"categories\": [0], \"series\": [{\"data\": [0.6735987122623225]}]}, {\"name\": \"recall_score_micro\", \"run_id\": \"AutoML_7a5045ae-120b-4594-8551-6f31603fad12\", \"categories\": [0], \"series\": [{\"data\": [0.6929330831769857]}]}, {\"name\": \"f1_score_micro\", \"run_id\": \"AutoML_7a5045ae-120b-4594-8551-6f31603fad12\", \"categories\": [0], \"series\": [{\"data\": [0.6929330831769857]}]}, {\"name\": \"precision_score_micro\", \"run_id\": \"AutoML_7a5045ae-120b-4594-8551-6f31603fad12\", \"categories\": [0], \"series\": [{\"data\": [0.6929330831769857]}]}, {\"name\": \"precision_score_weighted\", \"run_id\": \"AutoML_7a5045ae-120b-4594-8551-6f31603fad12\", \"categories\": [0], \"series\": [{\"data\": [0.6682421494224967]}]}, {\"name\": \"recall_score_weighted\", \"run_id\": \"AutoML_7a5045ae-120b-4594-8551-6f31603fad12\", \"categories\": [0], \"series\": [{\"data\": [0.6929330831769857]}]}, {\"name\": \"average_precision_score_macro\", \"run_id\": \"AutoML_7a5045ae-120b-4594-8551-6f31603fad12\", \"categories\": [0], \"series\": [{\"data\": [0.44048522554324127]}]}, {\"name\": \"average_precision_score_micro\", \"run_id\": \"AutoML_7a5045ae-120b-4594-8551-6f31603fad12\", \"categories\": [0], \"series\": [{\"data\": [0.7179263446605096]}]}, {\"name\": \"balanced_accuracy\", \"run_id\": \"AutoML_7a5045ae-120b-4594-8551-6f31603fad12\", \"categories\": [0], \"series\": [{\"data\": [0.3551340528133166]}]}, {\"name\": \"f1_score_macro\", \"run_id\": \"AutoML_7a5045ae-120b-4594-8551-6f31603fad12\", \"categories\": [0], \"series\": [{\"data\": [0.3705263296586893]}]}], \"run_logs\": \"\\nRun is completed.\", \"graph\": {}, \"widget_settings\": {\"childWidgetDisplay\": \"popup\", \"send_telemetry\": false, \"log_level\": \"INFO\", \"sdk_version\": \"1.20.0\"}, \"loading\": false}"
     },
     "metadata": {},
     "output_type": "display_data"
    }
   ],
   "source": [
    "from azureml.widgets import RunDetails\n",
    "RunDetails(remote_run).show()"
   ]
  },
  {
   "cell_type": "markdown",
   "metadata": {},
   "source": [
    "Different models perform differently in regard to primary metric chosen. AutoML calculates performance metrics, based on the scikit learn implementation for each classification model generated for experiment. Common consideration with all models is class imbalance. Models that are more sensitive to class imbalance show less accuracy."
   ]
  },
  {
   "cell_type": "markdown",
   "metadata": {},
   "source": [
    "## Best Model\n",
    "\n",
    "The following cell contains the code to get the best model from AutoML experiments and displays properties of the model. Then we save the best model."
   ]
  },
  {
   "cell_type": "code",
   "execution_count": 9,
   "metadata": {
    "gather": {
     "logged": 1613166551605
    },
    "jupyter": {
     "outputs_hidden": false,
     "source_hidden": false
    },
    "nteract": {
     "transient": {
      "deleting": false
     }
    }
   },
   "outputs": [
    {
     "name": "stderr",
     "output_type": "stream",
     "text": [
      "WARNING:root:The version of the SDK does not match the version the model was trained on.\n",
      "WARNING:root:The consistency in the result may not be guaranteed.\n",
      "WARNING:root:Package:azureml-automl-core, training version:1.21.0, current version:1.20.0\n",
      "Package:azureml-automl-runtime, training version:1.21.0, current version:1.20.0\n",
      "Package:azureml-core, training version:1.21.0.post1, current version:1.20.0\n",
      "Package:azureml-dataprep, training version:2.8.2, current version:2.7.3\n",
      "Package:azureml-dataprep-native, training version:28.0.0, current version:27.0.0\n",
      "Package:azureml-dataprep-rslex, training version:1.6.0, current version:1.5.0\n",
      "Package:azureml-dataset-runtime, training version:1.21.0, current version:1.20.0\n",
      "Package:azureml-defaults, training version:1.21.0, current version:1.20.0\n",
      "Package:azureml-interpret, training version:1.21.0, current version:1.20.0\n",
      "Package:azureml-pipeline-core, training version:1.21.0, current version:1.20.0\n",
      "Package:azureml-telemetry, training version:1.21.0, current version:1.20.0\n",
      "Package:azureml-train-automl-client, training version:1.21.0, current version:1.20.0\n",
      "Package:azureml-train-automl-runtime, training version:1.21.0, current version:1.20.0\n",
      "WARNING:root:Please ensure the version of your local conda dependencies match the version on which your model was trained in order to properly retrieve your model.\n"
     ]
    },
    {
     "name": "stdout",
     "output_type": "stream",
     "text": [
      "Run(Experiment: wine-quality-automl-experiment,\n",
      "Id: AutoML_7a5045ae-120b-4594-8551-6f31603fad12_38,\n",
      "Type: azureml.scriptrun,\n",
      "Status: Completed)\n",
      "Pipeline(memory=None,\n",
      "         steps=[('datatransformer',\n",
      "                 DataTransformer(enable_dnn=None, enable_feature_sweeping=None,\n",
      "                                 feature_sweeping_config=None,\n",
      "                                 feature_sweeping_timeout=None,\n",
      "                                 featurization_config=None, force_text_dnn=None,\n",
      "                                 is_cross_validation=None,\n",
      "                                 is_onnx_compatible=None, logger=None,\n",
      "                                 observer=None, task=None, working_dir=None)),\n",
      "                ('prefittedsoftvotingclassifier',...\n",
      "                                                                                        max_iter=-1,\n",
      "                                                                                        probability=True,\n",
      "                                                                                        random_state=None,\n",
      "                                                                                        shrinking=True,\n",
      "                                                                                        tol=0.001,\n",
      "                                                                                        verbose=False))],\n",
      "                                                                     verbose=False))],\n",
      "                                               flatten_transform=None,\n",
      "                                               weights=[0.15384615384615385,\n",
      "                                                        0.07692307692307693,\n",
      "                                                        0.07692307692307693,\n",
      "                                                        0.07692307692307693,\n",
      "                                                        0.07692307692307693,\n",
      "                                                        0.07692307692307693,\n",
      "                                                        0.07692307692307693,\n",
      "                                                        0.07692307692307693,\n",
      "                                                        0.07692307692307693,\n",
      "                                                        0.23076923076923078]))],\n",
      "         verbose=False)\n"
     ]
    }
   ],
   "source": [
    "# Retrieve and save your best automl model.\n",
    "# attribution, November 2020, https://docs.microsoft.com/en-us/azure/machine-learning/how-to-deploy-and-where?tabs=python\n",
    "#\n",
    "best_run, fitted_model = remote_run.get_output()\n",
    "print(best_run)\n",
    "print(fitted_model)"
   ]
  },
  {
   "cell_type": "markdown",
   "metadata": {},
   "source": [
    "The result of AutoML run was VotingEnsemble model which is a combined performance of best performing models from AutoML experiment run. The ensemble was created from previous AutoML iterations with soft voting. The VotingEnsemble consists of ['XGBoostClassifier', 'KNN', 'LightGBM', 'XGBoostClassifier', 'XGBoostClassifier', 'LightGBM', 'LightGBM', 'XGBoostClassifier', 'LightGBM', 'SVM', 'ExtremeRandomTrees', 'LightGBM'] algorithms, which are top twelve models rated by accuracy. The AutoML Voting Ensemble selected parameters read from azureml-logs:\n",
    "\n",
    "- 'ensemble_iterations': 35, 27, 0, 50, 1, 39, 44, 45, 8, 7, 28, 31\n",
    "- 'training_type': 'MeanCrossValidation'\n",
    "- 'goal': 'accuracy_max'\n",
    "- 'primary_metric': 'accuracy'\n",
    "\n",
    "Other AutoML parameters were mostly default values. The detailed list of parameters can also be obtained from Raw JSON file located under \"See all properties\" of Details blade of the AutoML experiment. "
   ]
  },
  {
   "cell_type": "code",
   "execution_count": 10,
   "metadata": {
    "gather": {
     "logged": 1613166552265
    },
    "jupyter": {
     "outputs_hidden": false,
     "source_hidden": false
    },
    "nteract": {
     "transient": {
      "deleting": false
     }
    }
   },
   "outputs": [
    {
     "data": {
      "text/plain": [
       "['outputs/automl-wine-quality-model.pkl']"
      ]
     },
     "execution_count": 10,
     "metadata": {},
     "output_type": "execute_result"
    }
   ],
   "source": [
    "# Save the best model\n",
    "# Example of approach at https://benalexkeen.com/using-azure-automl-and-aml-for-assessing-multiple-models-and-deployment/\n",
    "# folder 'outputs' must be present\n",
    "#\n",
    "from sklearn.externals import joblib\n",
    "\n",
    "model_path = 'outputs/automl-wine-quality-model.pkl'\n",
    "joblib.dump(fitted_model, model_path)"
   ]
  },
  {
   "cell_type": "markdown",
   "metadata": {},
   "source": [
    "Screenshot of the best model with its run id:\n",
    "\n",
    "![](https://github.com/DivkovicD/ML-Engineer-w-MS-Azure/blob/master/Screenshots/Screenshot%20of%20the%20best%20model%20(AutoML)%20with%20its%20run%20id.png?raw=true)"
   ]
  },
  {
   "cell_type": "markdown",
   "metadata": {},
   "source": [
    "## Model Deployment\n",
    "\n",
    "The result of AutoML run was VotingEnsemble model which achieved higher accuracy in comparison with Hyperparameter tuning approach. The result of VotingEnsemble model is a combined performance of best performing models from AutoML experiment run. Therefore we decide to deploy this model, so the next cell contains the code to register the model, create an inference config and deploy the model as a web service."
   ]
  },
  {
   "cell_type": "code",
   "execution_count": 11,
   "metadata": {},
   "outputs": [
    {
     "name": "stdout",
     "output_type": "stream",
     "text": [
      "Registering model automl-wine-quality-model\n",
      "automl-wine-quality-model\n",
      "automl-wine-quality-model:1\n",
      "1\n"
     ]
    }
   ],
   "source": [
    "# Register the best model that was previously saved\n",
    "#\n",
    "from azureml.core.model import Model\n",
    "from azureml.core.model import InferenceConfig\n",
    "from azureml.core.webservice import AciWebservice, Webservice\n",
    "from azureml.core.run import Run\n",
    "\n",
    "model = Model.register(model_path = \"outputs/automl-wine-quality-model.pkl\",\n",
    "                       model_name = \"automl-wine-quality-model\",\n",
    "                       tags = {\"VotingEnsemble\": \"1.0\"},\n",
    "                       description = \"AutoML model for prediction of wine quality\",\n",
    "                       workspace = ws)\n",
    "\n",
    "print(model.name, model.id, model.version, sep = '\\n')\n",
    "\n"
   ]
  },
  {
   "cell_type": "code",
   "execution_count": 12,
   "metadata": {},
   "outputs": [],
   "source": [
    "# Define inference configuration\n",
    "#\n",
    "from azureml.core.environment import Environment\n",
    "from azureml.core.model import InferenceConfig\n",
    "\n",
    "\n",
    "env = Environment.get(ws, \"AzureML-AutoML\")\n",
    "# Instead of using environment file, we will be using preconfigured environment\n",
    "\n",
    "for pip_package in [\"scikit-learn\"]:\n",
    "    env.python.conda_dependencies.add_pip_package(pip_package)\n",
    "\n",
    "inference_config = InferenceConfig(entry_script='scoring2.py',\n",
    "                                    environment=env)"
   ]
  },
  {
   "cell_type": "code",
   "execution_count": 23,
   "metadata": {},
   "outputs": [
    {
     "name": "stdout",
     "output_type": "stream",
     "text": [
      "Tips: You can try get_logs(): https://aka.ms/debugimage#dockerlog or local deployment: https://aka.ms/debugimage#debug-locally to debug if deployment takes longer than 10 minutes.\n",
      "Running.........................................\n",
      "Succeeded\n",
      "ACI service creation operation finished, operation \"Succeeded\"\n",
      "http://bce1965c-b7a1-42c5-9a6a-f9c94d225770.southcentralus.azurecontainer.io/score\n"
     ]
    }
   ],
   "source": [
    "# Setting deployment configuration\n",
    "#\n",
    "deployment_config = AciWebservice.deploy_configuration(cpu_cores = 1, memory_gb = 1)\n",
    "\n",
    "# Provide model, inference, deployment configuration, web service name and location to deploy the model\n",
    "service = Model.deploy(\n",
    "    workspace = ws,\n",
    "    name = \"wine-quality-web-service\",\n",
    "    models = [model],\n",
    "    inference_config = inference_config,\n",
    "    deployment_config = deployment_config)\n",
    "\n",
    "\n",
    "service.wait_for_deployment(show_output=True)\n",
    "# Record and use the following output for interaction with deployed service\n",
    "print(service.scoring_uri)"
   ]
  },
  {
   "cell_type": "markdown",
   "metadata": {},
   "source": [
    "A screenshot showing the model endpoint as active:\n",
    "\n",
    "![](https://github.com/DivkovicD/ML-Engineer-w-MS-Azure/blob/master/Screenshots/Screenshot%20showing%20model%20endpoint%20as%20active%20-%204%20automl%20notebook.png?raw=true)"
   ]
  },
  {
   "cell_type": "code",
   "execution_count": 25,
   "metadata": {},
   "outputs": [
    {
     "name": "stdout",
     "output_type": "stream",
     "text": [
      "Tips: You can try get_logs(): https://aka.ms/debugimage#dockerlog or local deployment: https://aka.ms/debugimage#debug-locally to debug if deployment takes longer than 10 minutes.\n",
      "Running....\n",
      "Succeeded\n",
      "ACI service creation operation finished, operation \"Succeeded\"\n"
     ]
    }
   ],
   "source": [
    "# Comment lines below for disabling Application Inisghts and run the cell\n",
    "# in this case it is necessary to use Python script score-w-appinsig.py instead of scoring2.py\n",
    "service.update(enable_app_insights=True)\n",
    "service.wait_for_deployment(show_output=True)"
   ]
  },
  {
   "cell_type": "markdown",
   "metadata": {
    "collapsed": true,
    "gather": {
     "logged": 1598431657736
    },
    "jupyter": {
     "outputs_hidden": false,
     "source_hidden": false
    },
    "nteract": {
     "transient": {
      "deleting": false
     }
    }
   },
   "source": [
    "The cell below contains the code that sends a request to deployed web service. There are several ways to do it. The first demonstrates simple JSON formating without error catching, the second contains the sample code from Consume blade of deployed model, and third shows how could it be done via `curl` command¸."
   ]
  },
  {
   "cell_type": "code",
   "execution_count": 26,
   "metadata": {
    "gather": {
     "logged": 1613169567929
    },
    "scrolled": true
   },
   "outputs": [
    {
     "name": "stdout",
     "output_type": "stream",
     "text": [
      "[5, 6]\n",
      "[5, 6]\n"
     ]
    }
   ],
   "source": [
    "import requests\n",
    "import json\n",
    "from ast import literal_eval\n",
    "    \n",
    "# URL for the web service from scoring_uri of the deployed model\n",
    "scoring_uri = 'http://bce1965c-b7a1-42c5-9a6a-f9c94d225770.southcentralus.azurecontainer.io/score'\n",
    "## If the service is authenticated, set the key or token and uncomment the line below\n",
    "# key = '<your key or token>'\n",
    "    \n",
    "# Two sets of data to score, two results back\n",
    "data = {\"data\":\n",
    "        [\n",
    "            {\"fixed acidity\": 7.4,\n",
    "             \"volatile acidity\": 0.7,\n",
    "             \"citric acid\": 0,\n",
    "             \"residual sugar\": 1.9,\n",
    "             \"chlorides\": 0.076,\n",
    "             \"free sulfur dioxide\": 11,\n",
    "             \"total sulfur dioxide\": 34,\n",
    "             \"density\": 0.9978,\n",
    "             \"pH\": 3.51,\n",
    "             \"sulphates\": 0.56,\n",
    "             \"alcohol\": 9.4\n",
    "          },\n",
    "            {\"fixed acidity\": 11.2,\n",
    "             \"volatile acidity\": 0.28,\n",
    "             \"citric acid\": 0.56,\n",
    "             \"residual sugar\": 1.9,\n",
    "             \"chlorides\": 0.075,\n",
    "             \"free sulfur dioxide\": 17,\n",
    "             \"total sulfur dioxide\": 60,\n",
    "             \"density\": 0.998,\n",
    "             \"pH\": 3.16,\n",
    "             \"sulphates\": 0.58,\n",
    "             \"alcohol\": 9.4\n",
    "          }\n",
    "        ]\n",
    "     }\n",
    "\n",
    "# Convert to JSON string\n",
    "input_data = json.dumps(data)\n",
    "    \n",
    "# Set appropriate content type\n",
    "headers = {'Content-Type': 'application/json'}\n",
    "## Note: If authentication is enabled, set the authorization header, by uncommenting the next line of code\n",
    "# headers['Authorization'] = f'Bearer {key}'\n",
    "    \n",
    "# Post the formated request and display the response\n",
    "response = requests.post(scoring_uri, input_data, headers=headers)\n",
    "print(response.text)\n",
    "# And alterntive way to display result    \n",
    "result = literal_eval(response.text)\n",
    "print (result)"
   ]
  },
  {
   "cell_type": "code",
   "execution_count": 15,
   "metadata": {},
   "outputs": [
    {
     "name": "stdout",
     "output_type": "stream",
     "text": [
      "{'data': [{'fixed acidity': 7.4, 'volatile acidity': 0.7, 'citric acid': 0, 'residual sugar': 1.9, 'chlorides': 0.076, 'free sulfur dioxide': 11, 'total sulfur dioxide': 34, 'density': 0.9978, 'pH': 3.51, 'sulphates': 0.56, 'alcohol': 9.4}]}\n",
      "b'{\"data\": [{\"fixed acidity\": 7.4, \"volatile acidity\": 0.7, \"citric acid\": 0, \"residual sugar\": 1.9, \"chlorides\": 0.076, \"free sulfur dioxide\": 11, \"total sulfur dioxide\": 34, \"density\": 0.9978, \"pH\": 3.51, \"sulphates\": 0.56, \"alcohol\": 9.4}]}'\n",
      "b'[5]'\n"
     ]
    }
   ],
   "source": [
    "# Taken from Consume blade of deployed model\n",
    "#\n",
    "import urllib.request\n",
    "import json\n",
    "import os\n",
    "import ssl\n",
    "\n",
    "def allowSelfSignedHttps(allowed):\n",
    "    # bypass the server certificate verification on client side\n",
    "    if allowed and not os.environ.get('PYTHONHTTPSVERIFY', '') and getattr(ssl, '_create_unverified_context', None):\n",
    "        ssl._create_default_https_context = ssl._create_unverified_context\n",
    "\n",
    "allowSelfSignedHttps(True) # this line is needed if you use self-signed certificate in your scoring service.\n",
    "\n",
    "data = {\n",
    "    \"data\":\n",
    "    [\n",
    "        {\n",
    "            'fixed acidity': 7.4,\n",
    "            'fixed acidity': 7.4,\n",
    "            'volatile acidity': 0.7,\n",
    "            'citric acid': 0,\n",
    "            'residual sugar': 1.9,\n",
    "            'chlorides': 0.076,\n",
    "            'free sulfur dioxide': 11,\n",
    "            'total sulfur dioxide': 34,\n",
    "            'density': 0.9978,\n",
    "            'pH': 3.51,\n",
    "            'sulphates': 0.56,\n",
    "            'alcohol': 9.4\n",
    "        },\n",
    "    ]\n",
    "}\n",
    "print(data)\n",
    "body = str.encode(json.dumps(data))\n",
    "print(body)\n",
    "url = 'http://bce1965c-b7a1-42c5-9a6a-f9c94d225770.southcentralus.azurecontainer.io/score'\n",
    "api_key = '' # Replace this with the API key for the web service and uncomment the following line, while commenting the next one\n",
    "# headers = {'Content-Type':'application/json', 'Authorization':('Bearer '+ api_key)}\n",
    "headers = {'Content-Type':'application/json'}\n",
    "\n",
    "req = urllib.request.Request(url, body, headers)\n",
    "\n",
    "try:\n",
    "    response = urllib.request.urlopen(req)\n",
    "\n",
    "    result = response.read()\n",
    "    print(result)\n",
    "except urllib.error.HTTPError as error:\n",
    "    print(\"The request failed with status code: \" + str(error.code))\n",
    "\n",
    "    # Print the headers - they include the requert ID and the timestamp, which are useful for debugging the failure\n",
    "    print(error.info())\n",
    "    print(json.loads(error.read().decode(\"utf8\", 'ignore')))"
   ]
  },
  {
   "cell_type": "code",
   "execution_count": 16,
   "metadata": {
    "gather": {
     "logged": 1613168320796
    },
    "jupyter": {
     "outputs_hidden": false,
     "source_hidden": false
    },
    "nteract": {
     "transient": {
      "deleting": false
     }
    }
   },
   "outputs": [
    {
     "name": "stdout",
     "output_type": "stream",
     "text": [
      "[5]"
     ]
    }
   ],
   "source": [
    "# Substitute the last line of the cell with scoring_uri for interaction with deployed service\n",
    "#\n",
    "from azureml.core.authentication import InteractiveLoginAuthentication\n",
    "\n",
    "interactive_auth = InteractiveLoginAuthentication()\n",
    "auth_header = interactive_auth.get_authentication_header()\n",
    "\n",
    "!curl -X POST \\\n",
    "    -H 'Content-Type':'application/json' \\\n",
    "    -d '{\"data\":[{\"fixed acidity\": 7.4, \"volatile acidity\": 0.7, \\\n",
    "        \"citric acid\": 0, \"residual sugar\": 1.9, \"chlorides\": 0.076, \"free sulfur dioxide\": 11, \\\n",
    "        \"total sulfur dioxide\": 34, \"density\": 0.9978, \"pH\": 3.51, \"sulphates\": 0.56, \"alcohol\": 9.4}]}' \\\n",
    "    http://bce1965c-b7a1-42c5-9a6a-f9c94d225770.southcentralus.azurecontainer.io/score"
   ]
  },
  {
   "cell_type": "markdown",
   "metadata": {
    "collapsed": true,
    "gather": {
     "logged": 1598432765711
    },
    "jupyter": {
     "outputs_hidden": false,
     "source_hidden": false
    },
    "nteract": {
     "transient": {
      "deleting": false
     }
    }
   },
   "source": [
    "The following cell prints out web service logs, deletes the service and comupte target, therefore releasing the resources in order to economize with them."
   ]
  },
  {
   "cell_type": "code",
   "execution_count": 27,
   "metadata": {
    "jupyter": {
     "outputs_hidden": false,
     "source_hidden": false
    },
    "nteract": {
     "transient": {
      "deleting": false
     }
    }
   },
   "outputs": [
    {
     "name": "stdout",
     "output_type": "stream",
     "text": [
      "2021-02-16T11:38:16,137168988+00:00 - gunicorn/run \n",
      "2021-02-16T11:38:16,137460291+00:00 - rsyslog/run \n",
      "2021-02-16T11:38:16,138593903+00:00 - iot-server/run \n",
      "/usr/sbin/nginx: /azureml-envs/azureml_09ff55f546b313bb1ab136a466214499/lib/libcrypto.so.1.0.0: no version information available (required by /usr/sbin/nginx)\n",
      "/usr/sbin/nginx: /azureml-envs/azureml_09ff55f546b313bb1ab136a466214499/lib/libcrypto.so.1.0.0: no version information available (required by /usr/sbin/nginx)\n",
      "/usr/sbin/nginx: /azureml-envs/azureml_09ff55f546b313bb1ab136a466214499/lib/libssl.so.1.0.0: no version information available (required by /usr/sbin/nginx)\n",
      "/usr/sbin/nginx: /azureml-envs/azureml_09ff55f546b313bb1ab136a466214499/lib/libssl.so.1.0.0: no version information available (required by /usr/sbin/nginx)\n",
      "/usr/sbin/nginx: /azureml-envs/azureml_09ff55f546b313bb1ab136a466214499/lib/libssl.so.1.0.0: no version information available (required by /usr/sbin/nginx)\n",
      "2021-02-16T11:38:16,139008608+00:00 - nginx/run \n",
      "rsyslogd: /azureml-envs/azureml_09ff55f546b313bb1ab136a466214499/lib/libuuid.so.1: no version information available (required by rsyslogd)\n",
      "EdgeHubConnectionString and IOTEDGE_IOTHUBHOSTNAME are not set. Exiting...\n",
      "2021-02-16T11:38:16,311787262+00:00 - iot-server/finish 1 0\n",
      "2021-02-16T11:38:16,313224077+00:00 - Exit code 1 is normal. Not restarting iot-server.\n",
      "Starting gunicorn 19.9.0\n",
      "Listening at: http://127.0.0.1:31311 (11)\n",
      "Using worker: sync\n",
      "worker timeout is set to 300\n",
      "Booting worker with pid: 41\n",
      "SPARK_HOME not set. Skipping PySpark Initialization.\n",
      "Generating new fontManager, this may take some time...\n",
      "Initializing logger\n",
      "2021-02-16 11:38:18,718 | root | INFO | Starting up app insights client\n",
      "2021-02-16 11:38:18,719 | root | INFO | Starting up request id generator\n",
      "2021-02-16 11:38:18,719 | root | INFO | Starting up app insight hooks\n",
      "2021-02-16 11:38:18,719 | root | INFO | Invoking user's init function\n",
      "2021-02-16 11:38:19,816 | root | INFO | Users's init has completed successfully\n",
      "2021-02-16 11:38:19,821 | root | INFO | Skipping middleware: dbg_model_info as it's not enabled.\n",
      "2021-02-16 11:38:19,822 | root | INFO | Skipping middleware: dbg_resource_usage as it's not enabled.\n",
      "2021-02-16 11:38:19,823 | root | INFO | Scoring timeout is found from os.environ: 60000 ms\n",
      "2021-02-16 11:38:25,747 | root | INFO | 200\n",
      "127.0.0.1 - - [16/Feb/2021:11:38:25 +0000] \"GET /swagger.json HTTP/1.0\" 200 2824 \"-\" \"Go-http-client/1.1\"\n",
      "2021-02-16 11:38:27,883 | root | INFO | 200\n",
      "127.0.0.1 - - [16/Feb/2021:11:38:27 +0000] \"GET /swagger.json HTTP/1.0\" 200 2824 \"-\" \"Go-http-client/1.1\"\n",
      "2021-02-16 11:38:45,197 | root | INFO | Validation Request Content-Type\n",
      "2021-02-16 11:38:45,198 | root | INFO | Scoring Timer is set to 60.0 seconds\n",
      "Input:\n",
      "Index(['fixed acidity', 'volatile acidity', 'citric acid', 'residual sugar',\n",
      "       'chlorides', 'free sulfur dioxide', 'total sulfur dioxide', 'density',\n",
      "       'pH', 'sulphates', 'alcohol'],\n",
      "      dtype='object')\n",
      "<class 'pandas.core.frame.DataFrame'>\n",
      "Output:\n",
      "[5 6]\n",
      "2021-02-16 11:38:45,316 | root | INFO | 200\n",
      "127.0.0.1 - - [16/Feb/2021:11:38:45 +0000] \"POST /score HTTP/1.0\" 200 6 \"-\" \"python-requests/2.25.1\"\n",
      "\n"
     ]
    }
   ],
   "source": [
    "# Get logs and release resources\n",
    "#\n",
    "print(service.get_logs())\n",
    "service.delete()\n",
    "compute_target.delete()"
   ]
  },
  {
   "cell_type": "markdown",
   "metadata": {},
   "source": [
    "Note: The cells below are helper files to be used in case original files are altered."
   ]
  },
  {
   "cell_type": "code",
   "execution_count": null,
   "metadata": {
    "jupyter": {
     "outputs_hidden": false,
     "source_hidden": false
    },
    "nteract": {
     "transient": {
      "deleting": false
     }
    },
    "scrolled": false
   },
   "outputs": [],
   "source": [
    "%%writefile scoring2.py\n",
    "\n",
    "# Reccomended approach\n",
    "# https://docs.microsoft.com/en-us/azure/machine-learning/how-to-deploy-and-where?tabs=python\n",
    "#\n",
    "# Inspiration for portions of code from https://docs.microsoft.com/en-us/azure/machine-learning/how-to-deploy-advanced-entry-script\n",
    "# and https://docs.microsoft.com/en-us/azure/machine-learning/tutorial-power-bi-custom-model\n",
    "#\n",
    "import json\n",
    "import pickle\n",
    "import numpy as np\n",
    "import pandas as pd\n",
    "import os\n",
    "import joblib\n",
    "from azureml.core.model import Model\n",
    "\n",
    "from inference_schema.schema_decorators import input_schema, output_schema\n",
    "from inference_schema.parameter_types.numpy_parameter_type import NumpyParameterType\n",
    "from inference_schema.parameter_types.pandas_parameter_type import PandasParameterType\n",
    "\n",
    "\n",
    "def init():\n",
    "    global model\n",
    "    path = os.getenv('AZUREML_MODEL_DIR') \n",
    "    model_path = os.path.join(path, 'automl-wine-quality-model.pkl')\n",
    "    model = joblib.load(model_path)\n",
    "\n",
    "\n",
    "input_sample = pd.DataFrame(data=[{\n",
    "            \"fixed acidity\": 7.4,\n",
    "             \"volatile acidity\": 0.7,\n",
    "             \"citric acid\": 0,\n",
    "             \"residual sugar\": 1.9,\n",
    "             \"chlorides\": 0.076,\n",
    "             \"free sulfur dioxide\": 11,\n",
    "             \"total sulfur dioxide\": 34,\n",
    "             \"density\": 0.9978,\n",
    "             \"pH\": 3.51,\n",
    "             \"sulphates\": 0.56,\n",
    "             \"alcohol\": 9.4\n",
    "}])\n",
    "\n",
    "# Expected result is inetger.\n",
    "output_sample = np.array([0])\n",
    "\n",
    "@input_schema('data', PandasParameterType(input_sample))\n",
    "@output_schema(NumpyParameterType(output_sample))\n",
    "\n",
    "def run(data):\n",
    "    try:\n",
    "        print(\"Inputs:\")\n",
    "        print(data.columns)\n",
    "        print(type(data))\n",
    "        result = model.predict(data)\n",
    "        print(\"Result:\")\n",
    "        print(result)\n",
    "        return result.tolist()\n",
    "    except Exception as e:\n",
    "        error = str(e)\n",
    "        return error"
   ]
  },
  {
   "cell_type": "code",
   "execution_count": null,
   "metadata": {},
   "outputs": [],
   "source": []
  }
 ],
 "metadata": {
  "kernel_info": {
   "name": "python3"
  },
  "kernelspec": {
   "display_name": "Python 3",
   "language": "python",
   "name": "python3"
  },
  "language_info": {
   "codemirror_mode": {
    "name": "ipython",
    "version": 3
   },
   "file_extension": ".py",
   "mimetype": "text/x-python",
   "name": "python",
   "nbconvert_exporter": "python",
   "pygments_lexer": "ipython3",
   "version": "3.6.9"
  },
  "nteract": {
   "version": "nteract-front-end@1.0.0"
  }
 },
 "nbformat": 4,
 "nbformat_minor": 2
}
