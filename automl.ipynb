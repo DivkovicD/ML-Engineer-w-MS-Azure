{
  "cells": [
    {
      "cell_type": "markdown",
      "source": [
        "# Automated ML\n",
        "\n",
        "The following cell contains commands to import all the dependencies for the project."
      ],
      "metadata": {}
    },
    {
      "cell_type": "code",
      "source": [
        "import logging\n",
        "import os\n",
        "import csv\n",
        "\n",
        "from matplotlib import pyplot as plt\n",
        "import numpy as np\n",
        "import pandas as pd\n",
        "from sklearn import datasets\n",
        "import pkg_resources\n",
        "\n",
        "import azureml.core\n",
        "from azureml.core.experiment import Experiment\n",
        "from azureml.core.workspace import Workspace\n",
        "from azureml.train.automl import AutoMLConfig\n",
        "from azureml.core.dataset import Dataset\n",
        "\n",
        "from azureml.pipeline.steps import AutoMLStep"
      ],
      "outputs": [],
      "execution_count": 1,
      "metadata": {
        "gather": {
          "logged": 1613164857410
        },
        "jupyter": {
          "outputs_hidden": false,
          "source_hidden": false
        },
        "nteract": {
          "transient": {
            "deleting": false
          }
        }
      }
    },
    {
      "cell_type": "markdown",
      "source": [
        "## Dataset\n",
        "\n",
        "### Overview\n",
        "In this markdown cell, we give an overview of the dataset used and the task we will be performing.\n",
        "\n",
        "The data used for training of the models is obtained from publicly UCI Machine Learning Repository. The dataset contains 1599 records of eleven red wine physicochemical properties and one output variable 'quality' as sensory data denoting perceived quality of wine according to human taste. Quality is scored from 0 to 10, latest denoting the highest quality. Classes are not balanced and there are more 'ordinary' wines than high or poor quality ones (P. Cortez, A. Cerdeira, F. Almeida, T. Matos and J. Reis., Modeling wine preferences by data mining from physicochemical properties. In Decision Support Systems, Elsevier, 47(4):547-553, 2009.). The data can be used both for regression and classification machine learning tasks.\n",
        "\n",
        "Our task will be to train the classification model to predict quality of unknown wine by its physicochemical properties. As starting point we will remove all missing data, as we have to be certain that we are using the clean dataset for training. \n",
        "\n",
        "The next cell contains the code we use to access the data used in this project. This dataset is external in regard to Microsoft Azure ML. The manual process of providing dataset for training is described in README.md file and if performed it is not necessary to run the next cell."
      ],
      "metadata": {}
    },
    {
      "cell_type": "code",
      "source": [
        "ws = Workspace.from_config()\n",
        "\n",
        "# Designate a name for experiment\n",
        "experiment_name = 'wine-quality-automl-experiment'\n",
        "\n",
        "experiment=Experiment(ws, experiment_name)\n",
        "\n",
        "# Attempt to load the dataset from the Workspace. Otherwise,\n",
        "# Prepare Dataset from external data\n",
        "# Data located at: 'https://archive.ics.uci.edu/ml/machine-learning-databases/wine-quality/winequality-red.csv'\n",
        "# \n",
        "found = False\n",
        "key = \"wine-quality\"\n",
        "description_text = \"Wine Quality DataSet for Udacity Capstone Project\"\n",
        "\n",
        "if key in ws.datasets.keys(): \n",
        "        found = True\n",
        "        ds = ws.datasets[key] \n",
        "\n",
        "if not found:\n",
        "        # Create AutoML Dataset and register it into Workspace\n",
        "        web_uri = 'https://archive.ics.uci.edu/ml/machine-learning-databases/wine-quality/winequality-red.csv'\n",
        "        ds = Dataset.Tabular.from_delimited_files(web_uri, separator=';', header='ALL_FILES_HAVE_SAME_HEADERS')        \n",
        "        #Register Dataset in Workspace\n",
        "        ds = ds.register(workspace=ws,\n",
        "                                   name=key,\n",
        "                                   description=description_text)\n",
        "        \n",
        "dframe = ds.to_pandas_dataframe()\n",
        "dframe.describe()\n",
        "ds.take(5).to_pandas_dataframe()"
      ],
      "outputs": [
        {
          "output_type": "execute_result",
          "execution_count": 2,
          "data": {
            "text/html": "<div>\n<style scoped>\n    .dataframe tbody tr th:only-of-type {\n        vertical-align: middle;\n    }\n\n    .dataframe tbody tr th {\n        vertical-align: top;\n    }\n\n    .dataframe thead th {\n        text-align: right;\n    }\n</style>\n<table border=\"1\" class=\"dataframe\">\n  <thead>\n    <tr style=\"text-align: right;\">\n      <th></th>\n      <th>fixed acidity</th>\n      <th>volatile acidity</th>\n      <th>citric acid</th>\n      <th>residual sugar</th>\n      <th>chlorides</th>\n      <th>free sulfur dioxide</th>\n      <th>total sulfur dioxide</th>\n      <th>density</th>\n      <th>pH</th>\n      <th>sulphates</th>\n      <th>alcohol</th>\n      <th>quality</th>\n    </tr>\n  </thead>\n  <tbody>\n    <tr>\n      <th>0</th>\n      <td>7.4</td>\n      <td>0.70</td>\n      <td>0.00</td>\n      <td>1.9</td>\n      <td>0.076</td>\n      <td>11</td>\n      <td>34</td>\n      <td>0.9978</td>\n      <td>3.51</td>\n      <td>0.56</td>\n      <td>9.4</td>\n      <td>5</td>\n    </tr>\n    <tr>\n      <th>1</th>\n      <td>7.8</td>\n      <td>0.88</td>\n      <td>0.00</td>\n      <td>2.6</td>\n      <td>0.098</td>\n      <td>25</td>\n      <td>67</td>\n      <td>0.9968</td>\n      <td>3.20</td>\n      <td>0.68</td>\n      <td>9.8</td>\n      <td>5</td>\n    </tr>\n    <tr>\n      <th>2</th>\n      <td>7.8</td>\n      <td>0.76</td>\n      <td>0.04</td>\n      <td>2.3</td>\n      <td>0.092</td>\n      <td>15</td>\n      <td>54</td>\n      <td>0.9970</td>\n      <td>3.26</td>\n      <td>0.65</td>\n      <td>9.8</td>\n      <td>5</td>\n    </tr>\n    <tr>\n      <th>3</th>\n      <td>11.2</td>\n      <td>0.28</td>\n      <td>0.56</td>\n      <td>1.9</td>\n      <td>0.075</td>\n      <td>17</td>\n      <td>60</td>\n      <td>0.9980</td>\n      <td>3.16</td>\n      <td>0.58</td>\n      <td>9.8</td>\n      <td>6</td>\n    </tr>\n    <tr>\n      <th>4</th>\n      <td>7.4</td>\n      <td>0.70</td>\n      <td>0.00</td>\n      <td>1.9</td>\n      <td>0.076</td>\n      <td>11</td>\n      <td>34</td>\n      <td>0.9978</td>\n      <td>3.51</td>\n      <td>0.56</td>\n      <td>9.4</td>\n      <td>5</td>\n    </tr>\n  </tbody>\n</table>\n</div>",
            "text/plain": "   fixed acidity  volatile acidity  citric acid  residual sugar  chlorides  \\\n0            7.4              0.70         0.00             1.9      0.076   \n1            7.8              0.88         0.00             2.6      0.098   \n2            7.8              0.76         0.04             2.3      0.092   \n3           11.2              0.28         0.56             1.9      0.075   \n4            7.4              0.70         0.00             1.9      0.076   \n\n   free sulfur dioxide  total sulfur dioxide  density    pH  sulphates  \\\n0                   11                    34   0.9978  3.51       0.56   \n1                   25                    67   0.9968  3.20       0.68   \n2                   15                    54   0.9970  3.26       0.65   \n3                   17                    60   0.9980  3.16       0.58   \n4                   11                    34   0.9978  3.51       0.56   \n\n   alcohol  quality  \n0      9.4        5  \n1      9.8        5  \n2      9.8        5  \n3      9.8        6  \n4      9.4        5  "
          },
          "metadata": {}
        }
      ],
      "execution_count": 2,
      "metadata": {
        "gather": {
          "logged": 1613164873147
        },
        "jupyter": {
          "outputs_hidden": false,
          "source_hidden": false
        },
        "nteract": {
          "transient": {
            "deleting": false
          }
        }
      }
    },
    {
      "cell_type": "markdown",
      "source": [
        "If manual creation of compute target was skipped, following two cells should be run. The first one creates needed compute resource for model training and the second creates folder structure for outputs."
      ],
      "metadata": {}
    },
    {
      "cell_type": "code",
      "source": [
        "from azureml.core.compute import ComputeTarget, AmlCompute\n",
        "from azureml.core.compute_target import ComputeTargetException\n",
        "\n",
        "ws = Workspace.from_config()\n",
        "\n",
        "# choose a name for compute\n",
        "compute_name = \"aml-compute\"\n",
        "\n",
        "try:\n",
        "    compute_target = ComputeTarget(workspace=ws, name=compute_name)\n",
        "    print('Found existing compute target')\n",
        "except ComputeTargetException:\n",
        "    print('Creating a new compute target...')\n",
        "    compute_config = AmlCompute.provisioning_configuration(vm_size='Standard_DS3_v2', \n",
        "                                                           max_nodes=10)\n",
        "\n",
        "    # create the cluster\n",
        "    compute_target = ComputeTarget.create(ws, compute_name, compute_config)\n",
        "\n",
        "# can poll for a minimum number of nodes and for a specific timeout. \n",
        "# if no min node count is provided it uses the scale settings for the cluster\n",
        "compute_target.wait_for_completion(show_output=True, min_node_count=None, timeout_in_minutes=20)\n",
        "\n",
        "# use get_status() to get a detailed status for the current cluster. \n",
        "print(compute_target.get_status().serialize())"
      ],
      "outputs": [
        {
          "output_type": "stream",
          "name": "stdout",
          "text": [
            "Creating a new compute target...\n",
            "Creating\n",
            "Succeeded\n",
            "AmlCompute wait for completion finished\n",
            "\n",
            "Minimum number of nodes requested have been provisioned\n",
            "{'currentNodeCount': 0, 'targetNodeCount': 0, 'nodeStateCounts': {'preparingNodeCount': 0, 'runningNodeCount': 0, 'idleNodeCount': 0, 'unusableNodeCount': 0, 'leavingNodeCount': 0, 'preemptedNodeCount': 0}, 'allocationState': 'Steady', 'allocationStateTransitionTime': '2021-02-16T19:06:32.717000+00:00', 'errors': None, 'creationTime': '2021-02-16T19:06:30.315166+00:00', 'modifiedTime': '2021-02-16T19:06:45.843716+00:00', 'provisioningState': 'Succeeded', 'provisioningStateTransitionTime': None, 'scaleSettings': {'minNodeCount': 0, 'maxNodeCount': 10, 'nodeIdleTimeBeforeScaleDown': 'PT120S'}, 'vmPriority': 'Dedicated', 'vmSize': 'STANDARD_DS3_V2'}\n"
          ]
        }
      ],
      "execution_count": 3,
      "metadata": {}
    },
    {
      "cell_type": "code",
      "source": [
        "import os\n",
        "\n",
        "os.makedirs('./outputs', exist_ok=True)\n",
        "os.makedirs('./aml', exist_ok=True)\n",
        "os.makedirs('./scripts', exist_ok=True)"
      ],
      "outputs": [],
      "execution_count": 4,
      "metadata": {}
    },
    {
      "cell_type": "code",
      "source": [
        "# Providing dataset for AutoML models training\n",
        "dataset_name = 'wine-quality'\n",
        "dataset = Dataset.get_by_name(workspace=ws, name=dataset_name)"
      ],
      "outputs": [],
      "execution_count": 4,
      "metadata": {}
    },
    {
      "cell_type": "markdown",
      "source": [
        "## AutoML Configuration\n",
        "\n",
        "For this project we have selected classification task with accuracy as primary metric. There are many settings for AutoML experiment configuration. Reasoning for selecting certain settings may be saving resources and limiting duration of training time. Here we have limited time for training of all iterations set to 20 minutes and maximum of 5 concurrent iterations. Accuracy is most common metric for model comparison and therefore it was used here. Maximum concurrent iterations was set in order to keep within limits of compute resources available and experiment timeout was set in order to prevent overallocation of resources in case of divergent iterations."
      ],
      "metadata": {}
    },
    {
      "cell_type": "code",
      "source": [
        "# This section provides AutoML settings\n",
        "#\n",
        "automl_settings = {\n",
        "    \"experiment_timeout_minutes\": 20,\n",
        "    \"max_concurrent_iterations\": 5,\n",
        "    \"primary_metric\" : 'accuracy'\n",
        "                    }\n",
        "\n",
        "# The portion of AutoML config here\n",
        "#\n",
        "compute_target_name = \"aml-compute\"\n",
        "automl_config = AutoMLConfig(compute_target=compute_target_name,\n",
        "                             task = \"classification\",\n",
        "                             training_data=dataset,\n",
        "                             label_column_name=\"quality\",   \n",
        "                             path = \"./aml\",\n",
        "                             enable_early_stopping= True,\n",
        "                             featurization= 'auto',\n",
        "                             debug_log = \"automl_errors.log\",\n",
        "                             **automl_settings\n",
        "                            )"
      ],
      "outputs": [],
      "execution_count": 5,
      "metadata": {
        "gather": {
          "logged": 1613164883738
        },
        "jupyter": {
          "outputs_hidden": false,
          "source_hidden": false
        },
        "nteract": {
          "transient": {
            "deleting": false
          }
        }
      }
    },
    {
      "cell_type": "code",
      "source": [
        "# Submit configured experiment\n",
        "#\n",
        "remote_run = experiment.submit(automl_config)"
      ],
      "outputs": [
        {
          "output_type": "stream",
          "name": "stdout",
          "text": [
            "Running on remote.\n"
          ]
        }
      ],
      "execution_count": 6,
      "metadata": {
        "gather": {
          "logged": 1613165208697
        },
        "jupyter": {
          "outputs_hidden": false,
          "source_hidden": false
        },
        "nteract": {
          "transient": {
            "deleting": false
          }
        },
        "scrolled": true
      }
    },
    {
      "cell_type": "markdown",
      "source": [
        "## Run Details\n",
        "\n",
        "Azure Auto ML creates a number of pipelines in parallel and test different algorithms and parameters. Each iteration produces a model with a training score. In reality machine learning models operate under certain assumptions. One of the assumptions regards the data for model training. If the real data characteristics differs much from assumed data, then we may get a poor fit. Some models are more succeptible to overfit than others. In order to minimize the risk of overfit, we may combine several good models to get possibly an even better model, which is a technique called VotingEnsemble in case of Azure Auto ML.\n",
        "\n",
        "After submitting the experimet one of the ways to monitor progress of the experiment directly from the notebook is to use `RunDetails` widget, which gives the information like the one on captured screenshot below.\n",
        "\n",
        "![](https://github.com/DivkovicD/ML-Engineer-w-MS-Azure/blob/master/Screenshots/Screenshot%20of%20RunDetails%20widget%20showing%20the%20progress%20of%20training%20runs%20of%20different%20experiments%20v5.png?raw=true)\n",
        "\n",
        "In the cell below, we used the `RunDetails` widget to show the different experiments."
      ],
      "metadata": {}
    },
    {
      "cell_type": "code",
      "source": [
        "from azureml.widgets import RunDetails\n",
        "RunDetails(remote_run).show()"
      ],
      "outputs": [
        {
          "output_type": "display_data",
          "data": {
            "application/vnd.jupyter.widget-view+json": {
              "model_id": "d50324bb5d734c5b9a4317ab9e4c9616",
              "version_major": 2,
              "version_minor": 0
            },
            "text/plain": "_AutoMLWidget(widget_settings={'childWidgetDisplay': 'popup', 'send_telemetry': False, 'log_level': 'INFO', 's…"
          },
          "metadata": {}
        },
        {
          "output_type": "display_data",
          "data": {
            "application/aml.mini.widget.v1": "{\"status\": \"Completed\", \"workbench_run_details_uri\": \"https://ml.azure.com/experiments/wine-quality-automl-experiment/runs/AutoML_e9aad53f-7bea-4914-b08e-406ebc2de6e5?wsid=/subscriptions/a24a24d5-8d87-4c8a-99b6-91ed2d2df51f/resourcegroups/aml-quickstarts-139036/workspaces/quick-starts-ws-139036\", \"run_id\": \"AutoML_e9aad53f-7bea-4914-b08e-406ebc2de6e5\", \"run_properties\": {\"run_id\": \"AutoML_e9aad53f-7bea-4914-b08e-406ebc2de6e5\", \"created_utc\": \"2021-02-16T19:07:14.793184Z\", \"properties\": {\"num_iterations\": \"1000\", \"training_type\": \"TrainFull\", \"acquisition_function\": \"EI\", \"primary_metric\": \"accuracy\", \"train_split\": \"0\", \"acquisition_parameter\": \"0\", \"num_cross_validation\": null, \"target\": \"aml-compute\", \"AMLSettingsJsonString\": \"{\\\"path\\\":null,\\\"name\\\":\\\"wine-quality-automl-experiment\\\",\\\"subscription_id\\\":\\\"a24a24d5-8d87-4c8a-99b6-91ed2d2df51f\\\",\\\"resource_group\\\":\\\"aml-quickstarts-139036\\\",\\\"workspace_name\\\":\\\"quick-starts-ws-139036\\\",\\\"region\\\":\\\"southcentralus\\\",\\\"compute_target\\\":\\\"aml-compute\\\",\\\"spark_service\\\":null,\\\"azure_service\\\":\\\"remote\\\",\\\"many_models\\\":false,\\\"pipeline_fetch_max_batch_size\\\":1,\\\"iterations\\\":1000,\\\"primary_metric\\\":\\\"accuracy\\\",\\\"task_type\\\":\\\"classification\\\",\\\"data_script\\\":null,\\\"validation_size\\\":0.0,\\\"n_cross_validations\\\":null,\\\"y_min\\\":null,\\\"y_max\\\":null,\\\"num_classes\\\":null,\\\"featurization\\\":\\\"auto\\\",\\\"_ignore_package_version_incompatibilities\\\":false,\\\"is_timeseries\\\":false,\\\"max_cores_per_iteration\\\":1,\\\"max_concurrent_iterations\\\":5,\\\"iteration_timeout_minutes\\\":null,\\\"mem_in_mb\\\":null,\\\"enforce_time_on_windows\\\":false,\\\"experiment_timeout_minutes\\\":20,\\\"experiment_exit_score\\\":null,\\\"whitelist_models\\\":null,\\\"blacklist_algos\\\":[\\\"TensorFlowLinearClassifier\\\",\\\"TensorFlowDNN\\\"],\\\"supported_models\\\":[\\\"TensorFlowDNN\\\",\\\"TensorFlowLinearClassifier\\\",\\\"LinearSVM\\\",\\\"LogisticRegression\\\",\\\"SVM\\\",\\\"LightGBM\\\",\\\"AveragedPerceptronClassifier\\\",\\\"GradientBoosting\\\",\\\"BernoulliNaiveBayes\\\",\\\"RandomForest\\\",\\\"XGBoostClassifier\\\",\\\"DecisionTree\\\",\\\"SGD\\\",\\\"ExtremeRandomTrees\\\",\\\"MultinomialNaiveBayes\\\",\\\"KNN\\\"],\\\"auto_blacklist\\\":true,\\\"blacklist_samples_reached\\\":false,\\\"exclude_nan_labels\\\":true,\\\"verbosity\\\":20,\\\"_debug_log\\\":\\\"azureml_automl.log\\\",\\\"show_warnings\\\":false,\\\"model_explainability\\\":true,\\\"service_url\\\":null,\\\"sdk_url\\\":null,\\\"sdk_packages\\\":null,\\\"enable_onnx_compatible_models\\\":false,\\\"enable_split_onnx_featurizer_estimator_models\\\":false,\\\"vm_type\\\":\\\"STANDARD_DS3_V2\\\",\\\"telemetry_verbosity\\\":20,\\\"send_telemetry\\\":true,\\\"enable_dnn\\\":false,\\\"scenario\\\":\\\"SDK-1.13.0\\\",\\\"environment_label\\\":null,\\\"force_text_dnn\\\":false,\\\"enable_feature_sweeping\\\":true,\\\"enable_early_stopping\\\":true,\\\"early_stopping_n_iters\\\":10,\\\"metrics\\\":null,\\\"enable_ensembling\\\":true,\\\"enable_stack_ensembling\\\":true,\\\"ensemble_iterations\\\":15,\\\"enable_tf\\\":false,\\\"enable_subsampling\\\":null,\\\"subsample_seed\\\":null,\\\"enable_nimbusml\\\":false,\\\"enable_streaming\\\":false,\\\"force_streaming\\\":false,\\\"track_child_runs\\\":true,\\\"allowed_private_models\\\":[],\\\"label_column_name\\\":\\\"quality\\\",\\\"weight_column_name\\\":null,\\\"cv_split_column_names\\\":null,\\\"enable_local_managed\\\":false,\\\"_local_managed_run_id\\\":null,\\\"cost_mode\\\":1,\\\"lag_length\\\":0,\\\"metric_operation\\\":\\\"maximize\\\",\\\"preprocess\\\":true}\", \"DataPrepJsonString\": \"{\\\\\\\"training_data\\\\\\\": \\\\\\\"{\\\\\\\\\\\\\\\"blocks\\\\\\\\\\\\\\\": [{\\\\\\\\\\\\\\\"id\\\\\\\\\\\\\\\": \\\\\\\\\\\\\\\"869b8972-7338-45c8-8abb-2ed0301e4fd5\\\\\\\\\\\\\\\", \\\\\\\\\\\\\\\"type\\\\\\\\\\\\\\\": \\\\\\\\\\\\\\\"Microsoft.DPrep.GetFilesBlock\\\\\\\\\\\\\\\", \\\\\\\\\\\\\\\"arguments\\\\\\\\\\\\\\\": {\\\\\\\\\\\\\\\"isArchive\\\\\\\\\\\\\\\": false, \\\\\\\\\\\\\\\"path\\\\\\\\\\\\\\\": {\\\\\\\\\\\\\\\"target\\\\\\\\\\\\\\\": 4, \\\\\\\\\\\\\\\"resourceDetails\\\\\\\\\\\\\\\": [{\\\\\\\\\\\\\\\"path\\\\\\\\\\\\\\\": \\\\\\\\\\\\\\\"https://archive.ics.uci.edu/ml/machine-learning-databases/wine-quality/winequality-red.csv\\\\\\\\\\\\\\\"}]}}, \\\\\\\\\\\\\\\"localData\\\\\\\\\\\\\\\": {}, \\\\\\\\\\\\\\\"isEnabled\\\\\\\\\\\\\\\": true, \\\\\\\\\\\\\\\"name\\\\\\\\\\\\\\\": null, \\\\\\\\\\\\\\\"annotation\\\\\\\\\\\\\\\": null}, {\\\\\\\\\\\\\\\"id\\\\\\\\\\\\\\\": \\\\\\\\\\\\\\\"bf0a528c-3a69-4b77-afc8-ba47f0ab8bef\\\\\\\\\\\\\\\", \\\\\\\\\\\\\\\"type\\\\\\\\\\\\\\\": \\\\\\\\\\\\\\\"Microsoft.DPrep.ParseDelimitedBlock\\\\\\\\\\\\\\\", \\\\\\\\\\\\\\\"arguments\\\\\\\\\\\\\\\": {\\\\\\\\\\\\\\\"columnHeadersMode\\\\\\\\\\\\\\\": 3, \\\\\\\\\\\\\\\"fileEncoding\\\\\\\\\\\\\\\": 0, \\\\\\\\\\\\\\\"handleQuotedLineBreaks\\\\\\\\\\\\\\\": false, \\\\\\\\\\\\\\\"preview\\\\\\\\\\\\\\\": false, \\\\\\\\\\\\\\\"separator\\\\\\\\\\\\\\\": \\\\\\\\\\\\\\\";\\\\\\\\\\\\\\\", \\\\\\\\\\\\\\\"skipRows\\\\\\\\\\\\\\\": 0, \\\\\\\\\\\\\\\"skipRowsMode\\\\\\\\\\\\\\\": 0}, \\\\\\\\\\\\\\\"localData\\\\\\\\\\\\\\\": {}, \\\\\\\\\\\\\\\"isEnabled\\\\\\\\\\\\\\\": true, \\\\\\\\\\\\\\\"name\\\\\\\\\\\\\\\": null, \\\\\\\\\\\\\\\"annotation\\\\\\\\\\\\\\\": null}, {\\\\\\\\\\\\\\\"id\\\\\\\\\\\\\\\": \\\\\\\\\\\\\\\"7fa3e4ae-1de8-4ea5-98c5-b269ae8f813d\\\\\\\\\\\\\\\", \\\\\\\\\\\\\\\"type\\\\\\\\\\\\\\\": \\\\\\\\\\\\\\\"Microsoft.DPrep.DropColumnsBlock\\\\\\\\\\\\\\\", \\\\\\\\\\\\\\\"arguments\\\\\\\\\\\\\\\": {\\\\\\\\\\\\\\\"columns\\\\\\\\\\\\\\\": {\\\\\\\\\\\\\\\"type\\\\\\\\\\\\\\\": 0, \\\\\\\\\\\\\\\"details\\\\\\\\\\\\\\\": {\\\\\\\\\\\\\\\"selectedColumns\\\\\\\\\\\\\\\": [\\\\\\\\\\\\\\\"Path\\\\\\\\\\\\\\\"]}}}, \\\\\\\\\\\\\\\"localData\\\\\\\\\\\\\\\": {}, \\\\\\\\\\\\\\\"isEnabled\\\\\\\\\\\\\\\": true, \\\\\\\\\\\\\\\"name\\\\\\\\\\\\\\\": null, \\\\\\\\\\\\\\\"annotation\\\\\\\\\\\\\\\": null}, {\\\\\\\\\\\\\\\"id\\\\\\\\\\\\\\\": \\\\\\\\\\\\\\\"7c70d5a4-fc58-4999-87f2-c9e3c2e65dfb\\\\\\\\\\\\\\\", \\\\\\\\\\\\\\\"type\\\\\\\\\\\\\\\": \\\\\\\\\\\\\\\"Microsoft.DPrep.SetColumnTypesBlock\\\\\\\\\\\\\\\", \\\\\\\\\\\\\\\"arguments\\\\\\\\\\\\\\\": {\\\\\\\\\\\\\\\"columnConversion\\\\\\\\\\\\\\\": [{\\\\\\\\\\\\\\\"column\\\\\\\\\\\\\\\": {\\\\\\\\\\\\\\\"type\\\\\\\\\\\\\\\": 2, \\\\\\\\\\\\\\\"details\\\\\\\\\\\\\\\": {\\\\\\\\\\\\\\\"selectedColumn\\\\\\\\\\\\\\\": \\\\\\\\\\\\\\\"fixed acidity\\\\\\\\\\\\\\\"}}, \\\\\\\\\\\\\\\"typeProperty\\\\\\\\\\\\\\\": 3}, {\\\\\\\\\\\\\\\"column\\\\\\\\\\\\\\\": {\\\\\\\\\\\\\\\"type\\\\\\\\\\\\\\\": 2, \\\\\\\\\\\\\\\"details\\\\\\\\\\\\\\\": {\\\\\\\\\\\\\\\"selectedColumn\\\\\\\\\\\\\\\": \\\\\\\\\\\\\\\"volatile acidity\\\\\\\\\\\\\\\"}}, \\\\\\\\\\\\\\\"typeProperty\\\\\\\\\\\\\\\": 3}, {\\\\\\\\\\\\\\\"column\\\\\\\\\\\\\\\": {\\\\\\\\\\\\\\\"type\\\\\\\\\\\\\\\": 2, \\\\\\\\\\\\\\\"details\\\\\\\\\\\\\\\": {\\\\\\\\\\\\\\\"selectedColumn\\\\\\\\\\\\\\\": \\\\\\\\\\\\\\\"citric acid\\\\\\\\\\\\\\\"}}, \\\\\\\\\\\\\\\"typeProperty\\\\\\\\\\\\\\\": 3}, {\\\\\\\\\\\\\\\"column\\\\\\\\\\\\\\\": {\\\\\\\\\\\\\\\"type\\\\\\\\\\\\\\\": 2, \\\\\\\\\\\\\\\"details\\\\\\\\\\\\\\\": {\\\\\\\\\\\\\\\"selectedColumn\\\\\\\\\\\\\\\": \\\\\\\\\\\\\\\"residual sugar\\\\\\\\\\\\\\\"}}, \\\\\\\\\\\\\\\"typeProperty\\\\\\\\\\\\\\\": 3}, {\\\\\\\\\\\\\\\"column\\\\\\\\\\\\\\\": {\\\\\\\\\\\\\\\"type\\\\\\\\\\\\\\\": 2, \\\\\\\\\\\\\\\"details\\\\\\\\\\\\\\\": {\\\\\\\\\\\\\\\"selectedColumn\\\\\\\\\\\\\\\": \\\\\\\\\\\\\\\"chlorides\\\\\\\\\\\\\\\"}}, \\\\\\\\\\\\\\\"typeProperty\\\\\\\\\\\\\\\": 3}, {\\\\\\\\\\\\\\\"column\\\\\\\\\\\\\\\": {\\\\\\\\\\\\\\\"type\\\\\\\\\\\\\\\": 2, \\\\\\\\\\\\\\\"details\\\\\\\\\\\\\\\": {\\\\\\\\\\\\\\\"selectedColumn\\\\\\\\\\\\\\\": \\\\\\\\\\\\\\\"free sulfur dioxide\\\\\\\\\\\\\\\"}}, \\\\\\\\\\\\\\\"typeProperty\\\\\\\\\\\\\\\": 2}, {\\\\\\\\\\\\\\\"column\\\\\\\\\\\\\\\": {\\\\\\\\\\\\\\\"type\\\\\\\\\\\\\\\": 2, \\\\\\\\\\\\\\\"details\\\\\\\\\\\\\\\": {\\\\\\\\\\\\\\\"selectedColumn\\\\\\\\\\\\\\\": \\\\\\\\\\\\\\\"total sulfur dioxide\\\\\\\\\\\\\\\"}}, \\\\\\\\\\\\\\\"typeProperty\\\\\\\\\\\\\\\": 2}, {\\\\\\\\\\\\\\\"column\\\\\\\\\\\\\\\": {\\\\\\\\\\\\\\\"type\\\\\\\\\\\\\\\": 2, \\\\\\\\\\\\\\\"details\\\\\\\\\\\\\\\": {\\\\\\\\\\\\\\\"selectedColumn\\\\\\\\\\\\\\\": \\\\\\\\\\\\\\\"density\\\\\\\\\\\\\\\"}}, \\\\\\\\\\\\\\\"typeProperty\\\\\\\\\\\\\\\": 3}, {\\\\\\\\\\\\\\\"column\\\\\\\\\\\\\\\": {\\\\\\\\\\\\\\\"type\\\\\\\\\\\\\\\": 2, \\\\\\\\\\\\\\\"details\\\\\\\\\\\\\\\": {\\\\\\\\\\\\\\\"selectedColumn\\\\\\\\\\\\\\\": \\\\\\\\\\\\\\\"pH\\\\\\\\\\\\\\\"}}, \\\\\\\\\\\\\\\"typeProperty\\\\\\\\\\\\\\\": 3}, {\\\\\\\\\\\\\\\"column\\\\\\\\\\\\\\\": {\\\\\\\\\\\\\\\"type\\\\\\\\\\\\\\\": 2, \\\\\\\\\\\\\\\"details\\\\\\\\\\\\\\\": {\\\\\\\\\\\\\\\"selectedColumn\\\\\\\\\\\\\\\": \\\\\\\\\\\\\\\"sulphates\\\\\\\\\\\\\\\"}}, \\\\\\\\\\\\\\\"typeProperty\\\\\\\\\\\\\\\": 3}, {\\\\\\\\\\\\\\\"column\\\\\\\\\\\\\\\": {\\\\\\\\\\\\\\\"type\\\\\\\\\\\\\\\": 2, \\\\\\\\\\\\\\\"details\\\\\\\\\\\\\\\": {\\\\\\\\\\\\\\\"selectedColumn\\\\\\\\\\\\\\\": \\\\\\\\\\\\\\\"alcohol\\\\\\\\\\\\\\\"}}, \\\\\\\\\\\\\\\"typeProperty\\\\\\\\\\\\\\\": 3}, {\\\\\\\\\\\\\\\"column\\\\\\\\\\\\\\\": {\\\\\\\\\\\\\\\"type\\\\\\\\\\\\\\\": 2, \\\\\\\\\\\\\\\"details\\\\\\\\\\\\\\\": {\\\\\\\\\\\\\\\"selectedColumn\\\\\\\\\\\\\\\": \\\\\\\\\\\\\\\"quality\\\\\\\\\\\\\\\"}}, \\\\\\\\\\\\\\\"typeProperty\\\\\\\\\\\\\\\": 2}]}, \\\\\\\\\\\\\\\"localData\\\\\\\\\\\\\\\": {}, \\\\\\\\\\\\\\\"isEnabled\\\\\\\\\\\\\\\": true, \\\\\\\\\\\\\\\"name\\\\\\\\\\\\\\\": null, \\\\\\\\\\\\\\\"annotation\\\\\\\\\\\\\\\": null}], \\\\\\\\\\\\\\\"inspectors\\\\\\\\\\\\\\\": [], \\\\\\\\\\\\\\\"meta\\\\\\\\\\\\\\\": {\\\\\\\\\\\\\\\"savedDatasetId\\\\\\\\\\\\\\\": \\\\\\\\\\\\\\\"b2f04530-a07f-42e4-9904-c5e2cd0cef48\\\\\\\\\\\\\\\", \\\\\\\\\\\\\\\"datasetType\\\\\\\\\\\\\\\": \\\\\\\\\\\\\\\"tabular\\\\\\\\\\\\\\\", \\\\\\\\\\\\\\\"subscriptionId\\\\\\\\\\\\\\\": \\\\\\\\\\\\\\\"a24a24d5-8d87-4c8a-99b6-91ed2d2df51f\\\\\\\\\\\\\\\", \\\\\\\\\\\\\\\"workspaceId\\\\\\\\\\\\\\\": \\\\\\\\\\\\\\\"5743a9a0-72ce-4279-83e2-e7161f5d77eb\\\\\\\\\\\\\\\", \\\\\\\\\\\\\\\"workspaceLocation\\\\\\\\\\\\\\\": \\\\\\\\\\\\\\\"southcentralus\\\\\\\\\\\\\\\"}}\\\\\\\", \\\\\\\"activities\\\\\\\": 0}\", \"EnableSubsampling\": null, \"runTemplate\": \"AutoML\", \"azureml.runsource\": \"automl\", \"display_task_type\": \"classification\", \"dependencies_versions\": \"{\\\"azureml-widgets\\\": \\\"1.20.0\\\", \\\"azureml-train\\\": \\\"1.20.0\\\", \\\"azureml-train-restclients-hyperdrive\\\": \\\"1.20.0\\\", \\\"azureml-train-core\\\": \\\"1.20.0\\\", \\\"azureml-train-automl\\\": \\\"1.20.0\\\", \\\"azureml-train-automl-runtime\\\": \\\"1.20.0\\\", \\\"azureml-train-automl-client\\\": \\\"1.20.0\\\", \\\"azureml-tensorboard\\\": \\\"1.20.0\\\", \\\"azureml-telemetry\\\": \\\"1.20.0\\\", \\\"azureml-sdk\\\": \\\"1.20.0\\\", \\\"azureml-samples\\\": \\\"0+unknown\\\", \\\"azureml-pipeline\\\": \\\"1.20.0\\\", \\\"azureml-pipeline-steps\\\": \\\"1.20.0\\\", \\\"azureml-pipeline-core\\\": \\\"1.20.0\\\", \\\"azureml-opendatasets\\\": \\\"1.20.0\\\", \\\"azureml-model-management-sdk\\\": \\\"1.0.1b6.post1\\\", \\\"azureml-mlflow\\\": \\\"1.20.0.post1\\\", \\\"azureml-interpret\\\": \\\"1.20.0\\\", \\\"azureml-explain-model\\\": \\\"1.20.0\\\", \\\"azureml-defaults\\\": \\\"1.20.0\\\", \\\"azureml-dataset-runtime\\\": \\\"1.20.0\\\", \\\"azureml-dataprep\\\": \\\"2.7.3\\\", \\\"azureml-dataprep-rslex\\\": \\\"1.5.0\\\", \\\"azureml-dataprep-native\\\": \\\"27.0.0\\\", \\\"azureml-datadrift\\\": \\\"1.20.0\\\", \\\"azureml-core\\\": \\\"1.20.0\\\", \\\"azureml-contrib-services\\\": \\\"1.20.0\\\", \\\"azureml-contrib-server\\\": \\\"1.20.0\\\", \\\"azureml-contrib-reinforcementlearning\\\": \\\"1.20.0\\\", \\\"azureml-contrib-pipeline-steps\\\": \\\"1.20.0\\\", \\\"azureml-contrib-notebook\\\": \\\"1.20.0\\\", \\\"azureml-contrib-interpret\\\": \\\"1.20.0\\\", \\\"azureml-contrib-gbdt\\\": \\\"1.20.0\\\", \\\"azureml-contrib-fairness\\\": \\\"1.20.0\\\", \\\"azureml-contrib-dataset\\\": \\\"1.20.0\\\", \\\"azureml-cli-common\\\": \\\"1.20.0\\\", \\\"azureml-automl-runtime\\\": \\\"1.20.0\\\", \\\"azureml-automl-core\\\": \\\"1.20.0\\\", \\\"azureml-accel-models\\\": \\\"1.20.0\\\"}\", \"_aml_system_scenario_identification\": \"Remote.Parent\", \"ClientType\": \"SDK\", \"environment_cpu_name\": \"AzureML-AutoML\", \"environment_cpu_label\": \"prod\", \"environment_gpu_name\": \"AzureML-AutoML-GPU\", \"environment_gpu_label\": \"prod\", \"root_attribution\": \"automl\", \"attribution\": \"AutoML\", \"Orchestrator\": \"AutoML\", \"CancelUri\": \"https://southcentralus.experiments.azureml.net/jasmine/v1.0/subscriptions/a24a24d5-8d87-4c8a-99b6-91ed2d2df51f/resourceGroups/aml-quickstarts-139036/providers/Microsoft.MachineLearningServices/workspaces/quick-starts-ws-139036/experimentids/98f9643e-2b14-4e9c-93f8-80dd34d1b6f3/cancel/AutoML_e9aad53f-7bea-4914-b08e-406ebc2de6e5\", \"ClientSdkVersion\": \"1.21.0\", \"snapshotId\": \"00000000-0000-0000-0000-000000000000\", \"SetupRunId\": \"AutoML_e9aad53f-7bea-4914-b08e-406ebc2de6e5_setup\", \"SetupRunContainerId\": \"dcid.AutoML_e9aad53f-7bea-4914-b08e-406ebc2de6e5_setup\", \"FeaturizationRunJsonPath\": \"featurizer_container.json\", \"FeaturizationRunId\": \"AutoML_e9aad53f-7bea-4914-b08e-406ebc2de6e5_featurize\", \"ProblemInfoJsonString\": \"{\\\"dataset_num_categorical\\\": 0, \\\"is_sparse\\\": false, \\\"subsampling\\\": false, \\\"dataset_classes\\\": 6, \\\"dataset_features\\\": 11, \\\"dataset_samples\\\": 1599, \\\"single_frequency_class_detected\\\": false}\", \"ModelExplainRunId\": \"AutoML_e9aad53f-7bea-4914-b08e-406ebc2de6e5_ModelExplain\"}, \"tags\": {\"model_explain_run\": \"best_run\", \"_aml_system_azureml.automlComponent\": \"AutoML\", \"pipeline_id\": \"\", \"score\": \"\", \"predicted_cost\": \"\", \"fit_time\": \"\", \"training_percent\": \"\", \"iteration\": \"\", \"run_preprocessor\": \"\", \"run_algorithm\": \"\", \"dynamic_whitelisting_iterations\": \"<25>;<25>;<30>;<35>;\", \"automl_best_child_run_id\": \"AutoML_e9aad53f-7bea-4914-b08e-406ebc2de6e5_38\"}, \"end_time_utc\": \"2021-02-16T19:32:09.905987Z\", \"status\": \"Completed\", \"log_files\": {}, \"log_groups\": [], \"run_duration\": \"0:24:55\"}, \"child_runs\": [{\"run_id\": \"AutoML_e9aad53f-7bea-4914-b08e-406ebc2de6e5_0\", \"run_number\": 5, \"metric\": null, \"status\": \"Completed\", \"run_type\": \"azureml.scriptrun\", \"training_percent\": \"100\", \"start_time\": \"2021-02-16T19:17:53.0805Z\", \"end_time\": \"2021-02-16T19:18:54.456385Z\", \"created_time\": \"2021-02-16T19:16:37.38276Z\", \"created_time_dt\": \"2021-02-16T19:16:37.38276Z\", \"duration\": \"0:02:17\", \"iteration\": \"0\", \"goal\": \"accuracy_max\", \"run_name\": \"MaxAbsScaler, LightGBM\", \"run_properties\": \"copy=True\", \"primary_metric\": 0.66979362, \"best_metric\": 0.66979362}, {\"run_id\": \"AutoML_e9aad53f-7bea-4914-b08e-406ebc2de6e5_4\", \"run_number\": 6, \"metric\": null, \"status\": \"Completed\", \"run_type\": \"azureml.scriptrun\", \"training_percent\": \"100\", \"start_time\": \"2021-02-16T19:19:57.790384Z\", \"end_time\": \"2021-02-16T19:22:11.639521Z\", \"created_time\": \"2021-02-16T19:16:37.523887Z\", \"created_time_dt\": \"2021-02-16T19:16:37.523887Z\", \"duration\": \"0:05:34\", \"iteration\": \"4\", \"goal\": \"accuracy_max\", \"run_name\": \"MinMaxScaler, RandomForest\", \"run_properties\": \"copy=True, feature_range=(0, 1\", \"primary_metric\": 0.55284553, \"best_metric\": 0.66979362}, {\"run_id\": \"AutoML_e9aad53f-7bea-4914-b08e-406ebc2de6e5_3\", \"run_number\": 7, \"metric\": null, \"status\": \"Completed\", \"run_type\": \"azureml.scriptrun\", \"training_percent\": \"100\", \"start_time\": \"2021-02-16T19:19:56.318406Z\", \"end_time\": \"2021-02-16T19:21:54.740863Z\", \"created_time\": \"2021-02-16T19:16:37.535759Z\", \"created_time_dt\": \"2021-02-16T19:16:37.535759Z\", \"duration\": \"0:05:17\", \"iteration\": \"3\", \"goal\": \"accuracy_max\", \"run_name\": \"MinMaxScaler, RandomForest\", \"run_properties\": \"copy=True, feature_range=(0, 1\", \"primary_metric\": 0.59099437, \"best_metric\": 0.66979362}, {\"run_id\": \"AutoML_e9aad53f-7bea-4914-b08e-406ebc2de6e5_2\", \"run_number\": 8, \"metric\": null, \"status\": \"Completed\", \"run_type\": \"azureml.scriptrun\", \"training_percent\": \"100\", \"start_time\": \"2021-02-16T19:16:49.311516Z\", \"end_time\": \"2021-02-16T19:17:48.608988Z\", \"created_time\": \"2021-02-16T19:16:37.548695Z\", \"created_time_dt\": \"2021-02-16T19:16:37.548695Z\", \"duration\": \"0:01:11\", \"iteration\": \"2\", \"goal\": \"accuracy_max\", \"run_name\": \"MinMaxScaler, RandomForest\", \"run_properties\": \"copy=True, feature_range=(0, 1\", \"primary_metric\": 0.59912445, \"best_metric\": 0.66979362}, {\"run_id\": \"AutoML_e9aad53f-7bea-4914-b08e-406ebc2de6e5_1\", \"run_number\": 9, \"metric\": null, \"status\": \"Completed\", \"run_type\": \"azureml.scriptrun\", \"training_percent\": \"100\", \"start_time\": \"2021-02-16T19:18:56.978804Z\", \"end_time\": \"2021-02-16T19:20:06.162123Z\", \"created_time\": \"2021-02-16T19:16:37.556661Z\", \"created_time_dt\": \"2021-02-16T19:16:37.556661Z\", \"duration\": \"0:03:28\", \"iteration\": \"1\", \"goal\": \"accuracy_max\", \"run_name\": \"MaxAbsScaler, XGBoostClassifier\", \"run_properties\": \"copy=True\", \"primary_metric\": 0.64040025, \"best_metric\": 0.66979362}, {\"run_id\": \"AutoML_e9aad53f-7bea-4914-b08e-406ebc2de6e5_5\", \"run_number\": 10, \"metric\": null, \"status\": \"Completed\", \"run_type\": \"azureml.scriptrun\", \"training_percent\": \"100\", \"start_time\": \"2021-02-16T19:19:58.172034Z\", \"end_time\": \"2021-02-16T19:22:08.054513Z\", \"created_time\": \"2021-02-16T19:17:52.588994Z\", \"created_time_dt\": \"2021-02-16T19:17:52.588994Z\", \"duration\": \"0:04:15\", \"iteration\": \"5\", \"goal\": \"accuracy_max\", \"run_name\": \"StandardScalerWrapper, XGBoostClassifier\", \"run_properties\": \"<azureml.automl.runtime.shared.model_wrappers.StandardScalerWrapper object at 0x7f5551f18048\", \"primary_metric\": 0.68042527, \"best_metric\": 0.68042527}, {\"run_id\": \"AutoML_e9aad53f-7bea-4914-b08e-406ebc2de6e5_6\", \"run_number\": 11, \"metric\": null, \"status\": \"Completed\", \"run_type\": \"azureml.scriptrun\", \"training_percent\": \"100\", \"start_time\": \"2021-02-16T19:20:00.327091Z\", \"end_time\": \"2021-02-16T19:22:12.934573Z\", \"created_time\": \"2021-02-16T19:18:58.373946Z\", \"created_time_dt\": \"2021-02-16T19:18:58.373946Z\", \"duration\": \"0:03:14\", \"iteration\": \"6\", \"goal\": \"accuracy_max\", \"run_name\": \"SparseNormalizer, XGBoostClassifier\", \"run_properties\": \"<azureml.automl.runtime.shared.model_wrappers.SparseNormalizer object at 0x7fe799b03f28\", \"primary_metric\": 0.62226391, \"best_metric\": 0.68042527}, {\"run_id\": \"AutoML_e9aad53f-7bea-4914-b08e-406ebc2de6e5_7\", \"run_number\": 12, \"metric\": null, \"status\": \"Completed\", \"run_type\": \"azureml.scriptrun\", \"training_percent\": \"100\", \"start_time\": \"2021-02-16T19:20:23.270413Z\", \"end_time\": \"2021-02-16T19:21:20.02611Z\", \"created_time\": \"2021-02-16T19:20:10.57331Z\", \"created_time_dt\": \"2021-02-16T19:20:10.57331Z\", \"duration\": \"0:01:09\", \"iteration\": \"7\", \"goal\": \"accuracy_max\", \"run_name\": \"TruncatedSVDWrapper, XGBoostClassifier\", \"run_properties\": \"n_components=0.95, random_state=None\", \"primary_metric\": 0.65791119, \"best_metric\": 0.68042527}, {\"run_id\": \"AutoML_e9aad53f-7bea-4914-b08e-406ebc2de6e5_8\", \"run_number\": 13, \"metric\": null, \"status\": \"Completed\", \"run_type\": \"azureml.scriptrun\", \"training_percent\": \"100\", \"start_time\": \"2021-02-16T19:21:35.495227Z\", \"end_time\": \"2021-02-16T19:22:31.038517Z\", \"created_time\": \"2021-02-16T19:21:24.165324Z\", \"created_time_dt\": \"2021-02-16T19:21:24.165324Z\", \"duration\": \"0:01:06\", \"iteration\": \"8\", \"goal\": \"accuracy_max\", \"run_name\": \"MinMaxScaler, SVM\", \"run_properties\": \"copy=True, feature_range=(0, 1\", \"primary_metric\": 0.61163227, \"best_metric\": 0.68042527}, {\"run_id\": \"AutoML_e9aad53f-7bea-4914-b08e-406ebc2de6e5_9\", \"run_number\": 14, \"metric\": null, \"status\": \"Completed\", \"run_type\": \"azureml.scriptrun\", \"training_percent\": \"100\", \"start_time\": \"2021-02-16T19:22:09.056986Z\", \"end_time\": \"2021-02-16T19:23:18.305907Z\", \"created_time\": \"2021-02-16T19:21:58.141021Z\", \"created_time_dt\": \"2021-02-16T19:21:58.141021Z\", \"duration\": \"0:01:20\", \"iteration\": \"9\", \"goal\": \"accuracy_max\", \"run_name\": \"MinMaxScaler, SVM\", \"run_properties\": \"copy=True, feature_range=(0, 1\", \"primary_metric\": 0.59224515, \"best_metric\": 0.68042527}, {\"run_id\": \"AutoML_e9aad53f-7bea-4914-b08e-406ebc2de6e5_10\", \"run_number\": 15, \"metric\": null, \"status\": \"Completed\", \"run_type\": \"azureml.scriptrun\", \"training_percent\": \"100\", \"start_time\": \"2021-02-16T19:22:24.139848Z\", \"end_time\": \"2021-02-16T19:23:18.126663Z\", \"created_time\": \"2021-02-16T19:22:10.985853Z\", \"created_time_dt\": \"2021-02-16T19:22:10.985853Z\", \"duration\": \"0:01:07\", \"iteration\": \"10\", \"goal\": \"accuracy_max\", \"run_name\": \"MaxAbsScaler, LogisticRegression\", \"run_properties\": \"copy=True\", \"primary_metric\": 0.58474046, \"best_metric\": 0.68042527}, {\"run_id\": \"AutoML_e9aad53f-7bea-4914-b08e-406ebc2de6e5_11\", \"run_number\": 16, \"metric\": null, \"status\": \"Completed\", \"run_type\": \"azureml.scriptrun\", \"training_percent\": \"100\", \"start_time\": \"2021-02-16T19:22:31.810906Z\", \"end_time\": \"2021-02-16T19:23:30.46642Z\", \"created_time\": \"2021-02-16T19:22:17.815539Z\", \"created_time_dt\": \"2021-02-16T19:22:17.815539Z\", \"duration\": \"0:01:12\", \"iteration\": \"11\", \"goal\": \"accuracy_max\", \"run_name\": \"SparseNormalizer, LightGBM\", \"run_properties\": \"<azureml.automl.runtime.shared.model_wrappers.SparseNormalizer object at 0x7f9af5927f98\", \"primary_metric\": 0.54158849, \"best_metric\": 0.68042527}, {\"run_id\": \"AutoML_e9aad53f-7bea-4914-b08e-406ebc2de6e5_12\", \"run_number\": 17, \"metric\": null, \"status\": \"Completed\", \"run_type\": \"azureml.scriptrun\", \"training_percent\": \"100\", \"start_time\": \"2021-02-16T19:22:30.558988Z\", \"end_time\": \"2021-02-16T19:23:22.625557Z\", \"created_time\": \"2021-02-16T19:22:17.821477Z\", \"created_time_dt\": \"2021-02-16T19:22:17.821477Z\", \"duration\": \"0:01:04\", \"iteration\": \"12\", \"goal\": \"accuracy_max\", \"run_name\": \"SparseNormalizer, XGBoostClassifier\", \"run_properties\": \"<azureml.automl.runtime.shared.model_wrappers.SparseNormalizer object at 0x7f7468163940\", \"primary_metric\": 0.64790494, \"best_metric\": 0.68042527}, {\"run_id\": \"AutoML_e9aad53f-7bea-4914-b08e-406ebc2de6e5_13\", \"run_number\": 18, \"metric\": null, \"status\": \"Completed\", \"run_type\": \"azureml.scriptrun\", \"training_percent\": \"100\", \"start_time\": \"2021-02-16T19:22:46.182674Z\", \"end_time\": \"2021-02-16T19:23:39.827325Z\", \"created_time\": \"2021-02-16T19:22:33.692585Z\", \"created_time_dt\": \"2021-02-16T19:22:33.692585Z\", \"duration\": \"0:01:06\", \"iteration\": \"13\", \"goal\": \"accuracy_max\", \"run_name\": \"SparseNormalizer, GradientBoosting\", \"run_properties\": \"<azureml.automl.runtime.shared.model_wrappers.SparseNormalizer object at 0x7ff986bd9208\", \"primary_metric\": 0.54221388, \"best_metric\": 0.68042527}, {\"run_id\": \"AutoML_e9aad53f-7bea-4914-b08e-406ebc2de6e5_14\", \"run_number\": 19, \"metric\": null, \"status\": \"Completed\", \"run_type\": \"azureml.scriptrun\", \"training_percent\": \"100\", \"start_time\": \"2021-02-16T19:23:32.762165Z\", \"end_time\": \"2021-02-16T19:24:27.977877Z\", \"created_time\": \"2021-02-16T19:23:21.280471Z\", \"created_time_dt\": \"2021-02-16T19:23:21.280471Z\", \"duration\": \"0:01:06\", \"iteration\": \"14\", \"goal\": \"accuracy_max\", \"run_name\": \"StandardScalerWrapper, LightGBM\", \"run_properties\": \"<azureml.automl.runtime.shared.model_wrappers.StandardScalerWrapper object at 0x7f72e64cb4a8\", \"primary_metric\": 0.61100688, \"best_metric\": 0.68042527}, {\"run_id\": \"AutoML_e9aad53f-7bea-4914-b08e-406ebc2de6e5_15\", \"run_number\": 20, \"metric\": null, \"status\": \"Completed\", \"run_type\": \"azureml.scriptrun\", \"training_percent\": \"100\", \"start_time\": \"2021-02-16T19:23:39.078632Z\", \"end_time\": \"2021-02-16T19:24:31.75121Z\", \"created_time\": \"2021-02-16T19:23:26.268417Z\", \"created_time_dt\": \"2021-02-16T19:23:26.268417Z\", \"duration\": \"0:01:05\", \"iteration\": \"15\", \"goal\": \"accuracy_max\", \"run_name\": \"MaxAbsScaler, GradientBoosting\", \"run_properties\": \"copy=True\", \"primary_metric\": 0.60850532, \"best_metric\": 0.68042527}, {\"run_id\": \"AutoML_e9aad53f-7bea-4914-b08e-406ebc2de6e5_16\", \"run_number\": 21, \"metric\": null, \"status\": \"Completed\", \"run_type\": \"azureml.scriptrun\", \"training_percent\": \"100\", \"start_time\": \"2021-02-16T19:24:09.197606Z\", \"end_time\": \"2021-02-16T19:24:58.944467Z\", \"created_time\": \"2021-02-16T19:23:55.22328Z\", \"created_time_dt\": \"2021-02-16T19:23:55.22328Z\", \"duration\": \"0:01:03\", \"iteration\": \"16\", \"goal\": \"accuracy_max\", \"run_name\": \"MaxAbsScaler, LightGBM\", \"run_properties\": \"copy=True\", \"primary_metric\": 0.59662289, \"best_metric\": 0.68042527}, {\"run_id\": \"AutoML_e9aad53f-7bea-4914-b08e-406ebc2de6e5_17\", \"run_number\": 22, \"metric\": null, \"status\": \"Completed\", \"run_type\": \"azureml.scriptrun\", \"training_percent\": \"100\", \"start_time\": \"2021-02-16T19:24:17.132483Z\", \"end_time\": \"2021-02-16T19:25:18.345131Z\", \"created_time\": \"2021-02-16T19:24:02.599266Z\", \"created_time_dt\": \"2021-02-16T19:24:02.599266Z\", \"duration\": \"0:01:15\", \"iteration\": \"17\", \"goal\": \"accuracy_max\", \"run_name\": \"StandardScalerWrapper, LightGBM\", \"run_properties\": \"<azureml.automl.runtime.shared.model_wrappers.StandardScalerWrapper object at 0x7fb3441c0c50\", \"primary_metric\": 0.61788618, \"best_metric\": 0.68042527}, {\"run_id\": \"AutoML_e9aad53f-7bea-4914-b08e-406ebc2de6e5_18\", \"run_number\": 23, \"metric\": null, \"status\": \"Completed\", \"run_type\": \"azureml.scriptrun\", \"training_percent\": \"100\", \"start_time\": \"2021-02-16T19:24:18.743214Z\", \"end_time\": \"2021-02-16T19:25:14.725555Z\", \"created_time\": \"2021-02-16T19:24:02.788906Z\", \"created_time_dt\": \"2021-02-16T19:24:02.788906Z\", \"duration\": \"0:01:11\", \"iteration\": \"18\", \"goal\": \"accuracy_max\", \"run_name\": \"StandardScalerWrapper, LightGBM\", \"run_properties\": \"<azureml.automl.runtime.shared.model_wrappers.StandardScalerWrapper object at 0x7f17f4e70ef0\", \"primary_metric\": 0.60850532, \"best_metric\": 0.68042527}, {\"run_id\": \"AutoML_e9aad53f-7bea-4914-b08e-406ebc2de6e5_19\", \"run_number\": 24, \"metric\": null, \"status\": \"Completed\", \"run_type\": \"azureml.scriptrun\", \"training_percent\": \"100\", \"start_time\": \"2021-02-16T19:24:43.238062Z\", \"end_time\": \"2021-02-16T19:25:30.20656Z\", \"created_time\": \"2021-02-16T19:24:30.581771Z\", \"created_time_dt\": \"2021-02-16T19:24:30.581771Z\", \"duration\": \"0:00:59\", \"iteration\": \"19\", \"goal\": \"accuracy_max\", \"run_name\": \"StandardScalerWrapper, XGBoostClassifier\", \"run_properties\": \"<azureml.automl.runtime.shared.model_wrappers.StandardScalerWrapper object at 0x7f09328d3908\", \"primary_metric\": 0.58098812, \"best_metric\": 0.68042527}, {\"run_id\": \"AutoML_e9aad53f-7bea-4914-b08e-406ebc2de6e5_20\", \"run_number\": 25, \"metric\": null, \"status\": \"Completed\", \"run_type\": \"azureml.scriptrun\", \"training_percent\": \"100\", \"start_time\": \"2021-02-16T19:24:48.242256Z\", \"end_time\": \"2021-02-16T19:25:40.484305Z\", \"created_time\": \"2021-02-16T19:24:35.701039Z\", \"created_time_dt\": \"2021-02-16T19:24:35.701039Z\", \"duration\": \"0:01:04\", \"iteration\": \"20\", \"goal\": \"accuracy_max\", \"run_name\": \"MaxAbsScaler, LightGBM\", \"run_properties\": \"copy=True\", \"primary_metric\": 0.6028768, \"best_metric\": 0.68042527}, {\"run_id\": \"AutoML_e9aad53f-7bea-4914-b08e-406ebc2de6e5_21\", \"run_number\": 26, \"metric\": null, \"status\": \"Completed\", \"run_type\": \"azureml.scriptrun\", \"training_percent\": \"100\", \"start_time\": \"2021-02-16T19:25:14.296287Z\", \"end_time\": \"2021-02-16T19:26:11.462224Z\", \"created_time\": \"2021-02-16T19:25:01.37999Z\", \"created_time_dt\": \"2021-02-16T19:25:01.37999Z\", \"duration\": \"0:01:10\", \"iteration\": \"21\", \"goal\": \"accuracy_max\", \"run_name\": \"SparseNormalizer, XGBoostClassifier\", \"run_properties\": \"<azureml.automl.runtime.shared.model_wrappers.SparseNormalizer object at 0x7f5cf66cb588\", \"primary_metric\": 0.60662914, \"best_metric\": 0.68042527}, {\"run_id\": \"AutoML_e9aad53f-7bea-4914-b08e-406ebc2de6e5_22\", \"run_number\": 27, \"metric\": null, \"status\": \"Completed\", \"run_type\": \"azureml.scriptrun\", \"training_percent\": \"100\", \"start_time\": \"2021-02-16T19:25:31.166896Z\", \"end_time\": \"2021-02-16T19:26:38.448241Z\", \"created_time\": \"2021-02-16T19:25:17.932602Z\", \"created_time_dt\": \"2021-02-16T19:25:17.932602Z\", \"duration\": \"0:01:20\", \"iteration\": \"22\", \"goal\": \"accuracy_max\", \"run_name\": \"StandardScalerWrapper, LightGBM\", \"run_properties\": \"<azureml.automl.runtime.shared.model_wrappers.StandardScalerWrapper object at 0x7f32a2d76940\", \"primary_metric\": 0.60412758, \"best_metric\": 0.68042527}, {\"run_id\": \"AutoML_e9aad53f-7bea-4914-b08e-406ebc2de6e5_23\", \"run_number\": 28, \"metric\": null, \"status\": \"Completed\", \"run_type\": \"azureml.scriptrun\", \"training_percent\": \"100\", \"start_time\": \"2021-02-16T19:25:38.888065Z\", \"end_time\": \"2021-02-16T19:27:07.28187Z\", \"created_time\": \"2021-02-16T19:25:25.808376Z\", \"created_time_dt\": \"2021-02-16T19:25:25.808376Z\", \"duration\": \"0:01:41\", \"iteration\": \"23\", \"goal\": \"accuracy_max\", \"run_name\": \"SparseNormalizer, XGBoostClassifier\", \"run_properties\": \"<azureml.automl.runtime.shared.model_wrappers.SparseNormalizer object at 0x7f0607f6af60\", \"primary_metric\": 0.58286429, \"best_metric\": 0.68042527}, {\"run_id\": \"AutoML_e9aad53f-7bea-4914-b08e-406ebc2de6e5_24\", \"run_number\": 29, \"metric\": null, \"status\": \"Completed\", \"run_type\": \"azureml.scriptrun\", \"training_percent\": \"100\", \"start_time\": \"2021-02-16T19:25:48.706635Z\", \"end_time\": \"2021-02-16T19:26:43.083909Z\", \"created_time\": \"2021-02-16T19:25:34.297655Z\", \"created_time_dt\": \"2021-02-16T19:25:34.297655Z\", \"duration\": \"0:01:08\", \"iteration\": \"24\", \"goal\": \"accuracy_max\", \"run_name\": \"SparseNormalizer, XGBoostClassifier\", \"run_properties\": \"<azureml.automl.runtime.shared.model_wrappers.SparseNormalizer object at 0x7fb0acf27b00\", \"primary_metric\": 0.60100063, \"best_metric\": 0.68042527}, {\"run_id\": \"AutoML_e9aad53f-7bea-4914-b08e-406ebc2de6e5_25\", \"run_number\": 30, \"metric\": null, \"status\": \"Failed\", \"run_type\": \"azureml.scriptrun\", \"training_percent\": \"100\", \"start_time\": \"2021-02-16T19:25:45.469819Z\", \"end_time\": \"2021-02-16T19:26:13.726968Z\", \"created_time\": \"2021-02-16T19:25:45.469819Z\", \"created_time_dt\": \"2021-02-16T19:25:45.469819Z\", \"duration\": \"0:00:28\", \"iteration\": \"25\", \"goal\": \"accuracy_max\", \"run_name\": \"SparseNormalizer, XGBoostClassifier\", \"run_properties\": \"<azureml.automl.runtime.shared.model_wrappers.SparseNormalizer object at 0x7f12140f12e8\", \"primary_metric\": 0.42589118, \"best_metric\": 0.68042527}, {\"run_id\": \"AutoML_e9aad53f-7bea-4914-b08e-406ebc2de6e5_26\", \"run_number\": 31, \"metric\": null, \"status\": \"Completed\", \"run_type\": \"azureml.scriptrun\", \"training_percent\": \"100\", \"start_time\": \"2021-02-16T19:27:38.795378Z\", \"end_time\": \"2021-02-16T19:28:27.97231Z\", \"created_time\": \"2021-02-16T19:26:42.100539Z\", \"created_time_dt\": \"2021-02-16T19:26:42.100539Z\", \"duration\": \"0:01:45\", \"iteration\": \"26\", \"goal\": \"accuracy_max\", \"run_name\": \"RobustScaler, ExtremeRandomTrees\", \"run_properties\": \"copy=True, quantile_range=[10, 90], with_centering=False,\\n             with_scaling=False\", \"primary_metric\": 0.37273296, \"best_metric\": 0.68042527}, {\"run_id\": \"AutoML_e9aad53f-7bea-4914-b08e-406ebc2de6e5_28\", \"run_number\": 32, \"metric\": null, \"status\": \"Completed\", \"run_type\": \"azureml.scriptrun\", \"training_percent\": \"100\", \"start_time\": \"2021-02-16T19:26:53.837934Z\", \"end_time\": \"2021-02-16T19:27:45.371603Z\", \"created_time\": \"2021-02-16T19:26:42.11393Z\", \"created_time_dt\": \"2021-02-16T19:26:42.11393Z\", \"duration\": \"0:01:03\", \"iteration\": \"28\", \"goal\": \"accuracy_max\", \"run_name\": \"MaxAbsScaler, ExtremeRandomTrees\", \"run_properties\": \"copy=True\", \"primary_metric\": 0.32833021, \"best_metric\": 0.68042527}, {\"run_id\": \"AutoML_e9aad53f-7bea-4914-b08e-406ebc2de6e5_27\", \"run_number\": 33, \"metric\": null, \"status\": \"Completed\", \"run_type\": \"azureml.scriptrun\", \"training_percent\": \"100\", \"start_time\": \"2021-02-16T19:26:53.727594Z\", \"end_time\": \"2021-02-16T19:27:44.076981Z\", \"created_time\": \"2021-02-16T19:26:42.104613Z\", \"created_time_dt\": \"2021-02-16T19:26:42.104613Z\", \"duration\": \"0:01:01\", \"iteration\": \"27\", \"goal\": \"accuracy_max\", \"run_name\": \"MaxAbsScaler, ExtremeRandomTrees\", \"run_properties\": \"copy=True\", \"primary_metric\": 0.33708568, \"best_metric\": 0.68042527}, {\"run_id\": \"AutoML_e9aad53f-7bea-4914-b08e-406ebc2de6e5_29\", \"run_number\": 34, \"metric\": null, \"status\": \"Completed\", \"run_type\": \"azureml.scriptrun\", \"training_percent\": \"100\", \"start_time\": \"2021-02-16T19:27:34.65766Z\", \"end_time\": \"2021-02-16T19:28:26.748075Z\", \"created_time\": \"2021-02-16T19:27:00.280158Z\", \"created_time_dt\": \"2021-02-16T19:27:00.280158Z\", \"duration\": \"0:01:26\", \"iteration\": \"29\", \"goal\": \"accuracy_max\", \"run_name\": \"SparseNormalizer, RandomForest\", \"run_properties\": \"<azureml.automl.runtime.shared.model_wrappers.SparseNormalizer object at 0x7f0f1c773240\", \"primary_metric\": 0.40587867, \"best_metric\": 0.68042527}, {\"run_id\": \"AutoML_e9aad53f-7bea-4914-b08e-406ebc2de6e5_30\", \"run_number\": 35, \"metric\": null, \"status\": \"Completed\", \"run_type\": \"azureml.scriptrun\", \"training_percent\": \"100\", \"start_time\": \"2021-02-16T19:27:48.144313Z\", \"end_time\": \"2021-02-16T19:28:45.990056Z\", \"created_time\": \"2021-02-16T19:27:27.877483Z\", \"created_time_dt\": \"2021-02-16T19:27:27.877483Z\", \"duration\": \"0:01:18\", \"iteration\": \"30\", \"goal\": \"accuracy_max\", \"run_name\": \"StandardScalerWrapper, XGBoostClassifier\", \"run_properties\": \"<azureml.automl.runtime.shared.model_wrappers.StandardScalerWrapper object at 0x7fdf62ff8438\", \"primary_metric\": 0.61913696, \"best_metric\": 0.68042527}, {\"run_id\": \"AutoML_e9aad53f-7bea-4914-b08e-406ebc2de6e5_31\", \"run_number\": 36, \"metric\": null, \"status\": \"Completed\", \"run_type\": \"azureml.scriptrun\", \"training_percent\": \"100\", \"start_time\": \"2021-02-16T19:27:58.213377Z\", \"end_time\": \"2021-02-16T19:28:47.627949Z\", \"created_time\": \"2021-02-16T19:27:45.918261Z\", \"created_time_dt\": \"2021-02-16T19:27:45.918261Z\", \"duration\": \"0:01:01\", \"iteration\": \"31\", \"goal\": \"accuracy_max\", \"run_name\": \"RobustScaler, KNN\", \"run_properties\": \"copy=True, quantile_range=[10, 90], with_centering=False,\\n             with_scaling=False\", \"primary_metric\": 0.63101939, \"best_metric\": 0.68042527}, {\"run_id\": \"AutoML_e9aad53f-7bea-4914-b08e-406ebc2de6e5_32\", \"run_number\": 37, \"metric\": null, \"status\": \"Completed\", \"run_type\": \"azureml.scriptrun\", \"training_percent\": \"100\", \"start_time\": \"2021-02-16T19:28:00.774083Z\", \"end_time\": \"2021-02-16T19:28:46.962003Z\", \"created_time\": \"2021-02-16T19:27:49.316334Z\", \"created_time_dt\": \"2021-02-16T19:27:49.316334Z\", \"duration\": \"0:00:57\", \"iteration\": \"32\", \"goal\": \"accuracy_max\", \"run_name\": \"StandardScalerWrapper, RandomForest\", \"run_properties\": \"<azureml.automl.runtime.shared.model_wrappers.StandardScalerWrapper object at 0x7f5f45dbc9b0\", \"primary_metric\": 0.60475297, \"best_metric\": 0.68042527}, {\"run_id\": \"AutoML_e9aad53f-7bea-4914-b08e-406ebc2de6e5_33\", \"run_number\": 38, \"metric\": null, \"status\": \"Canceled\", \"run_type\": \"azureml.scriptrun\", \"training_percent\": \"100\", \"start_time\": \"2021-02-16T19:28:40.986234Z\", \"end_time\": \"2021-02-16T19:29:36.384632Z\", \"created_time\": \"2021-02-16T19:28:29.180123Z\", \"created_time_dt\": \"2021-02-16T19:28:29.180123Z\", \"duration\": \"0:01:07\", \"iteration\": \"33\", \"goal\": \"accuracy_max\", \"run_name\": \"RobustScaler, KNN\", \"run_properties\": \"copy=True, quantile_range=[10, 90], with_centering=True,\\n             with_scaling=False\", \"primary_metric\": 0.62664165, \"best_metric\": 0.68042527}, {\"run_id\": \"AutoML_e9aad53f-7bea-4914-b08e-406ebc2de6e5_34\", \"run_number\": 39, \"metric\": null, \"status\": \"Completed\", \"run_type\": \"azureml.scriptrun\", \"training_percent\": \"100\", \"start_time\": \"2021-02-16T19:28:42.52766Z\", \"end_time\": \"2021-02-16T19:29:33.055346Z\", \"created_time\": \"2021-02-16T19:28:32.899473Z\", \"created_time_dt\": \"2021-02-16T19:28:32.899473Z\", \"duration\": \"0:01:00\", \"iteration\": \"34\", \"goal\": \"accuracy_max\", \"run_name\": \"SparseNormalizer, LightGBM\", \"run_properties\": \"<azureml.automl.runtime.shared.model_wrappers.SparseNormalizer object at 0x7f0e4c5955c0\", \"primary_metric\": 0.54346467, \"best_metric\": 0.68042527}, {\"run_id\": \"AutoML_e9aad53f-7bea-4914-b08e-406ebc2de6e5_35\", \"run_number\": 40, \"metric\": null, \"status\": \"Canceled\", \"run_type\": \"azureml.scriptrun\", \"training_percent\": \"100\", \"start_time\": \"2021-02-16T19:29:01.375809Z\", \"end_time\": \"2021-02-16T19:29:41.422966Z\", \"created_time\": \"2021-02-16T19:28:50.337443Z\", \"created_time_dt\": \"2021-02-16T19:28:50.337443Z\", \"duration\": \"0:00:51\", \"iteration\": \"35\", \"goal\": \"accuracy_max\", \"run_name\": \"PCA, XGBoostClassifier\", \"run_properties\": \"copy=True, iterated_power='auto', n_components=0.8015789473684211,\\n    random_state=None, svd_solver='auto', tol=0.0, whiten=False\", \"primary_metric\": 0.48030019, \"best_metric\": 0.68042527}, {\"run_id\": \"AutoML_e9aad53f-7bea-4914-b08e-406ebc2de6e5_36\", \"run_number\": 41, \"metric\": null, \"status\": \"Canceled\", \"run_type\": \"azureml.scriptrun\", \"training_percent\": \"100\", \"start_time\": \"2021-02-16T19:29:01.971215Z\", \"end_time\": \"2021-02-16T19:29:40.958687Z\", \"created_time\": \"2021-02-16T19:28:50.346556Z\", \"created_time_dt\": \"2021-02-16T19:28:50.346556Z\", \"duration\": \"0:00:50\", \"iteration\": \"36\", \"goal\": \"accuracy_max\", \"run_name\": \"SparseNormalizer, XGBoostClassifier\", \"run_properties\": \"<azureml.automl.runtime.shared.model_wrappers.SparseNormalizer object at 0x7fcab1ddda90\", \"primary_metric\": 0.55034396, \"best_metric\": 0.68042527}, {\"run_id\": \"AutoML_e9aad53f-7bea-4914-b08e-406ebc2de6e5_37\", \"run_number\": 42, \"metric\": null, \"status\": \"Canceled\", \"run_type\": \"azureml.scriptrun\", \"training_percent\": \"100\", \"start_time\": \"2021-02-16T19:29:04.718779Z\", \"end_time\": \"2021-02-16T19:29:41.65802Z\", \"created_time\": \"2021-02-16T19:28:53.578485Z\", \"created_time_dt\": \"2021-02-16T19:28:53.578485Z\", \"duration\": \"0:00:48\", \"iteration\": \"37\", \"goal\": \"accuracy_max\", \"run_name\": \"SparseNormalizer, LightGBM\", \"run_properties\": \"<azureml.automl.runtime.shared.model_wrappers.SparseNormalizer object at 0x7effc6606cc0\", \"primary_metric\": 0.59724828, \"best_metric\": 0.68042527}, {\"run_id\": \"AutoML_e9aad53f-7bea-4914-b08e-406ebc2de6e5_38\", \"run_number\": 43, \"metric\": null, \"status\": \"Completed\", \"run_type\": \"azureml.scriptrun\", \"training_percent\": \"100\", \"start_time\": \"2021-02-16T19:29:53.925728Z\", \"end_time\": \"2021-02-16T19:31:21.137403Z\", \"created_time\": \"2021-02-16T19:29:43.202811Z\", \"created_time_dt\": \"2021-02-16T19:29:43.202811Z\", \"duration\": \"0:01:37\", \"iteration\": \"38\", \"goal\": \"accuracy_max\", \"run_name\": \"VotingEnsemble\", \"run_properties\": \"classification_labels=None,\\n                              estimators=[('5',\\n                                           Pipeline(memory=None,\\n                                                    steps=[('standardscalerwrapper',\\n                                                            <azureml.automl.runtime.shared.model_wrappers.StandardScalerWrapper object at 0x7ffb8060c828>\", \"primary_metric\": 0.70231395, \"best_metric\": 0.70231395}, {\"run_id\": \"AutoML_e9aad53f-7bea-4914-b08e-406ebc2de6e5_39\", \"run_number\": 44, \"metric\": null, \"status\": \"Completed\", \"run_type\": \"azureml.scriptrun\", \"training_percent\": \"100\", \"start_time\": \"2021-02-16T19:29:55.52019Z\", \"end_time\": \"2021-02-16T19:31:18.877265Z\", \"created_time\": \"2021-02-16T19:29:43.215785Z\", \"created_time_dt\": \"2021-02-16T19:29:43.215785Z\", \"duration\": \"0:01:35\", \"iteration\": \"39\", \"goal\": \"accuracy_max\", \"run_name\": \"StackEnsemble\", \"run_properties\": \"base_learners=[('5',\\n                                        Pipeline(memory=None,\\n                                                 steps=[('standardscalerwrapper',\\n                                                         <azureml.automl.runtime.shared.model_wrappers.StandardScalerWrapper object at 0x7f8408610240>\", \"primary_metric\": 0.67979987, \"best_metric\": 0.70231395}], \"children_metrics\": {\"categories\": [0], \"series\": {\"average_precision_score_macro\": [{\"categories\": [\"0\", \"1\", \"2\", \"3\", \"4\", \"5\", \"6\", \"7\", \"8\", \"9\", \"10\", \"11\", \"12\", \"13\", \"14\", \"15\", \"16\", \"17\", \"18\", \"19\", \"20\", \"21\", \"22\", \"23\", \"24\", \"25\", \"26\", \"27\", \"28\", \"29\", \"30\", \"31\", \"32\", \"33\", \"34\", \"35\", \"36\", \"37\", \"38\", \"39\"], \"mode\": \"markers\", \"name\": \"average_precision_score_macro\", \"stepped\": false, \"type\": \"scatter\", \"data\": [0.4250608672264615, 0.39055928706042725, 0.37300892118263645, 0.3387579450728413, 0.3627923719884722, 0.43107339820040264, 0.4052045573658598, 0.4351847533988527, 0.366091001841498, 0.3681119834115509, 0.3736630850115992, 0.32155129564259877, 0.4154623181979787, 0.3555170546895337, 0.3858383838354826, 0.3953332663148077, 0.3518677802869854, 0.3827179133557886, 0.3602107166084047, 0.3130039404668958, 0.36930107179290594, 0.380561709957173, 0.3863909262872864, 0.3915078604878319, 0.4006824468930303, 0.16666666666666666, 0.34647905381209226, 0.32308457248577055, 0.32794654082902425, 0.3025328133628136, 0.3608240827525618, 0.4005282016157529, 0.3785805783536212, 0.39988107301297043, 0.31494515513363774, 0.23637102710577426, 0.333523348369158, 0.38524467495181486, 0.44374251545640103, 0.4742437928815049]}, {\"categories\": [\"0\", \"1\", \"2\", \"3\", \"4\", \"5\", \"6\", \"7\", \"8\", \"9\", \"10\", \"11\", \"12\", \"13\", \"14\", \"15\", \"16\", \"17\", \"18\", \"19\", \"20\", \"21\", \"22\", \"23\", \"24\", \"25\", \"26\", \"27\", \"28\", \"29\", \"30\", \"31\", \"32\", \"33\", \"34\", \"35\", \"36\", \"37\", \"38\", \"39\"], \"mode\": \"lines\", \"name\": \"average_precision_score_macro_max\", \"stepped\": true, \"type\": \"scatter\", \"data\": [0.4250608672264615, 0.4250608672264615, 0.4250608672264615, 0.4250608672264615, 0.4250608672264615, 0.43107339820040264, 0.43107339820040264, 0.4351847533988527, 0.4351847533988527, 0.4351847533988527, 0.4351847533988527, 0.4351847533988527, 0.4351847533988527, 0.4351847533988527, 0.4351847533988527, 0.4351847533988527, 0.4351847533988527, 0.4351847533988527, 0.4351847533988527, 0.4351847533988527, 0.4351847533988527, 0.4351847533988527, 0.4351847533988527, 0.4351847533988527, 0.4351847533988527, 0.4351847533988527, 0.4351847533988527, 0.4351847533988527, 0.4351847533988527, 0.4351847533988527, 0.4351847533988527, 0.4351847533988527, 0.4351847533988527, 0.4351847533988527, 0.4351847533988527, 0.4351847533988527, 0.4351847533988527, 0.4351847533988527, 0.44374251545640103, 0.4742437928815049]}], \"average_precision_score_micro\": [{\"categories\": [\"0\", \"1\", \"2\", \"3\", \"4\", \"5\", \"6\", \"7\", \"8\", \"9\", \"10\", \"11\", \"12\", \"13\", \"14\", \"15\", \"16\", \"17\", \"18\", \"19\", \"20\", \"21\", \"22\", \"23\", \"24\", \"25\", \"26\", \"27\", \"28\", \"29\", \"30\", \"31\", \"32\", \"33\", \"34\", \"35\", \"36\", \"37\", \"38\", \"39\"], \"mode\": \"markers\", \"name\": \"average_precision_score_micro\", \"stepped\": false, \"type\": \"scatter\", \"data\": [0.7040628215636255, 0.675612165031518, 0.6452929061117366, 0.6259962925197996, 0.5953326292728562, 0.7161508790738855, 0.675409352274238, 0.7017577099365001, 0.620355238425882, 0.5864278725335409, 0.6183507128166204, 0.5755654233503905, 0.6985238138321838, 0.583041774787973, 0.6456897449062547, 0.6447035601610948, 0.6188255646857308, 0.6446915727956496, 0.6383854925123088, 0.6127054871552243, 0.6529488673354916, 0.6605416509907883, 0.6357533396374025, 0.6313315831192564, 0.6388772363206683, 0.3971318065035175, 0.3843079142555794, 0.338727483170778, 0.3340715535931487, 0.4324881363825075, 0.6419847022377735, 0.7259454599101614, 0.6394161927808729, 0.7239295262707132, 0.5785304582463899, 0.5099302811653502, 0.5879518736661918, 0.6354230265820657, 0.7210811240230887, 0.736467716292832]}, {\"categories\": [\"0\", \"1\", \"2\", \"3\", \"4\", \"5\", \"6\", \"7\", \"8\", \"9\", \"10\", \"11\", \"12\", \"13\", \"14\", \"15\", \"16\", \"17\", \"18\", \"19\", \"20\", \"21\", \"22\", \"23\", \"24\", \"25\", \"26\", \"27\", \"28\", \"29\", \"30\", \"31\", \"32\", \"33\", \"34\", \"35\", \"36\", \"37\", \"38\", \"39\"], \"mode\": \"lines\", \"name\": \"average_precision_score_micro_max\", \"stepped\": true, \"type\": \"scatter\", \"data\": [0.7040628215636255, 0.7040628215636255, 0.7040628215636255, 0.7040628215636255, 0.7040628215636255, 0.7161508790738855, 0.7161508790738855, 0.7161508790738855, 0.7161508790738855, 0.7161508790738855, 0.7161508790738855, 0.7161508790738855, 0.7161508790738855, 0.7161508790738855, 0.7161508790738855, 0.7161508790738855, 0.7161508790738855, 0.7161508790738855, 0.7161508790738855, 0.7161508790738855, 0.7161508790738855, 0.7161508790738855, 0.7161508790738855, 0.7161508790738855, 0.7161508790738855, 0.7161508790738855, 0.7161508790738855, 0.7161508790738855, 0.7161508790738855, 0.7161508790738855, 0.7161508790738855, 0.7259454599101614, 0.7259454599101614, 0.7259454599101614, 0.7259454599101614, 0.7259454599101614, 0.7259454599101614, 0.7259454599101614, 0.7259454599101614, 0.736467716292832]}], \"log_loss\": [{\"categories\": [\"0\", \"1\", \"2\", \"3\", \"4\", \"5\", \"6\", \"7\", \"8\", \"9\", \"10\", \"11\", \"12\", \"13\", \"14\", \"15\", \"16\", \"17\", \"18\", \"19\", \"20\", \"21\", \"22\", \"23\", \"24\", \"25\", \"26\", \"27\", \"28\", \"29\", \"30\", \"31\", \"32\", \"33\", \"34\", \"35\", \"36\", \"37\", \"38\", \"39\"], \"mode\": \"markers\", \"name\": \"log_loss\", \"stepped\": false, \"type\": \"scatter\", \"data\": [0.9924149740427904, 0.9020799331353598, 0.9461225181699965, 0.9777071213756919, 1.1231629184193588, 0.8556555381015087, 0.9201467745047588, 0.8829817055461547, 0.9585914932323117, 1.000673974068224, 0.9683621047185219, 1.0436021558543567, 0.9725325953625483, 1.0296263668071253, 0.9426870292381112, 0.9284961119405347, 1.0175848373490215, 0.9656432939468571, 0.9633014277374157, 1.0841800756351934, 0.9284949926799623, 1.035519275116149, 0.9773305602477939, 1.2504693323473937, 0.9602382966524573, 1.1867300889979688, 1.446815048285216, 1.5443356187549442, 1.541291863788549, 1.4021889395160752, 1.2492149264642278, 2.0530506908951396, 0.9575177357186502, 2.133570246860684, 1.0732619325251562, 1.3653526088904855, 1.3081931253268644, 0.9886680631021566, 0.8836373224667368, 0.8312495412933858]}, {\"categories\": [\"0\", \"1\", \"2\", \"3\", \"4\", \"5\", \"6\", \"7\", \"8\", \"9\", \"10\", \"11\", \"12\", \"13\", \"14\", \"15\", \"16\", \"17\", \"18\", \"19\", \"20\", \"21\", \"22\", \"23\", \"24\", \"25\", \"26\", \"27\", \"28\", \"29\", \"30\", \"31\", \"32\", \"33\", \"34\", \"35\", \"36\", \"37\", \"38\", \"39\"], \"mode\": \"lines\", \"name\": \"log_loss_min\", \"stepped\": true, \"type\": \"scatter\", \"data\": [0.9924149740427904, 0.9020799331353598, 0.9020799331353598, 0.9020799331353598, 0.9020799331353598, 0.8556555381015087, 0.8556555381015087, 0.8556555381015087, 0.8556555381015087, 0.8556555381015087, 0.8556555381015087, 0.8556555381015087, 0.8556555381015087, 0.8556555381015087, 0.8556555381015087, 0.8556555381015087, 0.8556555381015087, 0.8556555381015087, 0.8556555381015087, 0.8556555381015087, 0.8556555381015087, 0.8556555381015087, 0.8556555381015087, 0.8556555381015087, 0.8556555381015087, 0.8556555381015087, 0.8556555381015087, 0.8556555381015087, 0.8556555381015087, 0.8556555381015087, 0.8556555381015087, 0.8556555381015087, 0.8556555381015087, 0.8556555381015087, 0.8556555381015087, 0.8556555381015087, 0.8556555381015087, 0.8556555381015087, 0.8556555381015087, 0.8312495412933858]}], \"accuracy\": [{\"categories\": [\"0\", \"1\", \"2\", \"3\", \"4\", \"5\", \"6\", \"7\", \"8\", \"9\", \"10\", \"11\", \"12\", \"13\", \"14\", \"15\", \"16\", \"17\", \"18\", \"19\", \"20\", \"21\", \"22\", \"23\", \"24\", \"25\", \"26\", \"27\", \"28\", \"29\", \"30\", \"31\", \"32\", \"33\", \"34\", \"35\", \"36\", \"37\", \"38\", \"39\"], \"mode\": \"markers\", \"name\": \"accuracy\", \"stepped\": false, \"type\": \"scatter\", \"data\": [0.6697936210131332, 0.6404002501563477, 0.5991244527829894, 0.5909943714821764, 0.5528455284552846, 0.6804252657911194, 0.6222639149468417, 0.6579111944965604, 0.6116322701688555, 0.592245153220763, 0.5847404627892433, 0.541588492808005, 0.6479049405878675, 0.5422138836772983, 0.6110068792995622, 0.6085053158223891, 0.5966228893058161, 0.6178861788617885, 0.6085053158223891, 0.5809881175734835, 0.6028767979987493, 0.6066291432145091, 0.6041275797373359, 0.5828642901813633, 0.6010006253908693, 0.425891181988743, 0.37273295809881174, 0.33708567854909316, 0.32833020637898686, 0.4058786741713571, 0.6191369606003753, 0.631019387116948, 0.6047529706066291, 0.626641651031895, 0.5434646654158849, 0.4803001876172608, 0.5503439649781113, 0.5972482801751094, 0.7023139462163853, 0.6797998749218261]}, {\"categories\": [\"0\", \"1\", \"2\", \"3\", \"4\", \"5\", \"6\", \"7\", \"8\", \"9\", \"10\", \"11\", \"12\", \"13\", \"14\", \"15\", \"16\", \"17\", \"18\", \"19\", \"20\", \"21\", \"22\", \"23\", \"24\", \"25\", \"26\", \"27\", \"28\", \"29\", \"30\", \"31\", \"32\", \"33\", \"34\", \"35\", \"36\", \"37\", \"38\", \"39\"], \"mode\": \"lines\", \"name\": \"accuracy_max\", \"stepped\": true, \"type\": \"scatter\", \"data\": [0.6697936210131332, 0.6697936210131332, 0.6697936210131332, 0.6697936210131332, 0.6697936210131332, 0.6804252657911194, 0.6804252657911194, 0.6804252657911194, 0.6804252657911194, 0.6804252657911194, 0.6804252657911194, 0.6804252657911194, 0.6804252657911194, 0.6804252657911194, 0.6804252657911194, 0.6804252657911194, 0.6804252657911194, 0.6804252657911194, 0.6804252657911194, 0.6804252657911194, 0.6804252657911194, 0.6804252657911194, 0.6804252657911194, 0.6804252657911194, 0.6804252657911194, 0.6804252657911194, 0.6804252657911194, 0.6804252657911194, 0.6804252657911194, 0.6804252657911194, 0.6804252657911194, 0.6804252657911194, 0.6804252657911194, 0.6804252657911194, 0.6804252657911194, 0.6804252657911194, 0.6804252657911194, 0.6804252657911194, 0.7023139462163853, 0.7023139462163853]}], \"average_precision_score_weighted\": [{\"categories\": [\"0\", \"1\", \"2\", \"3\", \"4\", \"5\", \"6\", \"7\", \"8\", \"9\", \"10\", \"11\", \"12\", \"13\", \"14\", \"15\", \"16\", \"17\", \"18\", \"19\", \"20\", \"21\", \"22\", \"23\", \"24\", \"25\", \"26\", \"27\", \"28\", \"29\", \"30\", \"31\", \"32\", \"33\", \"34\", \"35\", \"36\", \"37\", \"38\", \"39\"], \"mode\": \"markers\", \"name\": \"average_precision_score_weighted\", \"stepped\": false, \"type\": \"scatter\", \"data\": [0.6897981406736372, 0.6540446019592153, 0.6276356526255059, 0.6045290762582188, 0.6215965513526567, 0.69887614009349, 0.662530423458243, 0.6886166785261625, 0.6053978540532022, 0.5755234790463698, 0.5922173142675441, 0.5577489920685771, 0.6864046185267512, 0.5651194220389211, 0.6290990101829762, 0.6273528430880689, 0.6117655842507707, 0.6312695022053437, 0.623676919212358, 0.5910308350004775, 0.635016617040979, 0.6460328837406631, 0.6242551693190678, 0.6190798027650896, 0.6224762498922393, 0.35799931242204613, 0.5588402068124604, 0.5511687512968577, 0.5489385169697182, 0.5208002499538916, 0.6247679206916206, 0.7095185488135841, 0.6271843033064878, 0.7084175442256774, 0.5658491243491134, 0.4720833168403062, 0.5658142307963954, 0.6264380132674762, 0.7111892199548949, 0.7269268797900352]}, {\"categories\": [\"0\", \"1\", \"2\", \"3\", \"4\", \"5\", \"6\", \"7\", \"8\", \"9\", \"10\", \"11\", \"12\", \"13\", \"14\", \"15\", \"16\", \"17\", \"18\", \"19\", \"20\", \"21\", \"22\", \"23\", \"24\", \"25\", \"26\", \"27\", \"28\", \"29\", \"30\", \"31\", \"32\", \"33\", \"34\", \"35\", \"36\", \"37\", \"38\", \"39\"], \"mode\": \"lines\", \"name\": \"average_precision_score_weighted_max\", \"stepped\": true, \"type\": \"scatter\", \"data\": [0.6897981406736372, 0.6897981406736372, 0.6897981406736372, 0.6897981406736372, 0.6897981406736372, 0.69887614009349, 0.69887614009349, 0.69887614009349, 0.69887614009349, 0.69887614009349, 0.69887614009349, 0.69887614009349, 0.69887614009349, 0.69887614009349, 0.69887614009349, 0.69887614009349, 0.69887614009349, 0.69887614009349, 0.69887614009349, 0.69887614009349, 0.69887614009349, 0.69887614009349, 0.69887614009349, 0.69887614009349, 0.69887614009349, 0.69887614009349, 0.69887614009349, 0.69887614009349, 0.69887614009349, 0.69887614009349, 0.69887614009349, 0.7095185488135841, 0.7095185488135841, 0.7095185488135841, 0.7095185488135841, 0.7095185488135841, 0.7095185488135841, 0.7095185488135841, 0.7111892199548949, 0.7269268797900352]}], \"f1_score_micro\": [{\"categories\": [\"0\", \"1\", \"2\", \"3\", \"4\", \"5\", \"6\", \"7\", \"8\", \"9\", \"10\", \"11\", \"12\", \"13\", \"14\", \"15\", \"16\", \"17\", \"18\", \"19\", \"20\", \"21\", \"22\", \"23\", \"24\", \"25\", \"26\", \"27\", \"28\", \"29\", \"30\", \"31\", \"32\", \"33\", \"34\", \"35\", \"36\", \"37\", \"38\", \"39\"], \"mode\": \"markers\", \"name\": \"f1_score_micro\", \"stepped\": false, \"type\": \"scatter\", \"data\": [0.6697936210131332, 0.6404002501563477, 0.5991244527829894, 0.5909943714821764, 0.5528455284552846, 0.6804252657911194, 0.6222639149468417, 0.6579111944965604, 0.6116322701688555, 0.592245153220763, 0.5847404627892433, 0.541588492808005, 0.6479049405878675, 0.5422138836772983, 0.6110068792995622, 0.6085053158223891, 0.5966228893058161, 0.6178861788617885, 0.6085053158223891, 0.5809881175734835, 0.6028767979987493, 0.6066291432145091, 0.6041275797373359, 0.5828642901813633, 0.6010006253908693, 0.425891181988743, 0.37273295809881174, 0.33708567854909316, 0.32833020637898686, 0.4058786741713571, 0.6191369606003753, 0.631019387116948, 0.6047529706066291, 0.626641651031895, 0.5434646654158849, 0.4803001876172608, 0.5503439649781113, 0.5972482801751094, 0.7023139462163853, 0.6797998749218261]}, {\"categories\": [\"0\", \"1\", \"2\", \"3\", \"4\", \"5\", \"6\", \"7\", \"8\", \"9\", \"10\", \"11\", \"12\", \"13\", \"14\", \"15\", \"16\", \"17\", \"18\", \"19\", \"20\", \"21\", \"22\", \"23\", \"24\", \"25\", \"26\", \"27\", \"28\", \"29\", \"30\", \"31\", \"32\", \"33\", \"34\", \"35\", \"36\", \"37\", \"38\", \"39\"], \"mode\": \"lines\", \"name\": \"f1_score_micro_max\", \"stepped\": true, \"type\": \"scatter\", \"data\": [0.6697936210131332, 0.6697936210131332, 0.6697936210131332, 0.6697936210131332, 0.6697936210131332, 0.6804252657911194, 0.6804252657911194, 0.6804252657911194, 0.6804252657911194, 0.6804252657911194, 0.6804252657911194, 0.6804252657911194, 0.6804252657911194, 0.6804252657911194, 0.6804252657911194, 0.6804252657911194, 0.6804252657911194, 0.6804252657911194, 0.6804252657911194, 0.6804252657911194, 0.6804252657911194, 0.6804252657911194, 0.6804252657911194, 0.6804252657911194, 0.6804252657911194, 0.6804252657911194, 0.6804252657911194, 0.6804252657911194, 0.6804252657911194, 0.6804252657911194, 0.6804252657911194, 0.6804252657911194, 0.6804252657911194, 0.6804252657911194, 0.6804252657911194, 0.6804252657911194, 0.6804252657911194, 0.6804252657911194, 0.7023139462163853, 0.7023139462163853]}], \"recall_score_weighted\": [{\"categories\": [\"0\", \"1\", \"2\", \"3\", \"4\", \"5\", \"6\", \"7\", \"8\", \"9\", \"10\", \"11\", \"12\", \"13\", \"14\", \"15\", \"16\", \"17\", \"18\", \"19\", \"20\", \"21\", \"22\", \"23\", \"24\", \"25\", \"26\", \"27\", \"28\", \"29\", \"30\", \"31\", \"32\", \"33\", \"34\", \"35\", \"36\", \"37\", \"38\", \"39\"], \"mode\": \"markers\", \"name\": \"recall_score_weighted\", \"stepped\": false, \"type\": \"scatter\", \"data\": [0.6697936210131332, 0.6404002501563477, 0.5991244527829894, 0.5909943714821764, 0.5528455284552846, 0.6804252657911194, 0.6222639149468417, 0.6579111944965604, 0.6116322701688555, 0.592245153220763, 0.5847404627892433, 0.541588492808005, 0.6479049405878675, 0.5422138836772983, 0.6110068792995622, 0.6085053158223891, 0.5966228893058161, 0.6178861788617885, 0.6085053158223891, 0.5809881175734835, 0.6028767979987493, 0.6066291432145091, 0.6041275797373359, 0.5828642901813633, 0.6010006253908693, 0.425891181988743, 0.37273295809881174, 0.33708567854909316, 0.32833020637898686, 0.4058786741713571, 0.6191369606003753, 0.631019387116948, 0.6047529706066291, 0.626641651031895, 0.5434646654158849, 0.4803001876172608, 0.5503439649781113, 0.5972482801751094, 0.7023139462163853, 0.6797998749218261]}, {\"categories\": [\"0\", \"1\", \"2\", \"3\", \"4\", \"5\", \"6\", \"7\", \"8\", \"9\", \"10\", \"11\", \"12\", \"13\", \"14\", \"15\", \"16\", \"17\", \"18\", \"19\", \"20\", \"21\", \"22\", \"23\", \"24\", \"25\", \"26\", \"27\", \"28\", \"29\", \"30\", \"31\", \"32\", \"33\", \"34\", \"35\", \"36\", \"37\", \"38\", \"39\"], \"mode\": \"lines\", \"name\": \"recall_score_weighted_max\", \"stepped\": true, \"type\": \"scatter\", \"data\": [0.6697936210131332, 0.6697936210131332, 0.6697936210131332, 0.6697936210131332, 0.6697936210131332, 0.6804252657911194, 0.6804252657911194, 0.6804252657911194, 0.6804252657911194, 0.6804252657911194, 0.6804252657911194, 0.6804252657911194, 0.6804252657911194, 0.6804252657911194, 0.6804252657911194, 0.6804252657911194, 0.6804252657911194, 0.6804252657911194, 0.6804252657911194, 0.6804252657911194, 0.6804252657911194, 0.6804252657911194, 0.6804252657911194, 0.6804252657911194, 0.6804252657911194, 0.6804252657911194, 0.6804252657911194, 0.6804252657911194, 0.6804252657911194, 0.6804252657911194, 0.6804252657911194, 0.6804252657911194, 0.6804252657911194, 0.6804252657911194, 0.6804252657911194, 0.6804252657911194, 0.6804252657911194, 0.6804252657911194, 0.7023139462163853, 0.7023139462163853]}], \"precision_score_micro\": [{\"categories\": [\"0\", \"1\", \"2\", \"3\", \"4\", \"5\", \"6\", \"7\", \"8\", \"9\", \"10\", \"11\", \"12\", \"13\", \"14\", \"15\", \"16\", \"17\", \"18\", \"19\", \"20\", \"21\", \"22\", \"23\", \"24\", \"25\", \"26\", \"27\", \"28\", \"29\", \"30\", \"31\", \"32\", \"33\", \"34\", \"35\", \"36\", \"37\", \"38\", \"39\"], \"mode\": \"markers\", \"name\": \"precision_score_micro\", \"stepped\": false, \"type\": \"scatter\", \"data\": [0.6697936210131332, 0.6404002501563477, 0.5991244527829894, 0.5909943714821764, 0.5528455284552846, 0.6804252657911194, 0.6222639149468417, 0.6579111944965604, 0.6116322701688555, 0.592245153220763, 0.5847404627892433, 0.541588492808005, 0.6479049405878675, 0.5422138836772983, 0.6110068792995622, 0.6085053158223891, 0.5966228893058161, 0.6178861788617885, 0.6085053158223891, 0.5809881175734835, 0.6028767979987493, 0.6066291432145091, 0.6041275797373359, 0.5828642901813633, 0.6010006253908693, 0.425891181988743, 0.37273295809881174, 0.33708567854909316, 0.32833020637898686, 0.4058786741713571, 0.6191369606003753, 0.631019387116948, 0.6047529706066291, 0.626641651031895, 0.5434646654158849, 0.4803001876172608, 0.5503439649781113, 0.5972482801751094, 0.7023139462163853, 0.6797998749218261]}, {\"categories\": [\"0\", \"1\", \"2\", \"3\", \"4\", \"5\", \"6\", \"7\", \"8\", \"9\", \"10\", \"11\", \"12\", \"13\", \"14\", \"15\", \"16\", \"17\", \"18\", \"19\", \"20\", \"21\", \"22\", \"23\", \"24\", \"25\", \"26\", \"27\", \"28\", \"29\", \"30\", \"31\", \"32\", \"33\", \"34\", \"35\", \"36\", \"37\", \"38\", \"39\"], \"mode\": \"lines\", \"name\": \"precision_score_micro_max\", \"stepped\": true, \"type\": \"scatter\", \"data\": [0.6697936210131332, 0.6697936210131332, 0.6697936210131332, 0.6697936210131332, 0.6697936210131332, 0.6804252657911194, 0.6804252657911194, 0.6804252657911194, 0.6804252657911194, 0.6804252657911194, 0.6804252657911194, 0.6804252657911194, 0.6804252657911194, 0.6804252657911194, 0.6804252657911194, 0.6804252657911194, 0.6804252657911194, 0.6804252657911194, 0.6804252657911194, 0.6804252657911194, 0.6804252657911194, 0.6804252657911194, 0.6804252657911194, 0.6804252657911194, 0.6804252657911194, 0.6804252657911194, 0.6804252657911194, 0.6804252657911194, 0.6804252657911194, 0.6804252657911194, 0.6804252657911194, 0.6804252657911194, 0.6804252657911194, 0.6804252657911194, 0.6804252657911194, 0.6804252657911194, 0.6804252657911194, 0.6804252657911194, 0.7023139462163853, 0.7023139462163853]}], \"AUC_weighted\": [{\"categories\": [\"0\", \"1\", \"2\", \"3\", \"4\", \"5\", \"6\", \"7\", \"8\", \"9\", \"10\", \"11\", \"12\", \"13\", \"14\", \"15\", \"16\", \"17\", \"18\", \"19\", \"20\", \"21\", \"22\", \"23\", \"24\", \"25\", \"26\", \"27\", \"28\", \"29\", \"30\", \"31\", \"32\", \"33\", \"34\", \"35\", \"36\", \"37\", \"38\", \"39\"], \"mode\": \"markers\", \"name\": \"AUC_weighted\", \"stepped\": false, \"type\": \"scatter\", \"data\": [0.8233161976159064, 0.8002191039815337, 0.7753866629373487, 0.7561399739468153, 0.765989604034515, 0.8282693044180268, 0.7896236101955405, 0.8161978133207161, 0.7724601325923359, 0.7419396837570181, 0.7538591958891101, 0.7079636095894615, 0.802031323849059, 0.7145458513573021, 0.7754041255878726, 0.7749717019797696, 0.7610017484256297, 0.779868461508288, 0.7697248051200699, 0.7470322692328041, 0.7793613443218691, 0.7755435122820682, 0.7717298717926759, 0.7551636625841173, 0.7620567179040396, 0.5, 0.717412725784412, 0.7122282677147461, 0.7089981659511979, 0.6673475084355499, 0.7690382990339749, 0.7963558324714652, 0.7738098762461889, 0.7943003561050098, 0.7160664457463346, 0.6196101186120261, 0.7168771298436646, 0.7653443089697433, 0.8336419901574635, 0.8389999615804059]}, {\"categories\": [\"0\", \"1\", \"2\", \"3\", \"4\", \"5\", \"6\", \"7\", \"8\", \"9\", \"10\", \"11\", \"12\", \"13\", \"14\", \"15\", \"16\", \"17\", \"18\", \"19\", \"20\", \"21\", \"22\", \"23\", \"24\", \"25\", \"26\", \"27\", \"28\", \"29\", \"30\", \"31\", \"32\", \"33\", \"34\", \"35\", \"36\", \"37\", \"38\", \"39\"], \"mode\": \"lines\", \"name\": \"AUC_weighted_max\", \"stepped\": true, \"type\": \"scatter\", \"data\": [0.8233161976159064, 0.8233161976159064, 0.8233161976159064, 0.8233161976159064, 0.8233161976159064, 0.8282693044180268, 0.8282693044180268, 0.8282693044180268, 0.8282693044180268, 0.8282693044180268, 0.8282693044180268, 0.8282693044180268, 0.8282693044180268, 0.8282693044180268, 0.8282693044180268, 0.8282693044180268, 0.8282693044180268, 0.8282693044180268, 0.8282693044180268, 0.8282693044180268, 0.8282693044180268, 0.8282693044180268, 0.8282693044180268, 0.8282693044180268, 0.8282693044180268, 0.8282693044180268, 0.8282693044180268, 0.8282693044180268, 0.8282693044180268, 0.8282693044180268, 0.8282693044180268, 0.8282693044180268, 0.8282693044180268, 0.8282693044180268, 0.8282693044180268, 0.8282693044180268, 0.8282693044180268, 0.8282693044180268, 0.8336419901574635, 0.8389999615804059]}], \"precision_score_macro\": [{\"categories\": [\"0\", \"1\", \"2\", \"3\", \"4\", \"5\", \"6\", \"7\", \"8\", \"9\", \"10\", \"11\", \"12\", \"13\", \"14\", \"15\", \"16\", \"17\", \"18\", \"19\", \"20\", \"21\", \"22\", \"23\", \"24\", \"25\", \"26\", \"27\", \"28\", \"29\", \"30\", \"31\", \"32\", \"33\", \"34\", \"35\", \"36\", \"37\", \"38\", \"39\"], \"mode\": \"markers\", \"name\": \"precision_score_macro\", \"stepped\": false, \"type\": \"scatter\", \"data\": [0.3899344650245374, 0.34356396206784795, 0.29258854033047715, 0.3040208735936753, 0.329000239240605, 0.42114023158477254, 0.32222187292582044, 0.3468615768387388, 0.3072554990484358, 0.3012234687722697, 0.278878712077512, 0.26872931579874754, 0.38029277358524594, 0.39824829480299123, 0.3024915771009485, 0.29387366757120165, 0.32568605054001853, 0.3135780826014774, 0.30894695538727496, 0.2869264491239784, 0.2897484384588701, 0.31006688662696175, 0.3234559544963555, 0.2887513658305332, 0.2985167755173605, 0.07098186366479049, 0.2702201917143676, 0.2762074481424512, 0.27329102341295247, 0.26990919315596335, 0.307282230914818, 0.43590862188167073, 0.36753230600560854, 0.43322539148005984, 0.1817232386372775, 0.23429942702512133, 0.2682132070204341, 0.30835551662972027, 0.4404923749555858, 0.33547355745861734]}, {\"categories\": [\"0\", \"1\", \"2\", \"3\", \"4\", \"5\", \"6\", \"7\", \"8\", \"9\", \"10\", \"11\", \"12\", \"13\", \"14\", \"15\", \"16\", \"17\", \"18\", \"19\", \"20\", \"21\", \"22\", \"23\", \"24\", \"25\", \"26\", \"27\", \"28\", \"29\", \"30\", \"31\", \"32\", \"33\", \"34\", \"35\", \"36\", \"37\", \"38\", \"39\"], \"mode\": \"lines\", \"name\": \"precision_score_macro_max\", \"stepped\": true, \"type\": \"scatter\", \"data\": [0.3899344650245374, 0.3899344650245374, 0.3899344650245374, 0.3899344650245374, 0.3899344650245374, 0.42114023158477254, 0.42114023158477254, 0.42114023158477254, 0.42114023158477254, 0.42114023158477254, 0.42114023158477254, 0.42114023158477254, 0.42114023158477254, 0.42114023158477254, 0.42114023158477254, 0.42114023158477254, 0.42114023158477254, 0.42114023158477254, 0.42114023158477254, 0.42114023158477254, 0.42114023158477254, 0.42114023158477254, 0.42114023158477254, 0.42114023158477254, 0.42114023158477254, 0.42114023158477254, 0.42114023158477254, 0.42114023158477254, 0.42114023158477254, 0.42114023158477254, 0.42114023158477254, 0.43590862188167073, 0.43590862188167073, 0.43590862188167073, 0.43590862188167073, 0.43590862188167073, 0.43590862188167073, 0.43590862188167073, 0.4404923749555858, 0.4404923749555858]}], \"norm_macro_recall\": [{\"categories\": [\"0\", \"1\", \"2\", \"3\", \"4\", \"5\", \"6\", \"7\", \"8\", \"9\", \"10\", \"11\", \"12\", \"13\", \"14\", \"15\", \"16\", \"17\", \"18\", \"19\", \"20\", \"21\", \"22\", \"23\", \"24\", \"25\", \"26\", \"27\", \"28\", \"29\", \"30\", \"31\", \"32\", \"33\", \"34\", \"35\", \"36\", \"37\", \"38\", \"39\"], \"mode\": \"markers\", \"name\": \"norm_macro_recall\", \"stepped\": false, \"type\": \"scatter\", \"data\": [0.23087910470362952, 0.18878425065812243, 0.11479318686989033, 0.1056019175128557, 0.2575817731106986, 0.21743094768386229, 0.15746444923050737, 0.1887267255513471, 0.12421311217547, 0.10362262150731334, 0.09747629689234916, 0.0796065086582885, 0.20133020207223876, 0.10560550153293381, 0.13388506837368697, 0.1389588895564747, 0.10788758933734129, 0.12736191497878221, 0.12560643859605544, 0.09391314671739837, 0.14193608270456537, 0.13695098447154722, 0.112669424166088, 0.1218030013396942, 0.1444912102004744, 0.0, 0.29789242797364746, 0.29835328720910137, 0.2957335724880139, 0.2452231339501524, 0.13729453749662923, 0.18846924070635865, 0.10615332415834033, 0.18694014061124264, 0.06330851801697741, 0.045021728468129775, 0.0807097737377424, 0.11541285981301701, 0.22664248281611243, 0.20064631434742294]}, {\"categories\": [\"0\", \"1\", \"2\", \"3\", \"4\", \"5\", \"6\", \"7\", \"8\", \"9\", \"10\", \"11\", \"12\", \"13\", \"14\", \"15\", \"16\", \"17\", \"18\", \"19\", \"20\", \"21\", \"22\", \"23\", \"24\", \"25\", \"26\", \"27\", \"28\", \"29\", \"30\", \"31\", \"32\", \"33\", \"34\", \"35\", \"36\", \"37\", \"38\", \"39\"], \"mode\": \"lines\", \"name\": \"norm_macro_recall_max\", \"stepped\": true, \"type\": \"scatter\", \"data\": [0.23087910470362952, 0.23087910470362952, 0.23087910470362952, 0.23087910470362952, 0.2575817731106986, 0.2575817731106986, 0.2575817731106986, 0.2575817731106986, 0.2575817731106986, 0.2575817731106986, 0.2575817731106986, 0.2575817731106986, 0.2575817731106986, 0.2575817731106986, 0.2575817731106986, 0.2575817731106986, 0.2575817731106986, 0.2575817731106986, 0.2575817731106986, 0.2575817731106986, 0.2575817731106986, 0.2575817731106986, 0.2575817731106986, 0.2575817731106986, 0.2575817731106986, 0.2575817731106986, 0.29789242797364746, 0.29835328720910137, 0.29835328720910137, 0.29835328720910137, 0.29835328720910137, 0.29835328720910137, 0.29835328720910137, 0.29835328720910137, 0.29835328720910137, 0.29835328720910137, 0.29835328720910137, 0.29835328720910137, 0.29835328720910137, 0.29835328720910137]}], \"balanced_accuracy\": [{\"categories\": [\"0\", \"1\", \"2\", \"3\", \"4\", \"5\", \"6\", \"7\", \"8\", \"9\", \"10\", \"11\", \"12\", \"13\", \"14\", \"15\", \"16\", \"17\", \"18\", \"19\", \"20\", \"21\", \"22\", \"23\", \"24\", \"25\", \"26\", \"27\", \"28\", \"29\", \"30\", \"31\", \"32\", \"33\", \"34\", \"35\", \"36\", \"37\", \"38\", \"39\"], \"mode\": \"markers\", \"name\": \"balanced_accuracy\", \"stepped\": false, \"type\": \"scatter\", \"data\": [0.35906592058635795, 0.32398687554843536, 0.2623276557249086, 0.2546682645940464, 0.38131814425891547, 0.34785912306988526, 0.2978870410254228, 0.3239389379594559, 0.27017759347955833, 0.25301885125609447, 0.2478969140769576, 0.23300542388190706, 0.334441835060199, 0.25467125127744483, 0.27823755697807245, 0.2824657412970622, 0.25657299111445103, 0.27280159581565183, 0.2713386988300462, 0.24492762226449863, 0.2849467355871378, 0.2807924870596226, 0.26055785347174004, 0.2681691677830785, 0.28707600850039533, 0.16666666666666666, 0.41491035664470627, 0.4152944060075845, 0.4131113104066782, 0.37101927829179365, 0.28107878124719105, 0.3237243672552989, 0.25512777013195026, 0.3224501171760355, 0.21942376501414784, 0.20418477372344146, 0.23392481144811864, 0.26284404984418086, 0.35553540234676034, 0.3338719286228525]}, {\"categories\": [\"0\", \"1\", \"2\", \"3\", \"4\", \"5\", \"6\", \"7\", \"8\", \"9\", \"10\", \"11\", \"12\", \"13\", \"14\", \"15\", \"16\", \"17\", \"18\", \"19\", \"20\", \"21\", \"22\", \"23\", \"24\", \"25\", \"26\", \"27\", \"28\", \"29\", \"30\", \"31\", \"32\", \"33\", \"34\", \"35\", \"36\", \"37\", \"38\", \"39\"], \"mode\": \"lines\", \"name\": \"balanced_accuracy_max\", \"stepped\": true, \"type\": \"scatter\", \"data\": [0.35906592058635795, 0.35906592058635795, 0.35906592058635795, 0.35906592058635795, 0.38131814425891547, 0.38131814425891547, 0.38131814425891547, 0.38131814425891547, 0.38131814425891547, 0.38131814425891547, 0.38131814425891547, 0.38131814425891547, 0.38131814425891547, 0.38131814425891547, 0.38131814425891547, 0.38131814425891547, 0.38131814425891547, 0.38131814425891547, 0.38131814425891547, 0.38131814425891547, 0.38131814425891547, 0.38131814425891547, 0.38131814425891547, 0.38131814425891547, 0.38131814425891547, 0.38131814425891547, 0.41491035664470627, 0.4152944060075845, 0.4152944060075845, 0.4152944060075845, 0.4152944060075845, 0.4152944060075845, 0.4152944060075845, 0.4152944060075845, 0.4152944060075845, 0.4152944060075845, 0.4152944060075845, 0.4152944060075845, 0.4152944060075845, 0.4152944060075845]}], \"matthews_correlation\": [{\"categories\": [\"0\", \"1\", \"2\", \"3\", \"4\", \"5\", \"6\", \"7\", \"8\", \"9\", \"10\", \"11\", \"12\", \"13\", \"14\", \"15\", \"16\", \"17\", \"18\", \"19\", \"20\", \"21\", \"22\", \"23\", \"24\", \"25\", \"26\", \"27\", \"28\", \"29\", \"30\", \"31\", \"32\", \"33\", \"34\", \"35\", \"36\", \"37\", \"38\", \"39\"], \"mode\": \"markers\", \"name\": \"matthews_correlation\", \"stepped\": false, \"type\": \"scatter\", \"data\": [0.46903214272579685, 0.4213466121581075, 0.3384142279089963, 0.3228810540147434, 0.35129345315581045, 0.48321192210670283, 0.3859074042546318, 0.4490537641167858, 0.3590033218015412, 0.3217356512477592, 0.31068900224398915, 0.23744916891563536, 0.433096937810864, 0.23999647648809072, 0.3607525982490944, 0.3598949596434305, 0.3306249131852884, 0.3691739465486131, 0.354494940707347, 0.30281218397855736, 0.35545409991127813, 0.35727801138588644, 0.34337405427194695, 0.3160795314599163, 0.35184370772110585, 0.0, 0.19622774046159738, 0.18321566893136695, 0.17324291267646288, 0.18897853249459154, 0.37462131554220063, 0.40222324247585534, 0.3430012174777748, 0.3950409928160939, 0.23264955343983199, 0.13688591315780693, 0.25437598314386584, 0.3334200261597853, 0.5166874147881552, 0.48261247025057125]}, {\"categories\": [\"0\", \"1\", \"2\", \"3\", \"4\", \"5\", \"6\", \"7\", \"8\", \"9\", \"10\", \"11\", \"12\", \"13\", \"14\", \"15\", \"16\", \"17\", \"18\", \"19\", \"20\", \"21\", \"22\", \"23\", \"24\", \"25\", \"26\", \"27\", \"28\", \"29\", \"30\", \"31\", \"32\", \"33\", \"34\", \"35\", \"36\", \"37\", \"38\", \"39\"], \"mode\": \"lines\", \"name\": \"matthews_correlation_max\", \"stepped\": true, \"type\": \"scatter\", \"data\": [0.46903214272579685, 0.46903214272579685, 0.46903214272579685, 0.46903214272579685, 0.46903214272579685, 0.48321192210670283, 0.48321192210670283, 0.48321192210670283, 0.48321192210670283, 0.48321192210670283, 0.48321192210670283, 0.48321192210670283, 0.48321192210670283, 0.48321192210670283, 0.48321192210670283, 0.48321192210670283, 0.48321192210670283, 0.48321192210670283, 0.48321192210670283, 0.48321192210670283, 0.48321192210670283, 0.48321192210670283, 0.48321192210670283, 0.48321192210670283, 0.48321192210670283, 0.48321192210670283, 0.48321192210670283, 0.48321192210670283, 0.48321192210670283, 0.48321192210670283, 0.48321192210670283, 0.48321192210670283, 0.48321192210670283, 0.48321192210670283, 0.48321192210670283, 0.48321192210670283, 0.48321192210670283, 0.48321192210670283, 0.5166874147881552, 0.5166874147881552]}], \"AUC_macro\": [{\"categories\": [\"0\", \"1\", \"2\", \"3\", \"4\", \"5\", \"6\", \"7\", \"8\", \"9\", \"10\", \"11\", \"12\", \"13\", \"14\", \"15\", \"16\", \"17\", \"18\", \"19\", \"20\", \"21\", \"22\", \"23\", \"24\", \"25\", \"26\", \"27\", \"28\", \"29\", \"30\", \"31\", \"32\", \"33\", \"34\", \"35\", \"36\", \"37\", \"38\", \"39\"], \"mode\": \"markers\", \"name\": \"AUC_macro\", \"stepped\": false, \"type\": \"scatter\", \"data\": [0.8291566230276342, 0.8240288076511862, 0.8050928118862218, 0.7911170387881015, 0.8057638784283029, 0.8420952803002292, 0.7861105584608331, 0.8251771565489517, 0.8054095430629659, 0.7870599194091962, 0.8021034003119766, 0.7312203575821831, 0.7870810095237292, 0.7473779674834456, 0.8146890463789704, 0.8258270073526668, 0.792401904948802, 0.8143493832058649, 0.761068036940852, 0.6837994940639397, 0.8105126479161814, 0.7977458362756845, 0.816505604317539, 0.7515028981058943, 0.7725291953832049, 0.5, 0.7933158000476445, 0.7768078563563122, 0.7810387547404668, 0.7089785016510489, 0.7253647421035495, 0.7132249300463714, 0.8310618123519448, 0.7104884165651071, 0.7363184584320077, 0.6260972554193831, 0.7090716387903592, 0.7714844008249817, 0.8550522414442995, 0.8611804307244978]}, {\"categories\": [\"0\", \"1\", \"2\", \"3\", \"4\", \"5\", \"6\", \"7\", \"8\", \"9\", \"10\", \"11\", \"12\", \"13\", \"14\", \"15\", \"16\", \"17\", \"18\", \"19\", \"20\", \"21\", \"22\", \"23\", \"24\", \"25\", \"26\", \"27\", \"28\", \"29\", \"30\", \"31\", \"32\", \"33\", \"34\", \"35\", \"36\", \"37\", \"38\", \"39\"], \"mode\": \"lines\", \"name\": \"AUC_macro_max\", \"stepped\": true, \"type\": \"scatter\", \"data\": [0.8291566230276342, 0.8291566230276342, 0.8291566230276342, 0.8291566230276342, 0.8291566230276342, 0.8420952803002292, 0.8420952803002292, 0.8420952803002292, 0.8420952803002292, 0.8420952803002292, 0.8420952803002292, 0.8420952803002292, 0.8420952803002292, 0.8420952803002292, 0.8420952803002292, 0.8420952803002292, 0.8420952803002292, 0.8420952803002292, 0.8420952803002292, 0.8420952803002292, 0.8420952803002292, 0.8420952803002292, 0.8420952803002292, 0.8420952803002292, 0.8420952803002292, 0.8420952803002292, 0.8420952803002292, 0.8420952803002292, 0.8420952803002292, 0.8420952803002292, 0.8420952803002292, 0.8420952803002292, 0.8420952803002292, 0.8420952803002292, 0.8420952803002292, 0.8420952803002292, 0.8420952803002292, 0.8420952803002292, 0.8550522414442995, 0.8611804307244978]}], \"recall_score_macro\": [{\"categories\": [\"0\", \"1\", \"2\", \"3\", \"4\", \"5\", \"6\", \"7\", \"8\", \"9\", \"10\", \"11\", \"12\", \"13\", \"14\", \"15\", \"16\", \"17\", \"18\", \"19\", \"20\", \"21\", \"22\", \"23\", \"24\", \"25\", \"26\", \"27\", \"28\", \"29\", \"30\", \"31\", \"32\", \"33\", \"34\", \"35\", \"36\", \"37\", \"38\", \"39\"], \"mode\": \"markers\", \"name\": \"recall_score_macro\", \"stepped\": false, \"type\": \"scatter\", \"data\": [0.35906592058635795, 0.32398687554843536, 0.2623276557249086, 0.2546682645940464, 0.38131814425891547, 0.34785912306988526, 0.2978870410254228, 0.3239389379594559, 0.27017759347955833, 0.25301885125609447, 0.2478969140769576, 0.23300542388190706, 0.334441835060199, 0.25467125127744483, 0.27823755697807245, 0.2824657412970622, 0.25657299111445103, 0.27280159581565183, 0.2713386988300462, 0.24492762226449863, 0.2849467355871378, 0.2807924870596226, 0.26055785347174004, 0.2681691677830785, 0.28707600850039533, 0.16666666666666666, 0.41491035664470627, 0.4152944060075845, 0.4131113104066782, 0.37101927829179365, 0.28107878124719105, 0.3237243672552989, 0.25512777013195026, 0.3224501171760355, 0.21942376501414784, 0.20418477372344146, 0.23392481144811864, 0.26284404984418086, 0.35553540234676034, 0.3338719286228525]}, {\"categories\": [\"0\", \"1\", \"2\", \"3\", \"4\", \"5\", \"6\", \"7\", \"8\", \"9\", \"10\", \"11\", \"12\", \"13\", \"14\", \"15\", \"16\", \"17\", \"18\", \"19\", \"20\", \"21\", \"22\", \"23\", \"24\", \"25\", \"26\", \"27\", \"28\", \"29\", \"30\", \"31\", \"32\", \"33\", \"34\", \"35\", \"36\", \"37\", \"38\", \"39\"], \"mode\": \"lines\", \"name\": \"recall_score_macro_max\", \"stepped\": true, \"type\": \"scatter\", \"data\": [0.35906592058635795, 0.35906592058635795, 0.35906592058635795, 0.35906592058635795, 0.38131814425891547, 0.38131814425891547, 0.38131814425891547, 0.38131814425891547, 0.38131814425891547, 0.38131814425891547, 0.38131814425891547, 0.38131814425891547, 0.38131814425891547, 0.38131814425891547, 0.38131814425891547, 0.38131814425891547, 0.38131814425891547, 0.38131814425891547, 0.38131814425891547, 0.38131814425891547, 0.38131814425891547, 0.38131814425891547, 0.38131814425891547, 0.38131814425891547, 0.38131814425891547, 0.38131814425891547, 0.41491035664470627, 0.4152944060075845, 0.4152944060075845, 0.4152944060075845, 0.4152944060075845, 0.4152944060075845, 0.4152944060075845, 0.4152944060075845, 0.4152944060075845, 0.4152944060075845, 0.4152944060075845, 0.4152944060075845, 0.4152944060075845, 0.4152944060075845]}], \"f1_score_macro\": [{\"categories\": [\"0\", \"1\", \"2\", \"3\", \"4\", \"5\", \"6\", \"7\", \"8\", \"9\", \"10\", \"11\", \"12\", \"13\", \"14\", \"15\", \"16\", \"17\", \"18\", \"19\", \"20\", \"21\", \"22\", \"23\", \"24\", \"25\", \"26\", \"27\", \"28\", \"29\", \"30\", \"31\", \"32\", \"33\", \"34\", \"35\", \"36\", \"37\", \"38\", \"39\"], \"mode\": \"markers\", \"name\": \"f1_score_macro\", \"stepped\": false, \"type\": \"scatter\", \"data\": [0.3682395861115119, 0.32839392882011814, 0.2595629369351287, 0.24939507915748682, 0.3387401371040117, 0.3603574849267737, 0.30209365978400293, 0.32373724851494373, 0.26861014811740574, 0.24677171295457812, 0.23993049507511122, 0.22806403643435613, 0.3444357691300191, 0.2619928437428236, 0.27942500709760315, 0.2825350126097338, 0.25168363635438845, 0.2721284818352889, 0.27178382182525257, 0.23511578832878222, 0.2843868129514051, 0.2830596033353577, 0.25666972466099597, 0.26917936429399414, 0.2883458845923866, 0.09951191385135733, 0.23009587825927605, 0.21534235398909526, 0.2015536727831131, 0.2671581993691698, 0.28181687567414465, 0.3386421279019451, 0.2462117183929359, 0.33740396772498443, 0.19835223239340719, 0.19558555655261547, 0.22600607376223236, 0.26119301352643326, 0.3707278327012413, 0.3326234199271784]}, {\"categories\": [\"0\", \"1\", \"2\", \"3\", \"4\", \"5\", \"6\", \"7\", \"8\", \"9\", \"10\", \"11\", \"12\", \"13\", \"14\", \"15\", \"16\", \"17\", \"18\", \"19\", \"20\", \"21\", \"22\", \"23\", \"24\", \"25\", \"26\", \"27\", \"28\", \"29\", \"30\", \"31\", \"32\", \"33\", \"34\", \"35\", \"36\", \"37\", \"38\", \"39\"], \"mode\": \"lines\", \"name\": \"f1_score_macro_max\", \"stepped\": true, \"type\": \"scatter\", \"data\": [0.3682395861115119, 0.3682395861115119, 0.3682395861115119, 0.3682395861115119, 0.3682395861115119, 0.3682395861115119, 0.3682395861115119, 0.3682395861115119, 0.3682395861115119, 0.3682395861115119, 0.3682395861115119, 0.3682395861115119, 0.3682395861115119, 0.3682395861115119, 0.3682395861115119, 0.3682395861115119, 0.3682395861115119, 0.3682395861115119, 0.3682395861115119, 0.3682395861115119, 0.3682395861115119, 0.3682395861115119, 0.3682395861115119, 0.3682395861115119, 0.3682395861115119, 0.3682395861115119, 0.3682395861115119, 0.3682395861115119, 0.3682395861115119, 0.3682395861115119, 0.3682395861115119, 0.3682395861115119, 0.3682395861115119, 0.3682395861115119, 0.3682395861115119, 0.3682395861115119, 0.3682395861115119, 0.3682395861115119, 0.3707278327012413, 0.3707278327012413]}], \"precision_score_weighted\": [{\"categories\": [\"0\", \"1\", \"2\", \"3\", \"4\", \"5\", \"6\", \"7\", \"8\", \"9\", \"10\", \"11\", \"12\", \"13\", \"14\", \"15\", \"16\", \"17\", \"18\", \"19\", \"20\", \"21\", \"22\", \"23\", \"24\", \"25\", \"26\", \"27\", \"28\", \"29\", \"30\", \"31\", \"32\", \"33\", \"34\", \"35\", \"36\", \"37\", \"38\", \"39\"], \"mode\": \"markers\", \"name\": \"precision_score_weighted\", \"stepped\": false, \"type\": \"scatter\", \"data\": [0.6445684463221724, 0.6138517124568071, 0.5687058938670594, 0.5731944141275614, 0.6007826112260607, 0.6537324873689248, 0.5986546286555249, 0.6300245006624569, 0.5832151292487956, 0.5664360637438981, 0.5482828346583185, 0.5153698539737731, 0.6264970651608004, 0.5424144245679047, 0.5800352511650103, 0.5740284608779499, 0.5881777373797223, 0.59219319264501, 0.5835262593750224, 0.5515862047119546, 0.572532687530625, 0.585574164118, 0.5903666118263167, 0.5553594596247361, 0.5741540091788621, 0.1818127417816248, 0.5398144502638863, 0.5547432744505391, 0.5638439524839759, 0.5101903615628482, 0.5882970105474085, 0.6155165311532664, 0.6237929743423237, 0.61051539552364, 0.4519456990802843, 0.4617110447572305, 0.5247683608519371, 0.5750352227820229, 0.676127212572342, 0.6452718758033033]}, {\"categories\": [\"0\", \"1\", \"2\", \"3\", \"4\", \"5\", \"6\", \"7\", \"8\", \"9\", \"10\", \"11\", \"12\", \"13\", \"14\", \"15\", \"16\", \"17\", \"18\", \"19\", \"20\", \"21\", \"22\", \"23\", \"24\", \"25\", \"26\", \"27\", \"28\", \"29\", \"30\", \"31\", \"32\", \"33\", \"34\", \"35\", \"36\", \"37\", \"38\", \"39\"], \"mode\": \"lines\", \"name\": \"precision_score_weighted_max\", \"stepped\": true, \"type\": \"scatter\", \"data\": [0.6445684463221724, 0.6445684463221724, 0.6445684463221724, 0.6445684463221724, 0.6445684463221724, 0.6537324873689248, 0.6537324873689248, 0.6537324873689248, 0.6537324873689248, 0.6537324873689248, 0.6537324873689248, 0.6537324873689248, 0.6537324873689248, 0.6537324873689248, 0.6537324873689248, 0.6537324873689248, 0.6537324873689248, 0.6537324873689248, 0.6537324873689248, 0.6537324873689248, 0.6537324873689248, 0.6537324873689248, 0.6537324873689248, 0.6537324873689248, 0.6537324873689248, 0.6537324873689248, 0.6537324873689248, 0.6537324873689248, 0.6537324873689248, 0.6537324873689248, 0.6537324873689248, 0.6537324873689248, 0.6537324873689248, 0.6537324873689248, 0.6537324873689248, 0.6537324873689248, 0.6537324873689248, 0.6537324873689248, 0.676127212572342, 0.676127212572342]}], \"recall_score_micro\": [{\"categories\": [\"0\", \"1\", \"2\", \"3\", \"4\", \"5\", \"6\", \"7\", \"8\", \"9\", \"10\", \"11\", \"12\", \"13\", \"14\", \"15\", \"16\", \"17\", \"18\", \"19\", \"20\", \"21\", \"22\", \"23\", \"24\", \"25\", \"26\", \"27\", \"28\", \"29\", \"30\", \"31\", \"32\", \"33\", \"34\", \"35\", \"36\", \"37\", \"38\", \"39\"], \"mode\": \"markers\", \"name\": \"recall_score_micro\", \"stepped\": false, \"type\": \"scatter\", \"data\": [0.6697936210131332, 0.6404002501563477, 0.5991244527829894, 0.5909943714821764, 0.5528455284552846, 0.6804252657911194, 0.6222639149468417, 0.6579111944965604, 0.6116322701688555, 0.592245153220763, 0.5847404627892433, 0.541588492808005, 0.6479049405878675, 0.5422138836772983, 0.6110068792995622, 0.6085053158223891, 0.5966228893058161, 0.6178861788617885, 0.6085053158223891, 0.5809881175734835, 0.6028767979987493, 0.6066291432145091, 0.6041275797373359, 0.5828642901813633, 0.6010006253908693, 0.425891181988743, 0.37273295809881174, 0.33708567854909316, 0.32833020637898686, 0.4058786741713571, 0.6191369606003753, 0.631019387116948, 0.6047529706066291, 0.626641651031895, 0.5434646654158849, 0.4803001876172608, 0.5503439649781113, 0.5972482801751094, 0.7023139462163853, 0.6797998749218261]}, {\"categories\": [\"0\", \"1\", \"2\", \"3\", \"4\", \"5\", \"6\", \"7\", \"8\", \"9\", \"10\", \"11\", \"12\", \"13\", \"14\", \"15\", \"16\", \"17\", \"18\", \"19\", \"20\", \"21\", \"22\", \"23\", \"24\", \"25\", \"26\", \"27\", \"28\", \"29\", \"30\", \"31\", \"32\", \"33\", \"34\", \"35\", \"36\", \"37\", \"38\", \"39\"], \"mode\": \"lines\", \"name\": \"recall_score_micro_max\", \"stepped\": true, \"type\": \"scatter\", \"data\": [0.6697936210131332, 0.6697936210131332, 0.6697936210131332, 0.6697936210131332, 0.6697936210131332, 0.6804252657911194, 0.6804252657911194, 0.6804252657911194, 0.6804252657911194, 0.6804252657911194, 0.6804252657911194, 0.6804252657911194, 0.6804252657911194, 0.6804252657911194, 0.6804252657911194, 0.6804252657911194, 0.6804252657911194, 0.6804252657911194, 0.6804252657911194, 0.6804252657911194, 0.6804252657911194, 0.6804252657911194, 0.6804252657911194, 0.6804252657911194, 0.6804252657911194, 0.6804252657911194, 0.6804252657911194, 0.6804252657911194, 0.6804252657911194, 0.6804252657911194, 0.6804252657911194, 0.6804252657911194, 0.6804252657911194, 0.6804252657911194, 0.6804252657911194, 0.6804252657911194, 0.6804252657911194, 0.6804252657911194, 0.7023139462163853, 0.7023139462163853]}], \"AUC_micro\": [{\"categories\": [\"0\", \"1\", \"2\", \"3\", \"4\", \"5\", \"6\", \"7\", \"8\", \"9\", \"10\", \"11\", \"12\", \"13\", \"14\", \"15\", \"16\", \"17\", \"18\", \"19\", \"20\", \"21\", \"22\", \"23\", \"24\", \"25\", \"26\", \"27\", \"28\", \"29\", \"30\", \"31\", \"32\", \"33\", \"34\", \"35\", \"36\", \"37\", \"38\", \"39\"], \"mode\": \"markers\", \"name\": \"AUC_micro\", \"stepped\": false, \"type\": \"scatter\", \"data\": [0.9243523449810915, 0.9168539905921502, 0.9081145931967329, 0.9015672318651315, 0.8868603383681405, 0.9270503257781892, 0.9129948713255353, 0.9217111538989542, 0.9066147111175255, 0.8964702376133301, 0.9020004294428858, 0.8859005452516641, 0.9147865633657059, 0.8878790332137698, 0.908953649501858, 0.9098993625237162, 0.8979371488043068, 0.9067017730359148, 0.9054535726480082, 0.8946823002650578, 0.9107535549305558, 0.9072027897360803, 0.9045174810241393, 0.9000843632335876, 0.9040174029969482, 0.8352720450281425, 0.7785743200194305, 0.747965367660604, 0.7530475778130562, 0.7953166085276093, 0.9034051535492985, 0.9120908119169228, 0.9067942323239079, 0.9108512942540307, 0.8825485440595494, 0.8592793103569655, 0.8867235267821, 0.9011145568231552, 0.9274220402761107, 0.9304419859034786]}, {\"categories\": [\"0\", \"1\", \"2\", \"3\", \"4\", \"5\", \"6\", \"7\", \"8\", \"9\", \"10\", \"11\", \"12\", \"13\", \"14\", \"15\", \"16\", \"17\", \"18\", \"19\", \"20\", \"21\", \"22\", \"23\", \"24\", \"25\", \"26\", \"27\", \"28\", \"29\", \"30\", \"31\", \"32\", \"33\", \"34\", \"35\", \"36\", \"37\", \"38\", \"39\"], \"mode\": \"lines\", \"name\": \"AUC_micro_max\", \"stepped\": true, \"type\": \"scatter\", \"data\": [0.9243523449810915, 0.9243523449810915, 0.9243523449810915, 0.9243523449810915, 0.9243523449810915, 0.9270503257781892, 0.9270503257781892, 0.9270503257781892, 0.9270503257781892, 0.9270503257781892, 0.9270503257781892, 0.9270503257781892, 0.9270503257781892, 0.9270503257781892, 0.9270503257781892, 0.9270503257781892, 0.9270503257781892, 0.9270503257781892, 0.9270503257781892, 0.9270503257781892, 0.9270503257781892, 0.9270503257781892, 0.9270503257781892, 0.9270503257781892, 0.9270503257781892, 0.9270503257781892, 0.9270503257781892, 0.9270503257781892, 0.9270503257781892, 0.9270503257781892, 0.9270503257781892, 0.9270503257781892, 0.9270503257781892, 0.9270503257781892, 0.9270503257781892, 0.9270503257781892, 0.9270503257781892, 0.9270503257781892, 0.9274220402761107, 0.9304419859034786]}], \"weighted_accuracy\": [{\"categories\": [\"0\", \"1\", \"2\", \"3\", \"4\", \"5\", \"6\", \"7\", \"8\", \"9\", \"10\", \"11\", \"12\", \"13\", \"14\", \"15\", \"16\", \"17\", \"18\", \"19\", \"20\", \"21\", \"22\", \"23\", \"24\", \"25\", \"26\", \"27\", \"28\", \"29\", \"30\", \"31\", \"32\", \"33\", \"34\", \"35\", \"36\", \"37\", \"38\", \"39\"], \"mode\": \"markers\", \"name\": \"weighted_accuracy\", \"stepped\": false, \"type\": \"scatter\", \"data\": [0.7210664525540361, 0.6933131763281636, 0.6751067328274741, 0.6696746261661018, 0.5678715502953483, 0.7378490495661262, 0.6809749225238101, 0.7125641099334544, 0.6875161861184124, 0.6730613698136363, 0.6665627847908587, 0.6139736974682518, 0.7000540870846175, 0.616449234185861, 0.6801081390044237, 0.6733023568854285, 0.6763060481989506, 0.6945867674239671, 0.681802406643209, 0.6631379894449402, 0.6621555691918282, 0.6705093317894244, 0.6842218827738032, 0.6460954402141158, 0.6571348044700909, 0.5071887371748361, 0.38570987710541393, 0.3419372626211124, 0.34450162438124216, 0.4104989624560435, 0.6897786907370406, 0.6840175092242943, 0.6895866638752937, 0.6784792487877964, 0.6282959676405803, 0.5440852898719378, 0.6249563549737615, 0.6725511934416964, 0.7640600995797423, 0.7353397768821223]}, {\"categories\": [\"0\", \"1\", \"2\", \"3\", \"4\", \"5\", \"6\", \"7\", \"8\", \"9\", \"10\", \"11\", \"12\", \"13\", \"14\", \"15\", \"16\", \"17\", \"18\", \"19\", \"20\", \"21\", \"22\", \"23\", \"24\", \"25\", \"26\", \"27\", \"28\", \"29\", \"30\", \"31\", \"32\", \"33\", \"34\", \"35\", \"36\", \"37\", \"38\", \"39\"], \"mode\": \"lines\", \"name\": \"weighted_accuracy_max\", \"stepped\": true, \"type\": \"scatter\", \"data\": [0.7210664525540361, 0.7210664525540361, 0.7210664525540361, 0.7210664525540361, 0.7210664525540361, 0.7378490495661262, 0.7378490495661262, 0.7378490495661262, 0.7378490495661262, 0.7378490495661262, 0.7378490495661262, 0.7378490495661262, 0.7378490495661262, 0.7378490495661262, 0.7378490495661262, 0.7378490495661262, 0.7378490495661262, 0.7378490495661262, 0.7378490495661262, 0.7378490495661262, 0.7378490495661262, 0.7378490495661262, 0.7378490495661262, 0.7378490495661262, 0.7378490495661262, 0.7378490495661262, 0.7378490495661262, 0.7378490495661262, 0.7378490495661262, 0.7378490495661262, 0.7378490495661262, 0.7378490495661262, 0.7378490495661262, 0.7378490495661262, 0.7378490495661262, 0.7378490495661262, 0.7378490495661262, 0.7378490495661262, 0.7640600995797423, 0.7640600995797423]}], \"f1_score_weighted\": [{\"categories\": [\"0\", \"1\", \"2\", \"3\", \"4\", \"5\", \"6\", \"7\", \"8\", \"9\", \"10\", \"11\", \"12\", \"13\", \"14\", \"15\", \"16\", \"17\", \"18\", \"19\", \"20\", \"21\", \"22\", \"23\", \"24\", \"25\", \"26\", \"27\", \"28\", \"29\", \"30\", \"31\", \"32\", \"33\", \"34\", \"35\", \"36\", \"37\", \"38\", \"39\"], \"mode\": \"markers\", \"name\": \"f1_score_weighted\", \"stepped\": false, \"type\": \"scatter\", \"data\": [0.6548482976826805, 0.6246899876688815, 0.5680757853336088, 0.5556828227359452, 0.5664103389899603, 0.6623898926543415, 0.6036462185943124, 0.6392430165401647, 0.5808705768540293, 0.5547179461458379, 0.5460196137759933, 0.5088057407460808, 0.6326819399101299, 0.5091279394241692, 0.5855674778944131, 0.5855317921201286, 0.5595805902576882, 0.5868596355170049, 0.5798797039792634, 0.5390978658653737, 0.5846768987817176, 0.5849481147122605, 0.5679637101129188, 0.5602193969917818, 0.582995550551702, 0.25471088086934196, 0.3950441274906739, 0.36332002593891244, 0.3537828891401295, 0.44031448005251367, 0.5922652193884744, 0.6130260419391672, 0.5622215961327875, 0.6089267671048683, 0.4923537457416331, 0.4469405810542702, 0.5146597387370109, 0.5651101735153269, 0.6817800249942959, 0.6598996067764084]}, {\"categories\": [\"0\", \"1\", \"2\", \"3\", \"4\", \"5\", \"6\", \"7\", \"8\", \"9\", \"10\", \"11\", \"12\", \"13\", \"14\", \"15\", \"16\", \"17\", \"18\", \"19\", \"20\", \"21\", \"22\", \"23\", \"24\", \"25\", \"26\", \"27\", \"28\", \"29\", \"30\", \"31\", \"32\", \"33\", \"34\", \"35\", \"36\", \"37\", \"38\", \"39\"], \"mode\": \"lines\", \"name\": \"f1_score_weighted_max\", \"stepped\": true, \"type\": \"scatter\", \"data\": [0.6548482976826805, 0.6548482976826805, 0.6548482976826805, 0.6548482976826805, 0.6548482976826805, 0.6623898926543415, 0.6623898926543415, 0.6623898926543415, 0.6623898926543415, 0.6623898926543415, 0.6623898926543415, 0.6623898926543415, 0.6623898926543415, 0.6623898926543415, 0.6623898926543415, 0.6623898926543415, 0.6623898926543415, 0.6623898926543415, 0.6623898926543415, 0.6623898926543415, 0.6623898926543415, 0.6623898926543415, 0.6623898926543415, 0.6623898926543415, 0.6623898926543415, 0.6623898926543415, 0.6623898926543415, 0.6623898926543415, 0.6623898926543415, 0.6623898926543415, 0.6623898926543415, 0.6623898926543415, 0.6623898926543415, 0.6623898926543415, 0.6623898926543415, 0.6623898926543415, 0.6623898926543415, 0.6623898926543415, 0.6817800249942959, 0.6817800249942959]}]}, \"metricName\": null, \"primaryMetricName\": \"accuracy\", \"showLegend\": false}, \"run_metrics\": [{\"name\": \"experiment_status\", \"run_id\": \"AutoML_e9aad53f-7bea-4914-b08e-406ebc2de6e5\", \"categories\": [0, 1, 2, 3, 4, 5, 6], \"series\": [{\"data\": [\"DatasetEvaluation\", \"FeaturesGeneration\", \"DatasetFeaturization\", \"DatasetFeaturizationCompleted\", \"DatasetBalancing\", \"DatasetCrossValidationSplit\", \"ModelSelection\"]}]}, {\"name\": \"experiment_status_description\", \"run_id\": \"AutoML_e9aad53f-7bea-4914-b08e-406ebc2de6e5\", \"categories\": [0, 1, 2, 3, 4, 5, 6], \"series\": [{\"data\": [\"Gathering dataset statistics.\", \"Generating features for the dataset.\", \"Beginning to fit featurizers and featurize the dataset.\", \"Completed fit featurizers and featurizing the dataset.\", \"Performing class balancing sweeping\", \"Generating individually featurized CV splits.\", \"Beginning model selection.\"]}]}, {\"name\": \"AUC_weighted\", \"run_id\": \"AutoML_e9aad53f-7bea-4914-b08e-406ebc2de6e5\", \"categories\": [0], \"series\": [{\"data\": [0.8336419901574635]}]}, {\"name\": \"precision_score_macro\", \"run_id\": \"AutoML_e9aad53f-7bea-4914-b08e-406ebc2de6e5\", \"categories\": [0], \"series\": [{\"data\": [0.4404923749555858]}]}, {\"name\": \"precision_score_micro\", \"run_id\": \"AutoML_e9aad53f-7bea-4914-b08e-406ebc2de6e5\", \"categories\": [0], \"series\": [{\"data\": [0.7023139462163853]}]}, {\"name\": \"accuracy\", \"run_id\": \"AutoML_e9aad53f-7bea-4914-b08e-406ebc2de6e5\", \"categories\": [0], \"series\": [{\"data\": [0.7023139462163853]}]}, {\"name\": \"recall_score_weighted\", \"run_id\": \"AutoML_e9aad53f-7bea-4914-b08e-406ebc2de6e5\", \"categories\": [0], \"series\": [{\"data\": [0.7023139462163853]}]}, {\"name\": \"average_precision_score_weighted\", \"run_id\": \"AutoML_e9aad53f-7bea-4914-b08e-406ebc2de6e5\", \"categories\": [0], \"series\": [{\"data\": [0.7111892199548949]}]}, {\"name\": \"f1_score_weighted\", \"run_id\": \"AutoML_e9aad53f-7bea-4914-b08e-406ebc2de6e5\", \"categories\": [0], \"series\": [{\"data\": [0.6817800249942959]}]}, {\"name\": \"log_loss\", \"run_id\": \"AutoML_e9aad53f-7bea-4914-b08e-406ebc2de6e5\", \"categories\": [0], \"series\": [{\"data\": [0.8836373224667368]}]}, {\"name\": \"AUC_micro\", \"run_id\": \"AutoML_e9aad53f-7bea-4914-b08e-406ebc2de6e5\", \"categories\": [0], \"series\": [{\"data\": [0.9274220402761107]}]}, {\"name\": \"f1_score_macro\", \"run_id\": \"AutoML_e9aad53f-7bea-4914-b08e-406ebc2de6e5\", \"categories\": [0], \"series\": [{\"data\": [0.3707278327012413]}]}, {\"name\": \"average_precision_score_micro\", \"run_id\": \"AutoML_e9aad53f-7bea-4914-b08e-406ebc2de6e5\", \"categories\": [0], \"series\": [{\"data\": [0.7210811240230887]}]}, {\"name\": \"AUC_macro\", \"run_id\": \"AutoML_e9aad53f-7bea-4914-b08e-406ebc2de6e5\", \"categories\": [0], \"series\": [{\"data\": [0.8550522414442995]}]}, {\"name\": \"precision_score_weighted\", \"run_id\": \"AutoML_e9aad53f-7bea-4914-b08e-406ebc2de6e5\", \"categories\": [0], \"series\": [{\"data\": [0.676127212572342]}]}, {\"name\": \"norm_macro_recall\", \"run_id\": \"AutoML_e9aad53f-7bea-4914-b08e-406ebc2de6e5\", \"categories\": [0], \"series\": [{\"data\": [0.22664248281611243]}]}, {\"name\": \"recall_score_macro\", \"run_id\": \"AutoML_e9aad53f-7bea-4914-b08e-406ebc2de6e5\", \"categories\": [0], \"series\": [{\"data\": [0.35553540234676034]}]}, {\"name\": \"balanced_accuracy\", \"run_id\": \"AutoML_e9aad53f-7bea-4914-b08e-406ebc2de6e5\", \"categories\": [0], \"series\": [{\"data\": [0.35553540234676034]}]}, {\"name\": \"matthews_correlation\", \"run_id\": \"AutoML_e9aad53f-7bea-4914-b08e-406ebc2de6e5\", \"categories\": [0], \"series\": [{\"data\": [0.5166874147881552]}]}, {\"name\": \"f1_score_micro\", \"run_id\": \"AutoML_e9aad53f-7bea-4914-b08e-406ebc2de6e5\", \"categories\": [0], \"series\": [{\"data\": [0.7023139462163853]}]}, {\"name\": \"weighted_accuracy\", \"run_id\": \"AutoML_e9aad53f-7bea-4914-b08e-406ebc2de6e5\", \"categories\": [0], \"series\": [{\"data\": [0.7640600995797423]}]}, {\"name\": \"recall_score_micro\", \"run_id\": \"AutoML_e9aad53f-7bea-4914-b08e-406ebc2de6e5\", \"categories\": [0], \"series\": [{\"data\": [0.7023139462163853]}]}, {\"name\": \"average_precision_score_macro\", \"run_id\": \"AutoML_e9aad53f-7bea-4914-b08e-406ebc2de6e5\", \"categories\": [0], \"series\": [{\"data\": [0.44374251545640103]}]}], \"run_logs\": \"\\nRun is completed.\", \"graph\": {}, \"widget_settings\": {\"childWidgetDisplay\": \"popup\", \"send_telemetry\": false, \"log_level\": \"INFO\", \"sdk_version\": \"1.20.0\"}, \"loading\": false}"
          },
          "metadata": {}
        }
      ],
      "execution_count": 7,
      "metadata": {
        "gather": {
          "logged": 1613165217940
        },
        "jupyter": {
          "outputs_hidden": false,
          "source_hidden": false
        },
        "nteract": {
          "transient": {
            "deleting": false
          }
        },
        "scrolled": true
      }
    },
    {
      "cell_type": "markdown",
      "source": [
        "Different models perform differently in regard to primary metric chosen. AutoML calculates performance metrics, based on the scikit learn implementation for each classification model generated for experiment. Common consideration with all models is class imbalance. Models that are more sensitive to class imbalance show less accuracy."
      ],
      "metadata": {}
    },
    {
      "cell_type": "markdown",
      "source": [
        "## Best Model\n",
        "\n",
        "The following cell contains the code to get the best model from AutoML experiments and displays properties of the model. Then we save the best model."
      ],
      "metadata": {}
    },
    {
      "cell_type": "code",
      "source": [
        "# Retrieve and save your best automl model.\n",
        "# attribution, November 2020, https://docs.microsoft.com/en-us/azure/machine-learning/how-to-deploy-and-where?tabs=python\n",
        "#\n",
        "best_run, fitted_model = remote_run.get_output()\n",
        "print(best_run)\n",
        "print(fitted_model)"
      ],
      "outputs": [
        {
          "output_type": "stream",
          "name": "stderr",
          "text": [
            "WARNING:root:The version of the SDK does not match the version the model was trained on.\n",
            "WARNING:root:The consistency in the result may not be guaranteed.\n",
            "WARNING:root:Package:azureml-automl-core, training version:1.21.0, current version:1.20.0\n",
            "Package:azureml-automl-runtime, training version:1.21.0, current version:1.20.0\n",
            "Package:azureml-core, training version:1.21.0.post1, current version:1.20.0\n",
            "Package:azureml-dataprep, training version:2.8.2, current version:2.7.3\n",
            "Package:azureml-dataprep-native, training version:28.0.0, current version:27.0.0\n",
            "Package:azureml-dataprep-rslex, training version:1.6.0, current version:1.5.0\n",
            "Package:azureml-dataset-runtime, training version:1.21.0, current version:1.20.0\n",
            "Package:azureml-defaults, training version:1.21.0, current version:1.20.0\n",
            "Package:azureml-interpret, training version:1.21.0, current version:1.20.0\n",
            "Package:azureml-pipeline-core, training version:1.21.0, current version:1.20.0\n",
            "Package:azureml-telemetry, training version:1.21.0, current version:1.20.0\n",
            "Package:azureml-train-automl-client, training version:1.21.0, current version:1.20.0\n",
            "Package:azureml-train-automl-runtime, training version:1.21.0, current version:1.20.0\n",
            "WARNING:root:Please ensure the version of your local conda dependencies match the version on which your model was trained in order to properly retrieve your model.\n"
          ]
        },
        {
          "output_type": "stream",
          "name": "stdout",
          "text": [
            "Run(Experiment: wine-quality-automl-experiment,\n",
            "Id: AutoML_e9aad53f-7bea-4914-b08e-406ebc2de6e5_38,\n",
            "Type: azureml.scriptrun,\n",
            "Status: Completed)\n",
            "Pipeline(memory=None,\n",
            "         steps=[('datatransformer',\n",
            "                 DataTransformer(enable_dnn=None, enable_feature_sweeping=None,\n",
            "                                 feature_sweeping_config=None,\n",
            "                                 feature_sweeping_timeout=None,\n",
            "                                 featurization_config=None, force_text_dnn=None,\n",
            "                                 is_cross_validation=None,\n",
            "                                 is_onnx_compatible=None, logger=None,\n",
            "                                 observer=None, task=None, working_dir=None)),\n",
            "                ('prefittedsoftvotingclassifier',...\n",
            "                                                                                                random_state=None,\n",
            "                                                                                                reg_alpha=0,\n",
            "                                                                                                reg_lambda=0.42105263157894735,\n",
            "                                                                                                silent=True,\n",
            "                                                                                                subsample=1,\n",
            "                                                                                                subsample_for_bin=200000,\n",
            "                                                                                                subsample_freq=0,\n",
            "                                                                                                verbose=-10))],\n",
            "                                                                     verbose=False))],\n",
            "                                               flatten_transform=None,\n",
            "                                               weights=[0.2222222222222222,\n",
            "                                                        0.1111111111111111,\n",
            "                                                        0.1111111111111111,\n",
            "                                                        0.1111111111111111,\n",
            "                                                        0.1111111111111111,\n",
            "                                                        0.1111111111111111,\n",
            "                                                        0.1111111111111111,\n",
            "                                                        0.1111111111111111]))],\n",
            "         verbose=False)\n"
          ]
        }
      ],
      "execution_count": 8,
      "metadata": {
        "gather": {
          "logged": 1613166551605
        },
        "jupyter": {
          "outputs_hidden": false,
          "source_hidden": false
        },
        "nteract": {
          "transient": {
            "deleting": false
          }
        },
        "scrolled": false
      }
    },
    {
      "cell_type": "markdown",
      "source": [
        "The result of AutoML run was VotingEnsemble model which is a combined performance of best performing models from AutoML experiment run. The ensemble was created from previous AutoML iterations with soft voting. The VotingEnsemble consists of ['XGBoostClassifier', 'KNN', 'LightGBM', 'XGBoostClassifier', 'XGBoostClassifier', 'LightGBM', 'LightGBM', 'XGBoostClassifier', 'LightGBM', 'SVM', 'ExtremeRandomTrees', 'LightGBM'] algorithms, which are top twelve models rated by accuracy. The AutoML Voting Ensemble selected parameters read from azureml-logs:\n",
        "\n",
        "- 'ensemble_iterations': 35, 27, 0, 50, 1, 39, 44, 45, 8, 7, 28, 31\n",
        "- 'training_type': 'MeanCrossValidation'\n",
        "- 'goal': 'accuracy_max'\n",
        "- 'primary_metric': 'accuracy'\n",
        "\n",
        "Other AutoML parameters were mostly default values. The detailed list of parameters can also be obtained from Raw JSON file located under \"See all properties\" of Details blade of the AutoML experiment. "
      ],
      "metadata": {}
    },
    {
      "cell_type": "code",
      "source": [
        "# Save the best model\n",
        "# Example of approach at https://benalexkeen.com/using-azure-automl-and-aml-for-assessing-multiple-models-and-deployment/\n",
        "# folder 'outputs' must be present\n",
        "#\n",
        "from sklearn.externals import joblib\n",
        "\n",
        "model_path = 'outputs/automl-wine-quality-model.pkl'\n",
        "joblib.dump(fitted_model, model_path)"
      ],
      "outputs": [
        {
          "output_type": "execute_result",
          "execution_count": 9,
          "data": {
            "text/plain": "['outputs/automl-wine-quality-model.pkl']"
          },
          "metadata": {}
        }
      ],
      "execution_count": 9,
      "metadata": {
        "gather": {
          "logged": 1613166552265
        },
        "jupyter": {
          "outputs_hidden": false,
          "source_hidden": false
        },
        "nteract": {
          "transient": {
            "deleting": false
          }
        }
      }
    },
    {
      "cell_type": "markdown",
      "source": [
        "Screenshot of the best model with its run id:\n",
        "\n",
        "![](https://github.com/DivkovicD/ML-Engineer-w-MS-Azure/blob/master/Screenshots/Screenshot%20of%20the%20best%20model%20AutoML%20with%20its%20run%20id.png?raw=true)"
      ],
      "metadata": {}
    },
    {
      "cell_type": "code",
      "source": [
        "# Download training environment in order to repeat the experiment\n",
        "#\n",
        "from azureml.core.environment import Environment\n",
        "from azureml.automl.core.shared import constants\n",
        "best_run.download_file(constants.CONDA_ENV_FILE_PATH, 'environment.yml')\n",
        "environment = Environment.from_conda_specification(name=\"environment\", file_path=\"environment.yml\")\n",
        "print(environment)"
      ],
      "outputs": [
        {
          "output_type": "stream",
          "name": "stdout",
          "text": [
            "Environment(Name: environment,\n",
            "Version: None)\n"
          ]
        }
      ],
      "execution_count": 10,
      "metadata": {}
    },
    {
      "cell_type": "markdown",
      "source": [
        "## Model Deployment\n",
        "\n",
        "The result of AutoML run was VotingEnsemble model which achieved higher accuracy in comparison with Hyperparameter tuning approach. The result of VotingEnsemble model is a combined performance of best performing models from AutoML experiment run. Therefore we decide to deploy this model, so the next cell contains the code to register the model, create an inference config and deploy the model as a web service."
      ],
      "metadata": {}
    },
    {
      "cell_type": "code",
      "source": [
        "# Register the best model that was previously saved\n",
        "#\n",
        "from azureml.core.model import Model\n",
        "from azureml.core.model import InferenceConfig\n",
        "from azureml.core.webservice import AciWebservice, Webservice\n",
        "from azureml.core.run import Run\n",
        "\n",
        "model = Model.register(model_path = \"outputs/automl-wine-quality-model.pkl\",\n",
        "                       model_name = \"automl-wine-quality-model\",\n",
        "                       tags = {\"VotingEnsemble\": \"1.0\"},\n",
        "                       description = \"AutoML model for prediction of wine quality\",\n",
        "                       workspace = ws)\n",
        "\n",
        "print(model.name, model.id, model.version, sep = '\\n')\n"
      ],
      "outputs": [
        {
          "output_type": "stream",
          "name": "stdout",
          "text": [
            "Registering model automl-wine-quality-model\n",
            "automl-wine-quality-model\n",
            "automl-wine-quality-model:1\n",
            "1\n"
          ]
        }
      ],
      "execution_count": 11,
      "metadata": {}
    },
    {
      "cell_type": "code",
      "source": [
        "# Define inference configuration\n",
        "#\n",
        "from azureml.core.environment import Environment\n",
        "from azureml.core.model import InferenceConfig\n",
        "\n",
        "\n",
        "env = Environment.get(ws, \"AzureML-AutoML\")\n",
        "# Instead of using environment file, we will be using preconfigured environment\n",
        "\n",
        "for pip_package in [\"scikit-learn\"]:\n",
        "    env.python.conda_dependencies.add_pip_package(pip_package)\n",
        "\n",
        "inference_config = InferenceConfig(entry_script='scoring2.py',\n",
        "                                    environment=env)"
      ],
      "outputs": [],
      "execution_count": 12,
      "metadata": {}
    },
    {
      "cell_type": "code",
      "source": [
        "# Setting deployment configuration\n",
        "#\n",
        "deployment_config = AciWebservice.deploy_configuration(cpu_cores = 1, memory_gb = 1)\n",
        "\n",
        "# Provide model, inference, deployment configuration, web service name and location to deploy the model\n",
        "service = Model.deploy(\n",
        "    workspace = ws,\n",
        "    name = \"wine-quality-web-service\",\n",
        "    models = [model],\n",
        "    inference_config = inference_config,\n",
        "    deployment_config = deployment_config)\n",
        "\n",
        "\n",
        "service.wait_for_deployment(show_output=True)\n",
        "# Record and use the following output for interaction with deployed service\n",
        "print(service.scoring_uri)"
      ],
      "outputs": [
        {
          "output_type": "stream",
          "name": "stdout",
          "text": [
            "Tips: You can try get_logs(): https://aka.ms/debugimage#dockerlog or local deployment: https://aka.ms/debugimage#debug-locally to debug if deployment takes longer than 10 minutes.\n",
            "Running.........................................\n",
            "Succeeded\n",
            "ACI service creation operation finished, operation \"Succeeded\"\n",
            "http://bce1965c-b7a1-42c5-9a6a-f9c94d225770.southcentralus.azurecontainer.io/score\n"
          ]
        }
      ],
      "execution_count": 23,
      "metadata": {}
    },
    {
      "cell_type": "markdown",
      "source": [
        "A screenshot showing the model endpoint as active:\n",
        "\n",
        "![](https://github.com/DivkovicD/ML-Engineer-w-MS-Azure/blob/master/Screenshots/Screenshot%20showing%20model%20endpoint%20as%20active%20-%204%20automl%20notebook.png?raw=true)"
      ],
      "metadata": {}
    },
    {
      "cell_type": "code",
      "source": [
        "# Comment lines below for disabling Application Inisghts and run the cell\n",
        "# in this case it is necessary to use Python script score-w-appinsig.py instead of scoring2.py\n",
        "service.update(enable_app_insights=True)\n",
        "service.wait_for_deployment(show_output=True)"
      ],
      "outputs": [
        {
          "output_type": "stream",
          "name": "stdout",
          "text": [
            "Tips: You can try get_logs(): https://aka.ms/debugimage#dockerlog or local deployment: https://aka.ms/debugimage#debug-locally to debug if deployment takes longer than 10 minutes.\n",
            "Running....\n",
            "Succeeded\n",
            "ACI service creation operation finished, operation \"Succeeded\"\n"
          ]
        }
      ],
      "execution_count": 25,
      "metadata": {}
    },
    {
      "cell_type": "markdown",
      "source": [
        "The cell below contains the code that sends a request to deployed web service. There are several ways to do it. The first demonstrates simple JSON formating without error catching, the second contains the sample code from Consume blade of deployed model, and third shows how could it be done via `curl` command¸."
      ],
      "metadata": {
        "collapsed": true,
        "gather": {
          "logged": 1598431657736
        },
        "jupyter": {
          "outputs_hidden": false,
          "source_hidden": false
        },
        "nteract": {
          "transient": {
            "deleting": false
          }
        }
      }
    },
    {
      "cell_type": "code",
      "source": [
        "import requests\n",
        "import json\n",
        "from ast import literal_eval\n",
        "    \n",
        "# URL for the web service from scoring_uri of the deployed model\n",
        "scoring_uri = 'http://bce1965c-b7a1-42c5-9a6a-f9c94d225770.southcentralus.azurecontainer.io/score'\n",
        "## If the service is authenticated, set the key or token and uncomment the line below\n",
        "# key = '<your key or token>'\n",
        "    \n",
        "# Two sets of data to score, two results back\n",
        "data = {\"data\":\n",
        "        [\n",
        "            {\"fixed acidity\": 7.4,\n",
        "             \"volatile acidity\": 0.7,\n",
        "             \"citric acid\": 0,\n",
        "             \"residual sugar\": 1.9,\n",
        "             \"chlorides\": 0.076,\n",
        "             \"free sulfur dioxide\": 11,\n",
        "             \"total sulfur dioxide\": 34,\n",
        "             \"density\": 0.9978,\n",
        "             \"pH\": 3.51,\n",
        "             \"sulphates\": 0.56,\n",
        "             \"alcohol\": 9.4\n",
        "          },\n",
        "            {\"fixed acidity\": 11.2,\n",
        "             \"volatile acidity\": 0.28,\n",
        "             \"citric acid\": 0.56,\n",
        "             \"residual sugar\": 1.9,\n",
        "             \"chlorides\": 0.075,\n",
        "             \"free sulfur dioxide\": 17,\n",
        "             \"total sulfur dioxide\": 60,\n",
        "             \"density\": 0.998,\n",
        "             \"pH\": 3.16,\n",
        "             \"sulphates\": 0.58,\n",
        "             \"alcohol\": 9.4\n",
        "          }\n",
        "        ]\n",
        "     }\n",
        "\n",
        "# Convert to JSON string\n",
        "input_data = json.dumps(data)\n",
        "    \n",
        "# Set appropriate content type\n",
        "headers = {'Content-Type': 'application/json'}\n",
        "## Note: If authentication is enabled, set the authorization header, by uncommenting the next line of code\n",
        "# headers['Authorization'] = f'Bearer {key}'\n",
        "    \n",
        "# Post the formated request and display the response\n",
        "response = requests.post(scoring_uri, input_data, headers=headers)\n",
        "print(response.text)\n",
        "# And alterntive way to display result    \n",
        "result = literal_eval(response.text)\n",
        "print (result)"
      ],
      "outputs": [
        {
          "output_type": "stream",
          "name": "stdout",
          "text": [
            "[5, 6]\n",
            "[5, 6]\n"
          ]
        }
      ],
      "execution_count": 26,
      "metadata": {
        "gather": {
          "logged": 1613169567929
        },
        "scrolled": true
      }
    },
    {
      "cell_type": "code",
      "source": [
        "# Taken from Consume blade of deployed model\n",
        "#\n",
        "import urllib.request\n",
        "import json\n",
        "import os\n",
        "import ssl\n",
        "\n",
        "def allowSelfSignedHttps(allowed):\n",
        "    # bypass the server certificate verification on client side\n",
        "    if allowed and not os.environ.get('PYTHONHTTPSVERIFY', '') and getattr(ssl, '_create_unverified_context', None):\n",
        "        ssl._create_default_https_context = ssl._create_unverified_context\n",
        "\n",
        "allowSelfSignedHttps(True) # this line is needed if you use self-signed certificate in your scoring service.\n",
        "\n",
        "data = {\n",
        "    \"data\":\n",
        "    [\n",
        "        {\n",
        "            'fixed acidity': 7.4,\n",
        "            'fixed acidity': 7.4,\n",
        "            'volatile acidity': 0.7,\n",
        "            'citric acid': 0,\n",
        "            'residual sugar': 1.9,\n",
        "            'chlorides': 0.076,\n",
        "            'free sulfur dioxide': 11,\n",
        "            'total sulfur dioxide': 34,\n",
        "            'density': 0.9978,\n",
        "            'pH': 3.51,\n",
        "            'sulphates': 0.56,\n",
        "            'alcohol': 9.4\n",
        "        },\n",
        "    ]\n",
        "}\n",
        "print(data)\n",
        "body = str.encode(json.dumps(data))\n",
        "print(body)\n",
        "url = 'http://bce1965c-b7a1-42c5-9a6a-f9c94d225770.southcentralus.azurecontainer.io/score'\n",
        "api_key = '' # Replace this with the API key for the web service and uncomment the following line, while commenting the next one\n",
        "# headers = {'Content-Type':'application/json', 'Authorization':('Bearer '+ api_key)}\n",
        "headers = {'Content-Type':'application/json'}\n",
        "\n",
        "req = urllib.request.Request(url, body, headers)\n",
        "\n",
        "try:\n",
        "    response = urllib.request.urlopen(req)\n",
        "\n",
        "    result = response.read()\n",
        "    print(result)\n",
        "except urllib.error.HTTPError as error:\n",
        "    print(\"The request failed with status code: \" + str(error.code))\n",
        "\n",
        "    # Print the headers - they include the requert ID and the timestamp, which are useful for debugging the failure\n",
        "    print(error.info())\n",
        "    print(json.loads(error.read().decode(\"utf8\", 'ignore')))"
      ],
      "outputs": [
        {
          "output_type": "stream",
          "name": "stdout",
          "text": [
            "{'data': [{'fixed acidity': 7.4, 'volatile acidity': 0.7, 'citric acid': 0, 'residual sugar': 1.9, 'chlorides': 0.076, 'free sulfur dioxide': 11, 'total sulfur dioxide': 34, 'density': 0.9978, 'pH': 3.51, 'sulphates': 0.56, 'alcohol': 9.4}]}\n",
            "b'{\"data\": [{\"fixed acidity\": 7.4, \"volatile acidity\": 0.7, \"citric acid\": 0, \"residual sugar\": 1.9, \"chlorides\": 0.076, \"free sulfur dioxide\": 11, \"total sulfur dioxide\": 34, \"density\": 0.9978, \"pH\": 3.51, \"sulphates\": 0.56, \"alcohol\": 9.4}]}'\n",
            "b'[5]'\n"
          ]
        }
      ],
      "execution_count": 15,
      "metadata": {}
    },
    {
      "cell_type": "code",
      "source": [
        "# Substitute the last line of the cell with scoring_uri for interaction with deployed service\n",
        "#\n",
        "from azureml.core.authentication import InteractiveLoginAuthentication\n",
        "\n",
        "interactive_auth = InteractiveLoginAuthentication()\n",
        "auth_header = interactive_auth.get_authentication_header()\n",
        "\n",
        "!curl -X POST \\\n",
        "    -H 'Content-Type':'application/json' \\\n",
        "    -d '{\"data\":[{\"fixed acidity\": 7.4, \"volatile acidity\": 0.7, \\\n",
        "        \"citric acid\": 0, \"residual sugar\": 1.9, \"chlorides\": 0.076, \"free sulfur dioxide\": 11, \\\n",
        "        \"total sulfur dioxide\": 34, \"density\": 0.9978, \"pH\": 3.51, \"sulphates\": 0.56, \"alcohol\": 9.4}]}' \\\n",
        "    http://bce1965c-b7a1-42c5-9a6a-f9c94d225770.southcentralus.azurecontainer.io/score"
      ],
      "outputs": [
        {
          "output_type": "stream",
          "name": "stdout",
          "text": [
            "[5]"
          ]
        }
      ],
      "execution_count": 16,
      "metadata": {
        "gather": {
          "logged": 1613168320796
        },
        "jupyter": {
          "outputs_hidden": false,
          "source_hidden": false
        },
        "nteract": {
          "transient": {
            "deleting": false
          }
        }
      }
    },
    {
      "cell_type": "markdown",
      "source": [
        "The following cell prints out web service logs, deletes the service and comupte target, therefore releasing the resources in order to economize with them."
      ],
      "metadata": {
        "collapsed": true,
        "gather": {
          "logged": 1598432765711
        },
        "jupyter": {
          "outputs_hidden": false,
          "source_hidden": false
        },
        "nteract": {
          "transient": {
            "deleting": false
          }
        }
      }
    },
    {
      "cell_type": "code",
      "source": [
        "# Get logs and release resources\n",
        "#\n",
        "print(service.get_logs())\n",
        "service.delete()\n",
        "compute_target.delete()"
      ],
      "outputs": [
        {
          "output_type": "stream",
          "name": "stdout",
          "text": [
            "2021-02-16T11:38:16,137168988+00:00 - gunicorn/run \n",
            "2021-02-16T11:38:16,137460291+00:00 - rsyslog/run \n",
            "2021-02-16T11:38:16,138593903+00:00 - iot-server/run \n",
            "/usr/sbin/nginx: /azureml-envs/azureml_09ff55f546b313bb1ab136a466214499/lib/libcrypto.so.1.0.0: no version information available (required by /usr/sbin/nginx)\n",
            "/usr/sbin/nginx: /azureml-envs/azureml_09ff55f546b313bb1ab136a466214499/lib/libcrypto.so.1.0.0: no version information available (required by /usr/sbin/nginx)\n",
            "/usr/sbin/nginx: /azureml-envs/azureml_09ff55f546b313bb1ab136a466214499/lib/libssl.so.1.0.0: no version information available (required by /usr/sbin/nginx)\n",
            "/usr/sbin/nginx: /azureml-envs/azureml_09ff55f546b313bb1ab136a466214499/lib/libssl.so.1.0.0: no version information available (required by /usr/sbin/nginx)\n",
            "/usr/sbin/nginx: /azureml-envs/azureml_09ff55f546b313bb1ab136a466214499/lib/libssl.so.1.0.0: no version information available (required by /usr/sbin/nginx)\n",
            "2021-02-16T11:38:16,139008608+00:00 - nginx/run \n",
            "rsyslogd: /azureml-envs/azureml_09ff55f546b313bb1ab136a466214499/lib/libuuid.so.1: no version information available (required by rsyslogd)\n",
            "EdgeHubConnectionString and IOTEDGE_IOTHUBHOSTNAME are not set. Exiting...\n",
            "2021-02-16T11:38:16,311787262+00:00 - iot-server/finish 1 0\n",
            "2021-02-16T11:38:16,313224077+00:00 - Exit code 1 is normal. Not restarting iot-server.\n",
            "Starting gunicorn 19.9.0\n",
            "Listening at: http://127.0.0.1:31311 (11)\n",
            "Using worker: sync\n",
            "worker timeout is set to 300\n",
            "Booting worker with pid: 41\n",
            "SPARK_HOME not set. Skipping PySpark Initialization.\n",
            "Generating new fontManager, this may take some time...\n",
            "Initializing logger\n",
            "2021-02-16 11:38:18,718 | root | INFO | Starting up app insights client\n",
            "2021-02-16 11:38:18,719 | root | INFO | Starting up request id generator\n",
            "2021-02-16 11:38:18,719 | root | INFO | Starting up app insight hooks\n",
            "2021-02-16 11:38:18,719 | root | INFO | Invoking user's init function\n",
            "2021-02-16 11:38:19,816 | root | INFO | Users's init has completed successfully\n",
            "2021-02-16 11:38:19,821 | root | INFO | Skipping middleware: dbg_model_info as it's not enabled.\n",
            "2021-02-16 11:38:19,822 | root | INFO | Skipping middleware: dbg_resource_usage as it's not enabled.\n",
            "2021-02-16 11:38:19,823 | root | INFO | Scoring timeout is found from os.environ: 60000 ms\n",
            "2021-02-16 11:38:25,747 | root | INFO | 200\n",
            "127.0.0.1 - - [16/Feb/2021:11:38:25 +0000] \"GET /swagger.json HTTP/1.0\" 200 2824 \"-\" \"Go-http-client/1.1\"\n",
            "2021-02-16 11:38:27,883 | root | INFO | 200\n",
            "127.0.0.1 - - [16/Feb/2021:11:38:27 +0000] \"GET /swagger.json HTTP/1.0\" 200 2824 \"-\" \"Go-http-client/1.1\"\n",
            "2021-02-16 11:38:45,197 | root | INFO | Validation Request Content-Type\n",
            "2021-02-16 11:38:45,198 | root | INFO | Scoring Timer is set to 60.0 seconds\n",
            "Input:\n",
            "Index(['fixed acidity', 'volatile acidity', 'citric acid', 'residual sugar',\n",
            "       'chlorides', 'free sulfur dioxide', 'total sulfur dioxide', 'density',\n",
            "       'pH', 'sulphates', 'alcohol'],\n",
            "      dtype='object')\n",
            "<class 'pandas.core.frame.DataFrame'>\n",
            "Output:\n",
            "[5 6]\n",
            "2021-02-16 11:38:45,316 | root | INFO | 200\n",
            "127.0.0.1 - - [16/Feb/2021:11:38:45 +0000] \"POST /score HTTP/1.0\" 200 6 \"-\" \"python-requests/2.25.1\"\n",
            "\n"
          ]
        }
      ],
      "execution_count": 27,
      "metadata": {
        "jupyter": {
          "outputs_hidden": false,
          "source_hidden": false
        },
        "nteract": {
          "transient": {
            "deleting": false
          }
        }
      }
    },
    {
      "cell_type": "markdown",
      "source": [
        "Note: The cells below are helper files to be used in case original files are altered."
      ],
      "metadata": {}
    },
    {
      "cell_type": "code",
      "source": [
        "%%writefile scoring2.py\n",
        "\n",
        "# Reccomended approach\n",
        "# https://docs.microsoft.com/en-us/azure/machine-learning/how-to-deploy-and-where?tabs=python\n",
        "#\n",
        "# Inspiration for portions of code from https://docs.microsoft.com/en-us/azure/machine-learning/how-to-deploy-advanced-entry-script\n",
        "# and https://docs.microsoft.com/en-us/azure/machine-learning/tutorial-power-bi-custom-model\n",
        "#\n",
        "import json\n",
        "import pickle\n",
        "import numpy as np\n",
        "import pandas as pd\n",
        "import os\n",
        "import joblib\n",
        "from azureml.core.model import Model\n",
        "\n",
        "from inference_schema.schema_decorators import input_schema, output_schema\n",
        "from inference_schema.parameter_types.numpy_parameter_type import NumpyParameterType\n",
        "from inference_schema.parameter_types.pandas_parameter_type import PandasParameterType\n",
        "\n",
        "\n",
        "def init():\n",
        "    global model\n",
        "    path = os.getenv('AZUREML_MODEL_DIR') \n",
        "    model_path = os.path.join(path, 'automl-wine-quality-model.pkl')\n",
        "    model = joblib.load(model_path)\n",
        "\n",
        "\n",
        "input_sample = pd.DataFrame(data=[{\n",
        "            \"fixed acidity\": 7.4,\n",
        "             \"volatile acidity\": 0.7,\n",
        "             \"citric acid\": 0,\n",
        "             \"residual sugar\": 1.9,\n",
        "             \"chlorides\": 0.076,\n",
        "             \"free sulfur dioxide\": 11,\n",
        "             \"total sulfur dioxide\": 34,\n",
        "             \"density\": 0.9978,\n",
        "             \"pH\": 3.51,\n",
        "             \"sulphates\": 0.56,\n",
        "             \"alcohol\": 9.4\n",
        "}])\n",
        "\n",
        "# Expected result is inetger.\n",
        "output_sample = np.array([0])\n",
        "\n",
        "@input_schema('data', PandasParameterType(input_sample))\n",
        "@output_schema(NumpyParameterType(output_sample))\n",
        "\n",
        "def run(data):\n",
        "    try:\n",
        "        print(\"Inputs:\")\n",
        "        print(data.columns)\n",
        "        print(type(data))\n",
        "        result = model.predict(data)\n",
        "        print(\"Result:\")\n",
        "        print(result)\n",
        "        return result.tolist()\n",
        "    except Exception as e:\n",
        "        error = str(e)\n",
        "        return error"
      ],
      "outputs": [],
      "execution_count": null,
      "metadata": {
        "jupyter": {
          "outputs_hidden": false,
          "source_hidden": false
        },
        "nteract": {
          "transient": {
            "deleting": false
          }
        },
        "scrolled": false
      }
    },
    {
      "cell_type": "code",
      "source": [],
      "outputs": [],
      "execution_count": null,
      "metadata": {}
    }
  ],
  "metadata": {
    "kernel_info": {
      "name": "python3"
    },
    "kernelspec": {
      "name": "python3",
      "language": "python",
      "display_name": "Python 3"
    },
    "language_info": {
      "name": "python",
      "version": "3.6.9",
      "mimetype": "text/x-python",
      "codemirror_mode": {
        "name": "ipython",
        "version": 3
      },
      "pygments_lexer": "ipython3",
      "nbconvert_exporter": "python",
      "file_extension": ".py"
    },
    "nteract": {
      "version": "nteract-front-end@1.0.0"
    }
  },
  "nbformat": 4,
  "nbformat_minor": 2
}